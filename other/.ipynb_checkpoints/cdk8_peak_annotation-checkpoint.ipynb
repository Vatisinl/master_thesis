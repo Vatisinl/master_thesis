{
 "cells": [
  {
   "cell_type": "code",
   "execution_count": 2,
   "id": "fb86e448-75b3-40b9-840f-082bd64f02fe",
   "metadata": {
    "scrolled": true
   },
   "outputs": [
    {
     "name": "stderr",
     "output_type": "stream",
     "text": [
      "\n",
      "\n",
      "ChIPseeker v1.42.0 Learn more at https://yulab-smu.top/contribution-knowledge-mining/\n",
      "\n",
      "Please cite:\n",
      "\n",
      "Qianwen Wang, Ming Li, Tianzhi Wu, Li Zhan, Lin Li, Meijun Chen, Wenqin\n",
      "Xie, Zijing Xie, Erqiang Hu, Shuangbin Xu, Guangchuang Yu. Exploring\n",
      "epigenomic datasets by ChIPseeker. Current Protocols. 2022, 2(10): e585\n",
      "\n",
      "clusterProfiler v4.14.4 Learn more at https://yulab-smu.top/contribution-knowledge-mining/\n",
      "\n",
      "Please cite:\n",
      "\n",
      "Guangchuang Yu, Li-Gen Wang, Yanyan Han and Qing-Yu He.\n",
      "clusterProfiler: an R package for comparing biological themes among\n",
      "gene clusters. OMICS: A Journal of Integrative Biology. 2012,\n",
      "16(5):284-287\n",
      "\n",
      "\n",
      "Attaching package: ‘clusterProfiler’\n",
      "\n",
      "\n",
      "The following object is masked from ‘package:stats’:\n",
      "\n",
      "    filter\n",
      "\n",
      "\n",
      "Loading required package: GenomicFeatures\n",
      "\n",
      "Loading required package: BiocGenerics\n",
      "\n",
      "\n",
      "Attaching package: ‘BiocGenerics’\n",
      "\n",
      "\n",
      "The following objects are masked from ‘package:stats’:\n",
      "\n",
      "    IQR, mad, sd, var, xtabs\n",
      "\n",
      "\n",
      "The following objects are masked from ‘package:base’:\n",
      "\n",
      "    anyDuplicated, aperm, append, as.data.frame, basename, cbind,\n",
      "    colnames, dirname, do.call, duplicated, eval, evalq, Filter, Find,\n",
      "    get, grep, grepl, intersect, is.unsorted, lapply, Map, mapply,\n",
      "    match, mget, order, paste, pmax, pmax.int, pmin, pmin.int,\n",
      "    Position, rank, rbind, Reduce, rownames, sapply, saveRDS, setdiff,\n",
      "    table, tapply, union, unique, unsplit, which.max, which.min\n",
      "\n",
      "\n",
      "Loading required package: S4Vectors\n",
      "\n",
      "Loading required package: stats4\n",
      "\n",
      "\n",
      "Attaching package: ‘S4Vectors’\n",
      "\n",
      "\n",
      "The following object is masked from ‘package:clusterProfiler’:\n",
      "\n",
      "    rename\n",
      "\n",
      "\n",
      "The following object is masked from ‘package:utils’:\n",
      "\n",
      "    findMatches\n",
      "\n",
      "\n",
      "The following objects are masked from ‘package:base’:\n",
      "\n",
      "    expand.grid, I, unname\n",
      "\n",
      "\n",
      "Loading required package: IRanges\n",
      "\n",
      "\n",
      "Attaching package: ‘IRanges’\n",
      "\n",
      "\n",
      "The following object is masked from ‘package:clusterProfiler’:\n",
      "\n",
      "    slice\n",
      "\n",
      "\n",
      "Loading required package: GenomeInfoDb\n",
      "\n",
      "Loading required package: GenomicRanges\n",
      "\n",
      "Loading required package: AnnotationDbi\n",
      "\n",
      "Loading required package: Biobase\n",
      "\n",
      "Welcome to Bioconductor\n",
      "\n",
      "    Vignettes contain introductory material; view with\n",
      "    'browseVignettes()'. To cite Bioconductor, see\n",
      "    'citation(\"Biobase\")', and for packages 'citation(\"pkgname\")'.\n",
      "\n",
      "\n",
      "\n",
      "Attaching package: ‘AnnotationDbi’\n",
      "\n",
      "\n",
      "The following object is masked from ‘package:clusterProfiler’:\n",
      "\n",
      "    select\n",
      "\n",
      "\n",
      "\n",
      "\n",
      "\n",
      "Attaching package: 'tidyr'\n",
      "\n",
      "\n",
      "The following object is masked from 'package:S4Vectors':\n",
      "\n",
      "    expand\n",
      "\n",
      "\n"
     ]
    }
   ],
   "source": [
    "library(ChIPseeker)\n",
    "library(clusterProfiler)\n",
    "library(TxDb.Mmusculus.UCSC.mm10.knownGene)\n",
    "library(ChIPpeakAnno)\n",
    "library(org.Mm.eg.db)\n",
    "library(tidyr)"
   ]
  },
  {
   "cell_type": "code",
   "execution_count": 3,
   "id": "4793217f-7b0e-4bb6-ae71-9aa69d392111",
   "metadata": {},
   "outputs": [],
   "source": [
    "txdb <- TxDb.Mmusculus.UCSC.mm10.knownGene\n",
    "#annotation pack"
   ]
  },
  {
   "cell_type": "code",
   "execution_count": 4,
   "id": "9917610f-9319-4523-a1e7-c5e5f01ae932",
   "metadata": {},
   "outputs": [],
   "source": [
    "bed <- read.csv('Oth.ALL.05.Cdk8.AllCell.bed', skip = 1, header = FALSE, sep='\\t')\n",
    "#a file from chip atlas to annotate"
   ]
  },
  {
   "cell_type": "code",
   "execution_count": 5,
   "id": "67567aff-c676-4bec-b820-b6e196c39ef7",
   "metadata": {},
   "outputs": [],
   "source": [
    "colnames(bed) <- c('chr', 'start', 'end', 'technical', 'value', 'strand?', 'start2', 'end2', 'three')"
   ]
  },
  {
   "cell_type": "code",
   "execution_count": 6,
   "id": "56bdd1f1-7975-46a8-abdb-aceb63d48463",
   "metadata": {},
   "outputs": [
    {
     "name": "stderr",
     "output_type": "stream",
     "text": [
      "duplicated or NA names found. Rename all the names by numbers.\n",
      "\n"
     ]
    }
   ],
   "source": [
    "granger <- ChIPpeakAnno::toGRanges(bed, format=\"BED\")"
   ]
  },
  {
   "cell_type": "code",
   "execution_count": 7,
   "id": "d7c6692f-a351-4ccd-8f0c-dbf22746671b",
   "metadata": {},
   "outputs": [
    {
     "name": "stdout",
     "output_type": "stream",
     "text": [
      ">> preparing features information...\t\t 2025-02-12 04:05:29 PM \n",
      ">> identifying nearest features...\t\t 2025-02-12 04:05:31 PM \n",
      ">> calculating distance from peak to TSS...\t 2025-02-12 04:05:33 PM \n",
      ">> assigning genomic annotation...\t\t 2025-02-12 04:05:33 PM \n",
      ">> adding gene annotation...\t\t\t 2025-02-12 04:05:54 PM \n"
     ]
    },
    {
     "name": "stderr",
     "output_type": "stream",
     "text": [
      "'select()' returned 1:many mapping between keys and columns\n",
      "\n"
     ]
    },
    {
     "name": "stdout",
     "output_type": "stream",
     "text": [
      ">> assigning chromosome lengths\t\t\t 2025-02-12 04:05:55 PM \n",
      ">> done...\t\t\t\t\t 2025-02-12 04:05:55 PM \n"
     ]
    }
   ],
   "source": [
    "peakAnno <- annotatePeak(granger, tssRegion=c(-3000, 3000),\n",
    "                         TxDb=txdb, annoDb=\"org.Mm.eg.db\")"
   ]
  },
  {
   "cell_type": "code",
   "execution_count": 21,
   "id": "84a90a07-3452-4510-8610-31efa1ff712f",
   "metadata": {
    "scrolled": true
   },
   "outputs": [
    {
     "data": {
      "text/html": [
       "<table class=\"dataframe\">\n",
       "<caption>A data.frame: 47690 × 23</caption>\n",
       "<thead>\n",
       "\t<tr><th scope=col>seqnames</th><th scope=col>start</th><th scope=col>end</th><th scope=col>width</th><th scope=col>strand</th><th scope=col>technical</th><th scope=col>value</th><th scope=col>strand.</th><th scope=col>start2</th><th scope=col>end2</th><th scope=col>⋯</th><th scope=col>geneStart</th><th scope=col>geneEnd</th><th scope=col>geneLength</th><th scope=col>geneStrand</th><th scope=col>geneId</th><th scope=col>transcriptId</th><th scope=col>distanceToTSS</th><th scope=col>ENSEMBL</th><th scope=col>SYMBOL</th><th scope=col>GENENAME</th></tr>\n",
       "\t<tr><th scope=col>&lt;fct&gt;</th><th scope=col>&lt;int&gt;</th><th scope=col>&lt;int&gt;</th><th scope=col>&lt;int&gt;</th><th scope=col>&lt;fct&gt;</th><th scope=col>&lt;chr&gt;</th><th scope=col>&lt;int&gt;</th><th scope=col>&lt;chr&gt;</th><th scope=col>&lt;int&gt;</th><th scope=col>&lt;int&gt;</th><th scope=col>⋯</th><th scope=col>&lt;int&gt;</th><th scope=col>&lt;int&gt;</th><th scope=col>&lt;int&gt;</th><th scope=col>&lt;int&gt;</th><th scope=col>&lt;chr&gt;</th><th scope=col>&lt;chr&gt;</th><th scope=col>&lt;dbl&gt;</th><th scope=col>&lt;chr&gt;</th><th scope=col>&lt;chr&gt;</th><th scope=col>&lt;chr&gt;</th></tr>\n",
       "</thead>\n",
       "<tbody>\n",
       "\t<tr><td>chr1</td><td>3042841</td><td>3043263</td><td>423</td><td>*</td><td>ID=SRX2793944;Name=Cdk8%20(@%20ES%20cells);Title=GSM2611279:%20Fbxl19flfl%20OHT%20CDK8%20rep1%3B%20Mus%20musculus%3B%20ChIP-Seq;Cell%20group=Pluripotent%20stem%20cell;&lt;br&gt;source_name=Fbxl19flfl_OHT_CDK8;cell%20line=Fbxl19%20fl/fl;cell%20type=mouse%20embryonic%20stem%20cells;treated%20with=800nM%204-hydroxytamoxifen%20for%2096%20h;antibody=CDK8%20(Bethyl%20Laboratories,%20A302-500A,%20lot%20A302-500A-1);replicate=1;passage=13-20;</td><td>349</td><td>.</td><td>3042840</td><td>3043263</td><td>⋯</td><td>3214482</td><td>3671498</td><td>457017</td><td>2</td><td>497097</td><td>ENSMUST00000070533.4</td><td> 628235</td><td>ENSMUSG00000051951</td><td>Xkr4</td><td>X-linked Kx blood group related 4</td></tr>\n",
       "\t<tr><td>chr1</td><td>3042877</td><td>3043270</td><td>394</td><td>*</td><td><span style=white-space:pre-wrap>ID=SRX2793940;Name=Cdk8%20(@%20ES%20cells);Title=GSM2611275:%20Fbxl19flfl%20UNT%20CDK8%20rep1%3B%20Mus%20musculus%3B%20ChIP-Seq;Cell%20group=Pluripotent%20stem%20cell;&lt;br&gt;source_name=Fbxl19flfl_UNT_CDK8;cell%20line=Fbxl19%20fl/fl;cell%20type=mouse%20embryonic%20stem%20cells;treated%20with=none%20(untreated);antibody=CDK8%20(Bethyl%20Laboratories,%20A302-500A,%20lot%20A302-500A-1);replicate=1;passage=13-20;                       </span></td><td>232</td><td>.</td><td>3042876</td><td>3043270</td><td>⋯</td><td>3214482</td><td>3671498</td><td>457017</td><td>2</td><td>497097</td><td>ENSMUST00000070533.4</td><td> 628228</td><td>ENSMUSG00000051951</td><td>Xkr4</td><td>X-linked Kx blood group related 4</td></tr>\n",
       "\t<tr><td>chr1</td><td>3043033</td><td>3043264</td><td>232</td><td>*</td><td><span style=white-space:pre-wrap>ID=SRX2793941;Name=Cdk8%20(@%20ES%20cells);Title=GSM2611276:%20Fbxl19flfl%20UNT%20CDK8%20rep2%3B%20Mus%20musculus%3B%20ChIP-Seq;Cell%20group=Pluripotent%20stem%20cell;&lt;br&gt;source_name=Fbxl19flfl_UNT_CDK8;cell%20line=Fbxl19%20fl/fl;cell%20type=mouse%20embryonic%20stem%20cells;treated%20with=none%20(untreated);antibody=CDK8%20(Bethyl%20Laboratories,%20A302-500A,%20lot%20A302-500A-1);replicate=2;passage=13-20;                       </span></td><td>339</td><td>.</td><td>3043032</td><td>3043264</td><td>⋯</td><td>3214482</td><td>3671498</td><td>457017</td><td>2</td><td>497097</td><td>ENSMUST00000070533.4</td><td> 628234</td><td>ENSMUSG00000051951</td><td>Xkr4</td><td>X-linked Kx blood group related 4</td></tr>\n",
       "\t<tr><td>chr1</td><td>3043060</td><td>3043250</td><td>191</td><td>*</td><td>ID=SRX2793945;Name=Cdk8%20(@%20ES%20cells);Title=GSM2611280:%20Fbxl19flfl%20OHT%20CDK8%20rep2%3B%20Mus%20musculus%3B%20ChIP-Seq;Cell%20group=Pluripotent%20stem%20cell;&lt;br&gt;source_name=Fbxl19flfl_OHT_CDK8;cell%20line=Fbxl19%20fl/fl;cell%20type=mouse%20embryonic%20stem%20cells;treated%20with=800nM%204-hydroxytamoxifen%20for%2096%20h;antibody=CDK8%20(Bethyl%20Laboratories,%20A302-500A,%20lot%20A302-500A-1);replicate=2;passage=13-20;</td><td>202</td><td>.</td><td>3043059</td><td>3043250</td><td>⋯</td><td>3214482</td><td>3671498</td><td>457017</td><td>2</td><td>497097</td><td>ENSMUST00000070533.4</td><td> 628248</td><td>ENSMUSG00000051951</td><td>Xkr4</td><td>X-linked Kx blood group related 4</td></tr>\n",
       "\t<tr><td>chr1</td><td>3062848</td><td>3063078</td><td>231</td><td>*</td><td>ID=SRX2793944;Name=Cdk8%20(@%20ES%20cells);Title=GSM2611279:%20Fbxl19flfl%20OHT%20CDK8%20rep1%3B%20Mus%20musculus%3B%20ChIP-Seq;Cell%20group=Pluripotent%20stem%20cell;&lt;br&gt;source_name=Fbxl19flfl_OHT_CDK8;cell%20line=Fbxl19%20fl/fl;cell%20type=mouse%20embryonic%20stem%20cells;treated%20with=800nM%204-hydroxytamoxifen%20for%2096%20h;antibody=CDK8%20(Bethyl%20Laboratories,%20A302-500A,%20lot%20A302-500A-1);replicate=1;passage=13-20;</td><td>433</td><td>.</td><td>3062847</td><td>3063078</td><td>⋯</td><td>3214482</td><td>3671498</td><td>457017</td><td>2</td><td>497097</td><td>ENSMUST00000070533.4</td><td> 608420</td><td>ENSMUSG00000051951</td><td>Xkr4</td><td>X-linked Kx blood group related 4</td></tr>\n",
       "\t<tr><td>chr1</td><td>3062873</td><td>3063079</td><td>207</td><td>*</td><td><span style=white-space:pre-wrap>ID=SRX2793941;Name=Cdk8%20(@%20ES%20cells);Title=GSM2611276:%20Fbxl19flfl%20UNT%20CDK8%20rep2%3B%20Mus%20musculus%3B%20ChIP-Seq;Cell%20group=Pluripotent%20stem%20cell;&lt;br&gt;source_name=Fbxl19flfl_UNT_CDK8;cell%20line=Fbxl19%20fl/fl;cell%20type=mouse%20embryonic%20stem%20cells;treated%20with=none%20(untreated);antibody=CDK8%20(Bethyl%20Laboratories,%20A302-500A,%20lot%20A302-500A-1);replicate=2;passage=13-20;                       </span></td><td>423</td><td>.</td><td>3062872</td><td>3063079</td><td>⋯</td><td>3214482</td><td>3671498</td><td>457017</td><td>2</td><td>497097</td><td>ENSMUST00000070533.4</td><td> 608419</td><td>ENSMUSG00000051951</td><td>Xkr4</td><td>X-linked Kx blood group related 4</td></tr>\n",
       "\t<tr><td>chr1</td><td>3062889</td><td>3063054</td><td>166</td><td>*</td><td>ID=SRX2793945;Name=Cdk8%20(@%20ES%20cells);Title=GSM2611280:%20Fbxl19flfl%20OHT%20CDK8%20rep2%3B%20Mus%20musculus%3B%20ChIP-Seq;Cell%20group=Pluripotent%20stem%20cell;&lt;br&gt;source_name=Fbxl19flfl_OHT_CDK8;cell%20line=Fbxl19%20fl/fl;cell%20type=mouse%20embryonic%20stem%20cells;treated%20with=800nM%204-hydroxytamoxifen%20for%2096%20h;antibody=CDK8%20(Bethyl%20Laboratories,%20A302-500A,%20lot%20A302-500A-1);replicate=2;passage=13-20;</td><td>180</td><td>.</td><td>3062888</td><td>3063054</td><td>⋯</td><td>3214482</td><td>3671498</td><td>457017</td><td>2</td><td>497097</td><td>ENSMUST00000070533.4</td><td> 608444</td><td>ENSMUSG00000051951</td><td>Xkr4</td><td>X-linked Kx blood group related 4</td></tr>\n",
       "\t<tr><td>chr1</td><td>3482883</td><td>3483225</td><td>343</td><td>*</td><td><span style=white-space:pre-wrap>ID=SRX2793941;Name=Cdk8%20(@%20ES%20cells);Title=GSM2611276:%20Fbxl19flfl%20UNT%20CDK8%20rep2%3B%20Mus%20musculus%3B%20ChIP-Seq;Cell%20group=Pluripotent%20stem%20cell;&lt;br&gt;source_name=Fbxl19flfl_UNT_CDK8;cell%20line=Fbxl19%20fl/fl;cell%20type=mouse%20embryonic%20stem%20cells;treated%20with=none%20(untreated);antibody=CDK8%20(Bethyl%20Laboratories,%20A302-500A,%20lot%20A302-500A-1);replicate=2;passage=13-20;                       </span></td><td>783</td><td>.</td><td>3482882</td><td>3483225</td><td>⋯</td><td>3214482</td><td>3671498</td><td>457017</td><td>2</td><td>497097</td><td>ENSMUST00000070533.4</td><td> 188273</td><td>ENSMUSG00000051951</td><td>Xkr4</td><td>X-linked Kx blood group related 4</td></tr>\n",
       "\t<tr><td>chr1</td><td>3482888</td><td>3483193</td><td>306</td><td>*</td><td>ID=SRX2793944;Name=Cdk8%20(@%20ES%20cells);Title=GSM2611279:%20Fbxl19flfl%20OHT%20CDK8%20rep1%3B%20Mus%20musculus%3B%20ChIP-Seq;Cell%20group=Pluripotent%20stem%20cell;&lt;br&gt;source_name=Fbxl19flfl_OHT_CDK8;cell%20line=Fbxl19%20fl/fl;cell%20type=mouse%20embryonic%20stem%20cells;treated%20with=800nM%204-hydroxytamoxifen%20for%2096%20h;antibody=CDK8%20(Bethyl%20Laboratories,%20A302-500A,%20lot%20A302-500A-1);replicate=1;passage=13-20;</td><td>547</td><td>.</td><td>3482887</td><td>3483193</td><td>⋯</td><td>3214482</td><td>3671498</td><td>457017</td><td>2</td><td>497097</td><td>ENSMUST00000070533.4</td><td> 188305</td><td>ENSMUSG00000051951</td><td>Xkr4</td><td>X-linked Kx blood group related 4</td></tr>\n",
       "\t<tr><td>chr1</td><td>3482892</td><td>3483207</td><td>316</td><td>*</td><td><span style=white-space:pre-wrap>ID=SRX2793940;Name=Cdk8%20(@%20ES%20cells);Title=GSM2611275:%20Fbxl19flfl%20UNT%20CDK8%20rep1%3B%20Mus%20musculus%3B%20ChIP-Seq;Cell%20group=Pluripotent%20stem%20cell;&lt;br&gt;source_name=Fbxl19flfl_UNT_CDK8;cell%20line=Fbxl19%20fl/fl;cell%20type=mouse%20embryonic%20stem%20cells;treated%20with=none%20(untreated);antibody=CDK8%20(Bethyl%20Laboratories,%20A302-500A,%20lot%20A302-500A-1);replicate=1;passage=13-20;                       </span></td><td>354</td><td>.</td><td>3482891</td><td>3483207</td><td>⋯</td><td>3214482</td><td>3671498</td><td>457017</td><td>2</td><td>497097</td><td>ENSMUST00000070533.4</td><td> 188291</td><td>ENSMUSG00000051951</td><td>Xkr4</td><td>X-linked Kx blood group related 4</td></tr>\n",
       "\t<tr><td>chr1</td><td>3482911</td><td>3483255</td><td>345</td><td>*</td><td>ID=SRX2793945;Name=Cdk8%20(@%20ES%20cells);Title=GSM2611280:%20Fbxl19flfl%20OHT%20CDK8%20rep2%3B%20Mus%20musculus%3B%20ChIP-Seq;Cell%20group=Pluripotent%20stem%20cell;&lt;br&gt;source_name=Fbxl19flfl_OHT_CDK8;cell%20line=Fbxl19%20fl/fl;cell%20type=mouse%20embryonic%20stem%20cells;treated%20with=800nM%204-hydroxytamoxifen%20for%2096%20h;antibody=CDK8%20(Bethyl%20Laboratories,%20A302-500A,%20lot%20A302-500A-1);replicate=2;passage=13-20;</td><td>348</td><td>.</td><td>3482910</td><td>3483255</td><td>⋯</td><td>3214482</td><td>3671498</td><td>457017</td><td>2</td><td>497097</td><td>ENSMUST00000070533.4</td><td> 188243</td><td>ENSMUSG00000051951</td><td>Xkr4</td><td>X-linked Kx blood group related 4</td></tr>\n",
       "\t<tr><td>chr1</td><td>3482999</td><td>3483218</td><td>220</td><td>*</td><td><span style=white-space:pre-wrap>ID=SRX236482;Name=Cdk8%20(@%20ES%20cells);Title=GSM1082346:%20Cdk8%20mES%20r2%20ChipSeq%3B%20Mus%20musculus%3B%20ChIP-Seq;Cell%20group=Pluripotent%20stem%20cell;&lt;br&gt;source_name=Embryonic%20stem%20cells;chip%20antibody=cdk8;antibody%20vendor%20and%20catalog%20number=Santa%20Cruz%20SC-1521;background%20strain=C57BL/6-129;                                                                                                               </span></td><td>111</td><td>.</td><td>3482998</td><td>3483218</td><td>⋯</td><td>3214482</td><td>3671498</td><td>457017</td><td>2</td><td>497097</td><td>ENSMUST00000070533.4</td><td> 188280</td><td>ENSMUSG00000051951</td><td>Xkr4</td><td>X-linked Kx blood group related 4</td></tr>\n",
       "\t<tr><td>chr1</td><td>3549422</td><td>3549830</td><td>409</td><td>*</td><td>ID=SRX2793944;Name=Cdk8%20(@%20ES%20cells);Title=GSM2611279:%20Fbxl19flfl%20OHT%20CDK8%20rep1%3B%20Mus%20musculus%3B%20ChIP-Seq;Cell%20group=Pluripotent%20stem%20cell;&lt;br&gt;source_name=Fbxl19flfl_OHT_CDK8;cell%20line=Fbxl19%20fl/fl;cell%20type=mouse%20embryonic%20stem%20cells;treated%20with=800nM%204-hydroxytamoxifen%20for%2096%20h;antibody=CDK8%20(Bethyl%20Laboratories,%20A302-500A,%20lot%20A302-500A-1);replicate=1;passage=13-20;</td><td>177</td><td>.</td><td>3549421</td><td>3549830</td><td>⋯</td><td>3214482</td><td>3671498</td><td>457017</td><td>2</td><td>497097</td><td>ENSMUST00000070533.4</td><td> 121668</td><td>ENSMUSG00000051951</td><td>Xkr4</td><td>X-linked Kx blood group related 4</td></tr>\n",
       "\t<tr><td>chr1</td><td>3549441</td><td>3549770</td><td>330</td><td>*</td><td><span style=white-space:pre-wrap>ID=SRX2793941;Name=Cdk8%20(@%20ES%20cells);Title=GSM2611276:%20Fbxl19flfl%20UNT%20CDK8%20rep2%3B%20Mus%20musculus%3B%20ChIP-Seq;Cell%20group=Pluripotent%20stem%20cell;&lt;br&gt;source_name=Fbxl19flfl_UNT_CDK8;cell%20line=Fbxl19%20fl/fl;cell%20type=mouse%20embryonic%20stem%20cells;treated%20with=none%20(untreated);antibody=CDK8%20(Bethyl%20Laboratories,%20A302-500A,%20lot%20A302-500A-1);replicate=2;passage=13-20;                       </span></td><td>157</td><td>.</td><td>3549440</td><td>3549770</td><td>⋯</td><td>3214482</td><td>3671498</td><td>457017</td><td>2</td><td>497097</td><td>ENSMUST00000070533.4</td><td> 121728</td><td>ENSMUSG00000051951</td><td>Xkr4</td><td>X-linked Kx blood group related 4</td></tr>\n",
       "\t<tr><td>chr1</td><td>3549489</td><td>3549716</td><td>228</td><td>*</td><td>ID=SRX2793945;Name=Cdk8%20(@%20ES%20cells);Title=GSM2611280:%20Fbxl19flfl%20OHT%20CDK8%20rep2%3B%20Mus%20musculus%3B%20ChIP-Seq;Cell%20group=Pluripotent%20stem%20cell;&lt;br&gt;source_name=Fbxl19flfl_OHT_CDK8;cell%20line=Fbxl19%20fl/fl;cell%20type=mouse%20embryonic%20stem%20cells;treated%20with=800nM%204-hydroxytamoxifen%20for%2096%20h;antibody=CDK8%20(Bethyl%20Laboratories,%20A302-500A,%20lot%20A302-500A-1);replicate=2;passage=13-20;</td><td> 87</td><td>.</td><td>3549488</td><td>3549716</td><td>⋯</td><td>3214482</td><td>3671498</td><td>457017</td><td>2</td><td>497097</td><td>ENSMUST00000070533.4</td><td> 121782</td><td>ENSMUSG00000051951</td><td>Xkr4</td><td>X-linked Kx blood group related 4</td></tr>\n",
       "\t<tr><td>chr1</td><td>3671646</td><td>3671854</td><td>209</td><td>*</td><td><span style=white-space:pre-wrap>ID=SRX2793941;Name=Cdk8%20(@%20ES%20cells);Title=GSM2611276:%20Fbxl19flfl%20UNT%20CDK8%20rep2%3B%20Mus%20musculus%3B%20ChIP-Seq;Cell%20group=Pluripotent%20stem%20cell;&lt;br&gt;source_name=Fbxl19flfl_UNT_CDK8;cell%20line=Fbxl19%20fl/fl;cell%20type=mouse%20embryonic%20stem%20cells;treated%20with=none%20(untreated);antibody=CDK8%20(Bethyl%20Laboratories,%20A302-500A,%20lot%20A302-500A-1);replicate=2;passage=13-20;                       </span></td><td>110</td><td>.</td><td>3671645</td><td>3671854</td><td>⋯</td><td>3214482</td><td>3671498</td><td>457017</td><td>2</td><td>497097</td><td>ENSMUST00000070533.4</td><td><span style=white-space:pre-wrap>   -148</span></td><td>ENSMUSG00000051951</td><td>Xkr4</td><td>X-linked Kx blood group related 4</td></tr>\n",
       "\t<tr><td>chr1</td><td>3681536</td><td>3681831</td><td>296</td><td>*</td><td><span style=white-space:pre-wrap>ID=SRX2793941;Name=Cdk8%20(@%20ES%20cells);Title=GSM2611276:%20Fbxl19flfl%20UNT%20CDK8%20rep2%3B%20Mus%20musculus%3B%20ChIP-Seq;Cell%20group=Pluripotent%20stem%20cell;&lt;br&gt;source_name=Fbxl19flfl_UNT_CDK8;cell%20line=Fbxl19%20fl/fl;cell%20type=mouse%20embryonic%20stem%20cells;treated%20with=none%20(untreated);antibody=CDK8%20(Bethyl%20Laboratories,%20A302-500A,%20lot%20A302-500A-1);replicate=2;passage=13-20;                       </span></td><td>510</td><td>.</td><td>3681535</td><td>3681831</td><td>⋯</td><td>3214482</td><td>3671498</td><td>457017</td><td>2</td><td>497097</td><td>ENSMUST00000070533.4</td><td> -10038</td><td>ENSMUSG00000051951</td><td>Xkr4</td><td>X-linked Kx blood group related 4</td></tr>\n",
       "\t<tr><td>chr1</td><td>3681541</td><td>3681748</td><td>208</td><td>*</td><td><span style=white-space:pre-wrap>ID=SRX2793940;Name=Cdk8%20(@%20ES%20cells);Title=GSM2611275:%20Fbxl19flfl%20UNT%20CDK8%20rep1%3B%20Mus%20musculus%3B%20ChIP-Seq;Cell%20group=Pluripotent%20stem%20cell;&lt;br&gt;source_name=Fbxl19flfl_UNT_CDK8;cell%20line=Fbxl19%20fl/fl;cell%20type=mouse%20embryonic%20stem%20cells;treated%20with=none%20(untreated);antibody=CDK8%20(Bethyl%20Laboratories,%20A302-500A,%20lot%20A302-500A-1);replicate=1;passage=13-20;                       </span></td><td>173</td><td>.</td><td>3681540</td><td>3681748</td><td>⋯</td><td>3214482</td><td>3671498</td><td>457017</td><td>2</td><td>497097</td><td>ENSMUST00000070533.4</td><td> -10043</td><td>ENSMUSG00000051951</td><td>Xkr4</td><td>X-linked Kx blood group related 4</td></tr>\n",
       "\t<tr><td>chr1</td><td>3681550</td><td>3681798</td><td>249</td><td>*</td><td>ID=SRX2793944;Name=Cdk8%20(@%20ES%20cells);Title=GSM2611279:%20Fbxl19flfl%20OHT%20CDK8%20rep1%3B%20Mus%20musculus%3B%20ChIP-Seq;Cell%20group=Pluripotent%20stem%20cell;&lt;br&gt;source_name=Fbxl19flfl_OHT_CDK8;cell%20line=Fbxl19%20fl/fl;cell%20type=mouse%20embryonic%20stem%20cells;treated%20with=800nM%204-hydroxytamoxifen%20for%2096%20h;antibody=CDK8%20(Bethyl%20Laboratories,%20A302-500A,%20lot%20A302-500A-1);replicate=1;passage=13-20;</td><td>281</td><td>.</td><td>3681549</td><td>3681798</td><td>⋯</td><td>3214482</td><td>3671498</td><td>457017</td><td>2</td><td>497097</td><td>ENSMUST00000070533.4</td><td> -10052</td><td>ENSMUSG00000051951</td><td>Xkr4</td><td>X-linked Kx blood group related 4</td></tr>\n",
       "\t<tr><td>chr1</td><td>3681556</td><td>3681815</td><td>260</td><td>*</td><td>ID=SRX2793945;Name=Cdk8%20(@%20ES%20cells);Title=GSM2611280:%20Fbxl19flfl%20OHT%20CDK8%20rep2%3B%20Mus%20musculus%3B%20ChIP-Seq;Cell%20group=Pluripotent%20stem%20cell;&lt;br&gt;source_name=Fbxl19flfl_OHT_CDK8;cell%20line=Fbxl19%20fl/fl;cell%20type=mouse%20embryonic%20stem%20cells;treated%20with=800nM%204-hydroxytamoxifen%20for%2096%20h;antibody=CDK8%20(Bethyl%20Laboratories,%20A302-500A,%20lot%20A302-500A-1);replicate=2;passage=13-20;</td><td>291</td><td>.</td><td>3681555</td><td>3681815</td><td>⋯</td><td>3214482</td><td>3671498</td><td>457017</td><td>2</td><td>497097</td><td>ENSMUST00000070533.4</td><td> -10058</td><td>ENSMUSG00000051951</td><td>Xkr4</td><td>X-linked Kx blood group related 4</td></tr>\n",
       "\t<tr><td>chr1</td><td>3953653</td><td>3953887</td><td>235</td><td>*</td><td><span style=white-space:pre-wrap>ID=SRX2793941;Name=Cdk8%20(@%20ES%20cells);Title=GSM2611276:%20Fbxl19flfl%20UNT%20CDK8%20rep2%3B%20Mus%20musculus%3B%20ChIP-Seq;Cell%20group=Pluripotent%20stem%20cell;&lt;br&gt;source_name=Fbxl19flfl_UNT_CDK8;cell%20line=Fbxl19%20fl/fl;cell%20type=mouse%20embryonic%20stem%20cells;treated%20with=none%20(untreated);antibody=CDK8%20(Bethyl%20Laboratories,%20A302-500A,%20lot%20A302-500A-1);replicate=2;passage=13-20;                       </span></td><td>276</td><td>.</td><td>3953652</td><td>3953887</td><td>⋯</td><td>3214482</td><td>3671498</td><td>457017</td><td>2</td><td>497097</td><td>ENSMUST00000070533.4</td><td>-282155</td><td>ENSMUSG00000051951</td><td>Xkr4</td><td>X-linked Kx blood group related 4</td></tr>\n",
       "\t<tr><td>chr1</td><td>3953659</td><td>3953864</td><td>206</td><td>*</td><td>ID=SRX2793944;Name=Cdk8%20(@%20ES%20cells);Title=GSM2611279:%20Fbxl19flfl%20OHT%20CDK8%20rep1%3B%20Mus%20musculus%3B%20ChIP-Seq;Cell%20group=Pluripotent%20stem%20cell;&lt;br&gt;source_name=Fbxl19flfl_OHT_CDK8;cell%20line=Fbxl19%20fl/fl;cell%20type=mouse%20embryonic%20stem%20cells;treated%20with=800nM%204-hydroxytamoxifen%20for%2096%20h;antibody=CDK8%20(Bethyl%20Laboratories,%20A302-500A,%20lot%20A302-500A-1);replicate=1;passage=13-20;</td><td>167</td><td>.</td><td>3953658</td><td>3953864</td><td>⋯</td><td>3214482</td><td>3671498</td><td>457017</td><td>2</td><td>497097</td><td>ENSMUST00000070533.4</td><td>-282161</td><td>ENSMUSG00000051951</td><td>Xkr4</td><td>X-linked Kx blood group related 4</td></tr>\n",
       "\t<tr><td>chr1</td><td>3953702</td><td>3953873</td><td>172</td><td>*</td><td>ID=SRX2793945;Name=Cdk8%20(@%20ES%20cells);Title=GSM2611280:%20Fbxl19flfl%20OHT%20CDK8%20rep2%3B%20Mus%20musculus%3B%20ChIP-Seq;Cell%20group=Pluripotent%20stem%20cell;&lt;br&gt;source_name=Fbxl19flfl_OHT_CDK8;cell%20line=Fbxl19%20fl/fl;cell%20type=mouse%20embryonic%20stem%20cells;treated%20with=800nM%204-hydroxytamoxifen%20for%2096%20h;antibody=CDK8%20(Bethyl%20Laboratories,%20A302-500A,%20lot%20A302-500A-1);replicate=2;passage=13-20;</td><td>138</td><td>.</td><td>3953701</td><td>3953873</td><td>⋯</td><td>3214482</td><td>3671498</td><td>457017</td><td>2</td><td>497097</td><td>ENSMUST00000070533.4</td><td>-282204</td><td>ENSMUSG00000051951</td><td>Xkr4</td><td>X-linked Kx blood group related 4</td></tr>\n",
       "\t<tr><td>chr1</td><td>3982085</td><td>3982249</td><td>165</td><td>*</td><td><span style=white-space:pre-wrap>ID=SRX2793941;Name=Cdk8%20(@%20ES%20cells);Title=GSM2611276:%20Fbxl19flfl%20UNT%20CDK8%20rep2%3B%20Mus%20musculus%3B%20ChIP-Seq;Cell%20group=Pluripotent%20stem%20cell;&lt;br&gt;source_name=Fbxl19flfl_UNT_CDK8;cell%20line=Fbxl19%20fl/fl;cell%20type=mouse%20embryonic%20stem%20cells;treated%20with=none%20(untreated);antibody=CDK8%20(Bethyl%20Laboratories,%20A302-500A,%20lot%20A302-500A-1);replicate=2;passage=13-20;                       </span></td><td>141</td><td>.</td><td>3982084</td><td>3982249</td><td>⋯</td><td>3214482</td><td>3671498</td><td>457017</td><td>2</td><td>497097</td><td>ENSMUST00000070533.4</td><td>-310587</td><td>ENSMUSG00000051951</td><td>Xkr4</td><td>X-linked Kx blood group related 4</td></tr>\n",
       "\t<tr><td>chr1</td><td>3982087</td><td>3982283</td><td>197</td><td>*</td><td>ID=SRX2793944;Name=Cdk8%20(@%20ES%20cells);Title=GSM2611279:%20Fbxl19flfl%20OHT%20CDK8%20rep1%3B%20Mus%20musculus%3B%20ChIP-Seq;Cell%20group=Pluripotent%20stem%20cell;&lt;br&gt;source_name=Fbxl19flfl_OHT_CDK8;cell%20line=Fbxl19%20fl/fl;cell%20type=mouse%20embryonic%20stem%20cells;treated%20with=800nM%204-hydroxytamoxifen%20for%2096%20h;antibody=CDK8%20(Bethyl%20Laboratories,%20A302-500A,%20lot%20A302-500A-1);replicate=1;passage=13-20;</td><td>162</td><td>.</td><td>3982086</td><td>3982283</td><td>⋯</td><td>3214482</td><td>3671498</td><td>457017</td><td>2</td><td>497097</td><td>ENSMUST00000070533.4</td><td>-310589</td><td>ENSMUSG00000051951</td><td>Xkr4</td><td>X-linked Kx blood group related 4</td></tr>\n",
       "\t<tr><td>chr1</td><td>4150847</td><td>4151148</td><td>302</td><td>*</td><td><span style=white-space:pre-wrap>ID=SRX2793941;Name=Cdk8%20(@%20ES%20cells);Title=GSM2611276:%20Fbxl19flfl%20UNT%20CDK8%20rep2%3B%20Mus%20musculus%3B%20ChIP-Seq;Cell%20group=Pluripotent%20stem%20cell;&lt;br&gt;source_name=Fbxl19flfl_UNT_CDK8;cell%20line=Fbxl19%20fl/fl;cell%20type=mouse%20embryonic%20stem%20cells;treated%20with=none%20(untreated);antibody=CDK8%20(Bethyl%20Laboratories,%20A302-500A,%20lot%20A302-500A-1);replicate=2;passage=13-20;                       </span></td><td>418</td><td>.</td><td>4150846</td><td>4151148</td><td>⋯</td><td>4344146</td><td>4360314</td><td> 16169</td><td>2</td><td>19888 </td><td>ENSMUST00000027032.5</td><td> 209166</td><td>ENSMUSG00000025900</td><td>Rp1 </td><td><span style=white-space:pre-wrap>retinitis pigmentosa 1 (human)   </span></td></tr>\n",
       "\t<tr><td>chr1</td><td>4150861</td><td>4151092</td><td>232</td><td>*</td><td><span style=white-space:pre-wrap>ID=SRX2793940;Name=Cdk8%20(@%20ES%20cells);Title=GSM2611275:%20Fbxl19flfl%20UNT%20CDK8%20rep1%3B%20Mus%20musculus%3B%20ChIP-Seq;Cell%20group=Pluripotent%20stem%20cell;&lt;br&gt;source_name=Fbxl19flfl_UNT_CDK8;cell%20line=Fbxl19%20fl/fl;cell%20type=mouse%20embryonic%20stem%20cells;treated%20with=none%20(untreated);antibody=CDK8%20(Bethyl%20Laboratories,%20A302-500A,%20lot%20A302-500A-1);replicate=1;passage=13-20;                       </span></td><td>219</td><td>.</td><td>4150860</td><td>4151092</td><td>⋯</td><td>4344146</td><td>4360314</td><td> 16169</td><td>2</td><td>19888 </td><td>ENSMUST00000027032.5</td><td> 209222</td><td>ENSMUSG00000025900</td><td>Rp1 </td><td><span style=white-space:pre-wrap>retinitis pigmentosa 1 (human)   </span></td></tr>\n",
       "\t<tr><td>chr1</td><td>4150879</td><td>4151117</td><td>239</td><td>*</td><td>ID=SRX2793945;Name=Cdk8%20(@%20ES%20cells);Title=GSM2611280:%20Fbxl19flfl%20OHT%20CDK8%20rep2%3B%20Mus%20musculus%3B%20ChIP-Seq;Cell%20group=Pluripotent%20stem%20cell;&lt;br&gt;source_name=Fbxl19flfl_OHT_CDK8;cell%20line=Fbxl19%20fl/fl;cell%20type=mouse%20embryonic%20stem%20cells;treated%20with=800nM%204-hydroxytamoxifen%20for%2096%20h;antibody=CDK8%20(Bethyl%20Laboratories,%20A302-500A,%20lot%20A302-500A-1);replicate=2;passage=13-20;</td><td>200</td><td>.</td><td>4150878</td><td>4151117</td><td>⋯</td><td>4344146</td><td>4360314</td><td> 16169</td><td>2</td><td>19888 </td><td>ENSMUST00000027032.5</td><td> 209197</td><td>ENSMUSG00000025900</td><td>Rp1 </td><td><span style=white-space:pre-wrap>retinitis pigmentosa 1 (human)   </span></td></tr>\n",
       "\t<tr><td>chr1</td><td>4150882</td><td>4151158</td><td>277</td><td>*</td><td>ID=SRX2793944;Name=Cdk8%20(@%20ES%20cells);Title=GSM2611279:%20Fbxl19flfl%20OHT%20CDK8%20rep1%3B%20Mus%20musculus%3B%20ChIP-Seq;Cell%20group=Pluripotent%20stem%20cell;&lt;br&gt;source_name=Fbxl19flfl_OHT_CDK8;cell%20line=Fbxl19%20fl/fl;cell%20type=mouse%20embryonic%20stem%20cells;treated%20with=800nM%204-hydroxytamoxifen%20for%2096%20h;antibody=CDK8%20(Bethyl%20Laboratories,%20A302-500A,%20lot%20A302-500A-1);replicate=1;passage=13-20;</td><td>450</td><td>.</td><td>4150881</td><td>4151158</td><td>⋯</td><td>4344146</td><td>4360314</td><td> 16169</td><td>2</td><td>19888 </td><td>ENSMUST00000027032.5</td><td> 209156</td><td>ENSMUSG00000025900</td><td>Rp1 </td><td><span style=white-space:pre-wrap>retinitis pigmentosa 1 (human)   </span></td></tr>\n",
       "\t<tr><td>chr1</td><td>4214317</td><td>4214599</td><td>283</td><td>*</td><td>ID=SRX2793945;Name=Cdk8%20(@%20ES%20cells);Title=GSM2611280:%20Fbxl19flfl%20OHT%20CDK8%20rep2%3B%20Mus%20musculus%3B%20ChIP-Seq;Cell%20group=Pluripotent%20stem%20cell;&lt;br&gt;source_name=Fbxl19flfl_OHT_CDK8;cell%20line=Fbxl19%20fl/fl;cell%20type=mouse%20embryonic%20stem%20cells;treated%20with=800nM%204-hydroxytamoxifen%20for%2096%20h;antibody=CDK8%20(Bethyl%20Laboratories,%20A302-500A,%20lot%20A302-500A-1);replicate=2;passage=13-20;</td><td>395</td><td>.</td><td>4214316</td><td>4214599</td><td>⋯</td><td>4344146</td><td>4360314</td><td> 16169</td><td>2</td><td>19888 </td><td>ENSMUST00000027032.5</td><td> 145715</td><td>ENSMUSG00000025900</td><td>Rp1 </td><td><span style=white-space:pre-wrap>retinitis pigmentosa 1 (human)   </span></td></tr>\n",
       "\t<tr><td>⋮</td><td>⋮</td><td>⋮</td><td>⋮</td><td>⋮</td><td>⋮</td><td>⋮</td><td>⋮</td><td>⋮</td><td>⋮</td><td>⋱</td><td>⋮</td><td>⋮</td><td>⋮</td><td>⋮</td><td>⋮</td><td>⋮</td><td>⋮</td><td>⋮</td><td>⋮</td><td>⋮</td></tr>\n",
       "\t<tr><td>chrY</td><td>90777096</td><td>90777317</td><td>222</td><td>*</td><td><span style=white-space:pre-wrap>ID=SRX236482;Name=Cdk8%20(@%20ES%20cells);Title=GSM1082346:%20Cdk8%20mES%20r2%20ChipSeq%3B%20Mus%20musculus%3B%20ChIP-Seq;Cell%20group=Pluripotent%20stem%20cell;&lt;br&gt;source_name=Embryonic%20stem%20cells;chip%20antibody=cdk8;antibody%20vendor%20and%20catalog%20number=Santa%20Cruz%20SC-1521;background%20strain=C57BL/6-129;                                                                                                                                                                                                                                                                                                                                                                                       </span></td><td>253</td><td>.</td><td>90777095</td><td>90777317</td><td>⋯</td><td>90784738</td><td>90816447</td><td>31710</td><td>1</td><td>170942</td><td>ENSMUST00000179483.8</td><td>-7421</td><td>NA</td><td>Erdr1x</td><td>erythroid differentiation regulator 1 x</td></tr>\n",
       "\t<tr><td>chrY</td><td>90777108</td><td>90777367</td><td>260</td><td>*</td><td><span style=white-space:pre-wrap>ID=SRX2793941;Name=Cdk8%20(@%20ES%20cells);Title=GSM2611276:%20Fbxl19flfl%20UNT%20CDK8%20rep2%3B%20Mus%20musculus%3B%20ChIP-Seq;Cell%20group=Pluripotent%20stem%20cell;&lt;br&gt;source_name=Fbxl19flfl_UNT_CDK8;cell%20line=Fbxl19%20fl/fl;cell%20type=mouse%20embryonic%20stem%20cells;treated%20with=none%20(untreated);antibody=CDK8%20(Bethyl%20Laboratories,%20A302-500A,%20lot%20A302-500A-1);replicate=2;passage=13-20;                                                                                                                                                                                                                                                                                               </span></td><td>293</td><td>.</td><td>90777107</td><td>90777367</td><td>⋯</td><td>90784738</td><td>90816447</td><td>31710</td><td>1</td><td>170942</td><td>ENSMUST00000179483.8</td><td>-7371</td><td>NA</td><td>Erdr1x</td><td>erythroid differentiation regulator 1 x</td></tr>\n",
       "\t<tr><td>chrY</td><td>90777115</td><td>90777360</td><td>246</td><td>*</td><td><span style=white-space:pre-wrap>ID=SRX2793940;Name=Cdk8%20(@%20ES%20cells);Title=GSM2611275:%20Fbxl19flfl%20UNT%20CDK8%20rep1%3B%20Mus%20musculus%3B%20ChIP-Seq;Cell%20group=Pluripotent%20stem%20cell;&lt;br&gt;source_name=Fbxl19flfl_UNT_CDK8;cell%20line=Fbxl19%20fl/fl;cell%20type=mouse%20embryonic%20stem%20cells;treated%20with=none%20(untreated);antibody=CDK8%20(Bethyl%20Laboratories,%20A302-500A,%20lot%20A302-500A-1);replicate=1;passage=13-20;                                                                                                                                                                                                                                                                                               </span></td><td>129</td><td>.</td><td>90777114</td><td>90777360</td><td>⋯</td><td>90784738</td><td>90816447</td><td>31710</td><td>1</td><td>170942</td><td>ENSMUST00000179483.8</td><td>-7378</td><td>NA</td><td>Erdr1x</td><td>erythroid differentiation regulator 1 x</td></tr>\n",
       "\t<tr><td>chrY</td><td>90777123</td><td>90777374</td><td>252</td><td>*</td><td><span style=white-space:pre-wrap>ID=SRX2793945;Name=Cdk8%20(@%20ES%20cells);Title=GSM2611280:%20Fbxl19flfl%20OHT%20CDK8%20rep2%3B%20Mus%20musculus%3B%20ChIP-Seq;Cell%20group=Pluripotent%20stem%20cell;&lt;br&gt;source_name=Fbxl19flfl_OHT_CDK8;cell%20line=Fbxl19%20fl/fl;cell%20type=mouse%20embryonic%20stem%20cells;treated%20with=800nM%204-hydroxytamoxifen%20for%2096%20h;antibody=CDK8%20(Bethyl%20Laboratories,%20A302-500A,%20lot%20A302-500A-1);replicate=2;passage=13-20;                                                                                                                                                                                                                                                                        </span></td><td>389</td><td>.</td><td>90777122</td><td>90777374</td><td>⋯</td><td>90784738</td><td>90816447</td><td>31710</td><td>1</td><td>170942</td><td>ENSMUST00000179483.8</td><td>-7364</td><td>NA</td><td>Erdr1x</td><td>erythroid differentiation regulator 1 x</td></tr>\n",
       "\t<tr><td>chrY</td><td>90783807</td><td>90784229</td><td>423</td><td>*</td><td><span style=white-space:pre-wrap>ID=SRX236482;Name=Cdk8%20(@%20ES%20cells);Title=GSM1082346:%20Cdk8%20mES%20r2%20ChipSeq%3B%20Mus%20musculus%3B%20ChIP-Seq;Cell%20group=Pluripotent%20stem%20cell;&lt;br&gt;source_name=Embryonic%20stem%20cells;chip%20antibody=cdk8;antibody%20vendor%20and%20catalog%20number=Santa%20Cruz%20SC-1521;background%20strain=C57BL/6-129;                                                                                                                                                                                                                                                                                                                                                                                       </span></td><td>165</td><td>.</td><td>90783806</td><td>90784229</td><td>⋯</td><td>90784738</td><td>90816447</td><td>31710</td><td>1</td><td>170942</td><td>ENSMUST00000179483.8</td><td> -509</td><td>NA</td><td>Erdr1x</td><td>erythroid differentiation regulator 1 x</td></tr>\n",
       "\t<tr><td>chrY</td><td>90783858</td><td>90784034</td><td>177</td><td>*</td><td><span style=white-space:pre-wrap>ID=SRX2793945;Name=Cdk8%20(@%20ES%20cells);Title=GSM2611280:%20Fbxl19flfl%20OHT%20CDK8%20rep2%3B%20Mus%20musculus%3B%20ChIP-Seq;Cell%20group=Pluripotent%20stem%20cell;&lt;br&gt;source_name=Fbxl19flfl_OHT_CDK8;cell%20line=Fbxl19%20fl/fl;cell%20type=mouse%20embryonic%20stem%20cells;treated%20with=800nM%204-hydroxytamoxifen%20for%2096%20h;antibody=CDK8%20(Bethyl%20Laboratories,%20A302-500A,%20lot%20A302-500A-1);replicate=2;passage=13-20;                                                                                                                                                                                                                                                                        </span></td><td> 96</td><td>.</td><td>90783857</td><td>90784034</td><td>⋯</td><td>90784738</td><td>90816447</td><td>31710</td><td>1</td><td>170942</td><td>ENSMUST00000179483.8</td><td> -704</td><td>NA</td><td>Erdr1x</td><td>erythroid differentiation regulator 1 x</td></tr>\n",
       "\t<tr><td>chrY</td><td>90783861</td><td>90784016</td><td>156</td><td>*</td><td><span style=white-space:pre-wrap>ID=SRX668247;Name=Cdk8%20(@%20ES%20cells);Title=GSM1463943:%20Cdk8%20mES%20r1%20ChipSeq%3B%20Mus%20musculus%3B%20ChIP-Seq;Cell%20group=Pluripotent%20stem%20cell;&lt;br&gt;source_name=Embryonic%20stem%20cells;chip%20antibody=cdk8;antibody%20catalog%20number=Santa%20Cruz%20SC-1521;cell%20type=V6.5%20embryonic%20stem%20cells;                                                                                                                                                                                                                                                                                                                                                                                          </span></td><td> 96</td><td>.</td><td>90783860</td><td>90784016</td><td>⋯</td><td>90784738</td><td>90816447</td><td>31710</td><td>1</td><td>170942</td><td>ENSMUST00000179483.8</td><td> -722</td><td>NA</td><td>Erdr1x</td><td>erythroid differentiation regulator 1 x</td></tr>\n",
       "\t<tr><td>chrY</td><td>90784087</td><td>90784575</td><td>489</td><td>*</td><td><span style=white-space:pre-wrap>ID=SRX2793945;Name=Cdk8%20(@%20ES%20cells);Title=GSM2611280:%20Fbxl19flfl%20OHT%20CDK8%20rep2%3B%20Mus%20musculus%3B%20ChIP-Seq;Cell%20group=Pluripotent%20stem%20cell;&lt;br&gt;source_name=Fbxl19flfl_OHT_CDK8;cell%20line=Fbxl19%20fl/fl;cell%20type=mouse%20embryonic%20stem%20cells;treated%20with=800nM%204-hydroxytamoxifen%20for%2096%20h;antibody=CDK8%20(Bethyl%20Laboratories,%20A302-500A,%20lot%20A302-500A-1);replicate=2;passage=13-20;                                                                                                                                                                                                                                                                        </span></td><td>109</td><td>.</td><td>90784086</td><td>90784575</td><td>⋯</td><td>90784738</td><td>90816447</td><td>31710</td><td>1</td><td>170942</td><td>ENSMUST00000179483.8</td><td> -163</td><td>NA</td><td>Erdr1x</td><td>erythroid differentiation regulator 1 x</td></tr>\n",
       "\t<tr><td>chrY</td><td>90784145</td><td>90784558</td><td>414</td><td>*</td><td><span style=white-space:pre-wrap>ID=SRX2793941;Name=Cdk8%20(@%20ES%20cells);Title=GSM2611276:%20Fbxl19flfl%20UNT%20CDK8%20rep2%3B%20Mus%20musculus%3B%20ChIP-Seq;Cell%20group=Pluripotent%20stem%20cell;&lt;br&gt;source_name=Fbxl19flfl_UNT_CDK8;cell%20line=Fbxl19%20fl/fl;cell%20type=mouse%20embryonic%20stem%20cells;treated%20with=none%20(untreated);antibody=CDK8%20(Bethyl%20Laboratories,%20A302-500A,%20lot%20A302-500A-1);replicate=2;passage=13-20;                                                                                                                                                                                                                                                                                               </span></td><td>143</td><td>.</td><td>90784144</td><td>90784558</td><td>⋯</td><td>90784738</td><td>90816447</td><td>31710</td><td>1</td><td>170942</td><td>ENSMUST00000179483.8</td><td> -180</td><td>NA</td><td>Erdr1x</td><td>erythroid differentiation regulator 1 x</td></tr>\n",
       "\t<tr><td>chrY</td><td>90784183</td><td>90784560</td><td>378</td><td>*</td><td><span style=white-space:pre-wrap>ID=SRX2793940;Name=Cdk8%20(@%20ES%20cells);Title=GSM2611275:%20Fbxl19flfl%20UNT%20CDK8%20rep1%3B%20Mus%20musculus%3B%20ChIP-Seq;Cell%20group=Pluripotent%20stem%20cell;&lt;br&gt;source_name=Fbxl19flfl_UNT_CDK8;cell%20line=Fbxl19%20fl/fl;cell%20type=mouse%20embryonic%20stem%20cells;treated%20with=none%20(untreated);antibody=CDK8%20(Bethyl%20Laboratories,%20A302-500A,%20lot%20A302-500A-1);replicate=1;passage=13-20;                                                                                                                                                                                                                                                                                               </span></td><td>153</td><td>.</td><td>90784182</td><td>90784560</td><td>⋯</td><td>90784738</td><td>90816447</td><td>31710</td><td>1</td><td>170942</td><td>ENSMUST00000179483.8</td><td> -178</td><td>NA</td><td>Erdr1x</td><td>erythroid differentiation regulator 1 x</td></tr>\n",
       "\t<tr><td>chrY</td><td>90784188</td><td>90784585</td><td>398</td><td>*</td><td><span style=white-space:pre-wrap>ID=SRX2793944;Name=Cdk8%20(@%20ES%20cells);Title=GSM2611279:%20Fbxl19flfl%20OHT%20CDK8%20rep1%3B%20Mus%20musculus%3B%20ChIP-Seq;Cell%20group=Pluripotent%20stem%20cell;&lt;br&gt;source_name=Fbxl19flfl_OHT_CDK8;cell%20line=Fbxl19%20fl/fl;cell%20type=mouse%20embryonic%20stem%20cells;treated%20with=800nM%204-hydroxytamoxifen%20for%2096%20h;antibody=CDK8%20(Bethyl%20Laboratories,%20A302-500A,%20lot%20A302-500A-1);replicate=1;passage=13-20;                                                                                                                                                                                                                                                                        </span></td><td>131</td><td>.</td><td>90784187</td><td>90784585</td><td>⋯</td><td>90784738</td><td>90816447</td><td>31710</td><td>1</td><td>170942</td><td>ENSMUST00000179483.8</td><td> -153</td><td>NA</td><td>Erdr1x</td><td>erythroid differentiation regulator 1 x</td></tr>\n",
       "\t<tr><td>chrY</td><td>90784714</td><td>90785080</td><td>367</td><td>*</td><td><span style=white-space:pre-wrap>ID=SRX2793941;Name=Cdk8%20(@%20ES%20cells);Title=GSM2611276:%20Fbxl19flfl%20UNT%20CDK8%20rep2%3B%20Mus%20musculus%3B%20ChIP-Seq;Cell%20group=Pluripotent%20stem%20cell;&lt;br&gt;source_name=Fbxl19flfl_UNT_CDK8;cell%20line=Fbxl19%20fl/fl;cell%20type=mouse%20embryonic%20stem%20cells;treated%20with=none%20(untreated);antibody=CDK8%20(Bethyl%20Laboratories,%20A302-500A,%20lot%20A302-500A-1);replicate=2;passage=13-20;                                                                                                                                                                                                                                                                                               </span></td><td>268</td><td>.</td><td>90784713</td><td>90785080</td><td>⋯</td><td>90784738</td><td>90816447</td><td>31710</td><td>1</td><td>170942</td><td>ENSMUST00000179483.8</td><td><span style=white-space:pre-wrap>    0</span></td><td>NA</td><td>Erdr1x</td><td>erythroid differentiation regulator 1 x</td></tr>\n",
       "\t<tr><td>chrY</td><td>90784729</td><td>90785003</td><td>275</td><td>*</td><td><span style=white-space:pre-wrap>ID=SRX236482;Name=Cdk8%20(@%20ES%20cells);Title=GSM1082346:%20Cdk8%20mES%20r2%20ChipSeq%3B%20Mus%20musculus%3B%20ChIP-Seq;Cell%20group=Pluripotent%20stem%20cell;&lt;br&gt;source_name=Embryonic%20stem%20cells;chip%20antibody=cdk8;antibody%20vendor%20and%20catalog%20number=Santa%20Cruz%20SC-1521;background%20strain=C57BL/6-129;                                                                                                                                                                                                                                                                                                                                                                                       </span></td><td>128</td><td>.</td><td>90784728</td><td>90785003</td><td>⋯</td><td>90784738</td><td>90816447</td><td>31710</td><td>1</td><td>170942</td><td>ENSMUST00000179483.8</td><td><span style=white-space:pre-wrap>    0</span></td><td>NA</td><td>Erdr1x</td><td>erythroid differentiation regulator 1 x</td></tr>\n",
       "\t<tr><td>chrY</td><td>90784730</td><td>90785115</td><td>386</td><td>*</td><td>ID=SRX12622659;Name=Cdk8%20(@%20ES%20cells);Title=GSM5627388:%20Med1313lfll-MED14-T7%20RA%20UNT%20CDK8%20rep1%3B%20Mus%20musculus%3B%20ChIP-Seq;Cell%20group=Pluripotent%20stem%20cell;&lt;br&gt;source_name=Mouse%20embryonic%20stem%20cells%20treated%20with%20retinoic%20acid%20for%2048h,%20Med13/13l%20flfl%20with%20endogenously%20tagged%20Med14-T7,%20untreated%20control,%20CDK8%20ChIPseq;cell%20line=Med13%3BMed13l%20flfl%20Med14-T7;strain=Rosa26::ERT2-Cre;treatment=untreated;treatment%20time=0h;additional%20treatment=retinoic%20acid;additional%20treatment%20time=48h;replicate=1;type%20of%20chip=cross-linked;ChIP=CDK8;antibody=rabbit%20polyclonal%20anti-CDK8%20(A302-500A,%20Bethyl%20laboratories);</td><td>439</td><td>.</td><td>90784729</td><td>90785115</td><td>⋯</td><td>90784738</td><td>90816447</td><td>31710</td><td>1</td><td>170942</td><td>ENSMUST00000179483.8</td><td><span style=white-space:pre-wrap>    0</span></td><td>NA</td><td>Erdr1x</td><td>erythroid differentiation regulator 1 x</td></tr>\n",
       "\t<tr><td>chrY</td><td>90784767</td><td>90785014</td><td>248</td><td>*</td><td><span style=white-space:pre-wrap>ID=SRX2793944;Name=Cdk8%20(@%20ES%20cells);Title=GSM2611279:%20Fbxl19flfl%20OHT%20CDK8%20rep1%3B%20Mus%20musculus%3B%20ChIP-Seq;Cell%20group=Pluripotent%20stem%20cell;&lt;br&gt;source_name=Fbxl19flfl_OHT_CDK8;cell%20line=Fbxl19%20fl/fl;cell%20type=mouse%20embryonic%20stem%20cells;treated%20with=800nM%204-hydroxytamoxifen%20for%2096%20h;antibody=CDK8%20(Bethyl%20Laboratories,%20A302-500A,%20lot%20A302-500A-1);replicate=1;passage=13-20;                                                                                                                                                                                                                                                                        </span></td><td>169</td><td>.</td><td>90784766</td><td>90785014</td><td>⋯</td><td>90784911</td><td>90816458</td><td>31548</td><td>1</td><td>170942</td><td>ENSMUST00000238758.1</td><td><span style=white-space:pre-wrap>    0</span></td><td>NA</td><td>Erdr1x</td><td>erythroid differentiation regulator 1 x</td></tr>\n",
       "\t<tr><td>chrY</td><td>90784775</td><td>90784965</td><td>191</td><td>*</td><td><span style=white-space:pre-wrap>ID=SRX2793945;Name=Cdk8%20(@%20ES%20cells);Title=GSM2611280:%20Fbxl19flfl%20OHT%20CDK8%20rep2%3B%20Mus%20musculus%3B%20ChIP-Seq;Cell%20group=Pluripotent%20stem%20cell;&lt;br&gt;source_name=Fbxl19flfl_OHT_CDK8;cell%20line=Fbxl19%20fl/fl;cell%20type=mouse%20embryonic%20stem%20cells;treated%20with=800nM%204-hydroxytamoxifen%20for%2096%20h;antibody=CDK8%20(Bethyl%20Laboratories,%20A302-500A,%20lot%20A302-500A-1);replicate=2;passage=13-20;                                                                                                                                                                                                                                                                        </span></td><td>150</td><td>.</td><td>90784774</td><td>90784965</td><td>⋯</td><td>90784911</td><td>90816458</td><td>31548</td><td>1</td><td>170942</td><td>ENSMUST00000238758.1</td><td><span style=white-space:pre-wrap>    0</span></td><td>NA</td><td>Erdr1x</td><td>erythroid differentiation regulator 1 x</td></tr>\n",
       "\t<tr><td>chrY</td><td>90784795</td><td>90785025</td><td>231</td><td>*</td><td>ID=SRX12622661;Name=Cdk8%20(@%20ES%20cells);Title=GSM5627390:%20Med1313lfl-MED14-T7%20RA%20UNT%20CDK8%20rep3%3B%20Mus%20musculus%3B%20ChIP-Seq;Cell%20group=Pluripotent%20stem%20cell;&lt;br&gt;source_name=Mouse%20embryonic%20stem%20cells%20treated%20with%20retinoic%20acid%20for%2048h,%20Med13/13l%20flfl%20with%20endogenously%20tagged%20Med14-T7,%20untreated%20control,%20CDK8%20ChIPseq;cell%20line=Med13%3BMed13l%20flfl%20Med14-T7;strain=Rosa26::ERT2-Cre;treatment=untreated;treatment%20time=0h;additional%20treatment=retinoic%20acid;additional%20treatment%20time=48h;replicate=3;type%20of%20chip=cross-linked;ChIP=CDK8;antibody=rabbit%20polyclonal%20anti-CDK8%20(A302-500A,%20Bethyl%20laboratories); </td><td>173</td><td>.</td><td>90784794</td><td>90785025</td><td>⋯</td><td>90784911</td><td>90816458</td><td>31548</td><td>1</td><td>170942</td><td>ENSMUST00000238758.1</td><td><span style=white-space:pre-wrap>    0</span></td><td>NA</td><td>Erdr1x</td><td>erythroid differentiation regulator 1 x</td></tr>\n",
       "\t<tr><td>chrY</td><td>90792082</td><td>90792260</td><td>179</td><td>*</td><td><span style=white-space:pre-wrap>ID=SRX2793944;Name=Cdk8%20(@%20ES%20cells);Title=GSM2611279:%20Fbxl19flfl%20OHT%20CDK8%20rep1%3B%20Mus%20musculus%3B%20ChIP-Seq;Cell%20group=Pluripotent%20stem%20cell;&lt;br&gt;source_name=Fbxl19flfl_OHT_CDK8;cell%20line=Fbxl19%20fl/fl;cell%20type=mouse%20embryonic%20stem%20cells;treated%20with=800nM%204-hydroxytamoxifen%20for%2096%20h;antibody=CDK8%20(Bethyl%20Laboratories,%20A302-500A,%20lot%20A302-500A-1);replicate=1;passage=13-20;                                                                                                                                                                                                                                                                        </span></td><td>119</td><td>.</td><td>90792081</td><td>90792260</td><td>⋯</td><td>90790451</td><td>90816465</td><td>26015</td><td>1</td><td>170942</td><td>ENSMUST00000238471.1</td><td> 1631</td><td>NA</td><td>Erdr1x</td><td>erythroid differentiation regulator 1 x</td></tr>\n",
       "\t<tr><td>chrY</td><td>90796773</td><td>90796940</td><td>168</td><td>*</td><td><span style=white-space:pre-wrap>ID=SRX236482;Name=Cdk8%20(@%20ES%20cells);Title=GSM1082346:%20Cdk8%20mES%20r2%20ChipSeq%3B%20Mus%20musculus%3B%20ChIP-Seq;Cell%20group=Pluripotent%20stem%20cell;&lt;br&gt;source_name=Embryonic%20stem%20cells;chip%20antibody=cdk8;antibody%20vendor%20and%20catalog%20number=Santa%20Cruz%20SC-1521;background%20strain=C57BL/6-129;                                                                                                                                                                                                                                                                                                                                                                                       </span></td><td>139</td><td>.</td><td>90796772</td><td>90796940</td><td>⋯</td><td>90790451</td><td>90816465</td><td>26015</td><td>1</td><td>170942</td><td>ENSMUST00000238471.1</td><td> 6322</td><td>NA</td><td>Erdr1x</td><td>erythroid differentiation regulator 1 x</td></tr>\n",
       "\t<tr><td>chrY</td><td>90799212</td><td>90799445</td><td>234</td><td>*</td><td><span style=white-space:pre-wrap>ID=SRX236482;Name=Cdk8%20(@%20ES%20cells);Title=GSM1082346:%20Cdk8%20mES%20r2%20ChipSeq%3B%20Mus%20musculus%3B%20ChIP-Seq;Cell%20group=Pluripotent%20stem%20cell;&lt;br&gt;source_name=Embryonic%20stem%20cells;chip%20antibody=cdk8;antibody%20vendor%20and%20catalog%20number=Santa%20Cruz%20SC-1521;background%20strain=C57BL/6-129;                                                                                                                                                                                                                                                                                                                                                                                       </span></td><td>152</td><td>.</td><td>90799211</td><td>90799445</td><td>⋯</td><td>90790451</td><td>90816465</td><td>26015</td><td>1</td><td>170942</td><td>ENSMUST00000238471.1</td><td> 8761</td><td>NA</td><td>Erdr1x</td><td>erythroid differentiation regulator 1 x</td></tr>\n",
       "\t<tr><td>chrY</td><td>90800458</td><td>90800829</td><td>372</td><td>*</td><td><span style=white-space:pre-wrap>ID=SRX236482;Name=Cdk8%20(@%20ES%20cells);Title=GSM1082346:%20Cdk8%20mES%20r2%20ChipSeq%3B%20Mus%20musculus%3B%20ChIP-Seq;Cell%20group=Pluripotent%20stem%20cell;&lt;br&gt;source_name=Embryonic%20stem%20cells;chip%20antibody=cdk8;antibody%20vendor%20and%20catalog%20number=Santa%20Cruz%20SC-1521;background%20strain=C57BL/6-129;                                                                                                                                                                                                                                                                                                                                                                                       </span></td><td>105</td><td>.</td><td>90800457</td><td>90800829</td><td>⋯</td><td>90790451</td><td>90816465</td><td>26015</td><td>1</td><td>170942</td><td>ENSMUST00000238471.1</td><td>10007</td><td>NA</td><td>Erdr1x</td><td>erythroid differentiation regulator 1 x</td></tr>\n",
       "\t<tr><td>chrY</td><td>90803519</td><td>90803705</td><td>187</td><td>*</td><td><span style=white-space:pre-wrap>ID=SRX236482;Name=Cdk8%20(@%20ES%20cells);Title=GSM1082346:%20Cdk8%20mES%20r2%20ChipSeq%3B%20Mus%20musculus%3B%20ChIP-Seq;Cell%20group=Pluripotent%20stem%20cell;&lt;br&gt;source_name=Embryonic%20stem%20cells;chip%20antibody=cdk8;antibody%20vendor%20and%20catalog%20number=Santa%20Cruz%20SC-1521;background%20strain=C57BL/6-129;                                                                                                                                                                                                                                                                                                                                                                                       </span></td><td>105</td><td>.</td><td>90803518</td><td>90803705</td><td>⋯</td><td>90790451</td><td>90816465</td><td>26015</td><td>1</td><td>170942</td><td>ENSMUST00000238471.1</td><td>13068</td><td>NA</td><td>Erdr1x</td><td>erythroid differentiation regulator 1 x</td></tr>\n",
       "\t<tr><td>chrY</td><td>90805063</td><td>90805240</td><td>178</td><td>*</td><td><span style=white-space:pre-wrap>ID=SRX236482;Name=Cdk8%20(@%20ES%20cells);Title=GSM1082346:%20Cdk8%20mES%20r2%20ChipSeq%3B%20Mus%20musculus%3B%20ChIP-Seq;Cell%20group=Pluripotent%20stem%20cell;&lt;br&gt;source_name=Embryonic%20stem%20cells;chip%20antibody=cdk8;antibody%20vendor%20and%20catalog%20number=Santa%20Cruz%20SC-1521;background%20strain=C57BL/6-129;                                                                                                                                                                                                                                                                                                                                                                                       </span></td><td>164</td><td>.</td><td>90805062</td><td>90805240</td><td>⋯</td><td>90790451</td><td>90816465</td><td>26015</td><td>1</td><td>170942</td><td>ENSMUST00000238471.1</td><td>14612</td><td>NA</td><td>Erdr1x</td><td>erythroid differentiation regulator 1 x</td></tr>\n",
       "\t<tr><td>chrY</td><td>90807629</td><td>90807877</td><td>249</td><td>*</td><td><span style=white-space:pre-wrap>ID=SRX236482;Name=Cdk8%20(@%20ES%20cells);Title=GSM1082346:%20Cdk8%20mES%20r2%20ChipSeq%3B%20Mus%20musculus%3B%20ChIP-Seq;Cell%20group=Pluripotent%20stem%20cell;&lt;br&gt;source_name=Embryonic%20stem%20cells;chip%20antibody=cdk8;antibody%20vendor%20and%20catalog%20number=Santa%20Cruz%20SC-1521;background%20strain=C57BL/6-129;                                                                                                                                                                                                                                                                                                                                                                                       </span></td><td>105</td><td>.</td><td>90807628</td><td>90807877</td><td>⋯</td><td>90790451</td><td>90816465</td><td>26015</td><td>1</td><td>170942</td><td>ENSMUST00000238471.1</td><td>17178</td><td>NA</td><td>Erdr1x</td><td>erythroid differentiation regulator 1 x</td></tr>\n",
       "\t<tr><td>chrY</td><td>90808743</td><td>90808917</td><td>175</td><td>*</td><td><span style=white-space:pre-wrap>ID=SRX2793944;Name=Cdk8%20(@%20ES%20cells);Title=GSM2611279:%20Fbxl19flfl%20OHT%20CDK8%20rep1%3B%20Mus%20musculus%3B%20ChIP-Seq;Cell%20group=Pluripotent%20stem%20cell;&lt;br&gt;source_name=Fbxl19flfl_OHT_CDK8;cell%20line=Fbxl19%20fl/fl;cell%20type=mouse%20embryonic%20stem%20cells;treated%20with=800nM%204-hydroxytamoxifen%20for%2096%20h;antibody=CDK8%20(Bethyl%20Laboratories,%20A302-500A,%20lot%20A302-500A-1);replicate=1;passage=13-20;                                                                                                                                                                                                                                                                        </span></td><td>129</td><td>.</td><td>90808742</td><td>90808917</td><td>⋯</td><td>90790451</td><td>90816465</td><td>26015</td><td>1</td><td>170942</td><td>ENSMUST00000238471.1</td><td>18292</td><td>NA</td><td>Erdr1x</td><td>erythroid differentiation regulator 1 x</td></tr>\n",
       "\t<tr><td>chrY</td><td>90810950</td><td>90811214</td><td>265</td><td>*</td><td><span style=white-space:pre-wrap>ID=SRX236482;Name=Cdk8%20(@%20ES%20cells);Title=GSM1082346:%20Cdk8%20mES%20r2%20ChipSeq%3B%20Mus%20musculus%3B%20ChIP-Seq;Cell%20group=Pluripotent%20stem%20cell;&lt;br&gt;source_name=Embryonic%20stem%20cells;chip%20antibody=cdk8;antibody%20vendor%20and%20catalog%20number=Santa%20Cruz%20SC-1521;background%20strain=C57BL/6-129;                                                                                                                                                                                                                                                                                                                                                                                       </span></td><td>224</td><td>.</td><td>90810949</td><td>90811214</td><td>⋯</td><td>90790451</td><td>90816465</td><td>26015</td><td>1</td><td>170942</td><td>ENSMUST00000238471.1</td><td>20499</td><td>NA</td><td>Erdr1x</td><td>erythroid differentiation regulator 1 x</td></tr>\n",
       "\t<tr><td>chrY</td><td>90819424</td><td>90819914</td><td>491</td><td>*</td><td>ID=SRX12622661;Name=Cdk8%20(@%20ES%20cells);Title=GSM5627390:%20Med1313lfl-MED14-T7%20RA%20UNT%20CDK8%20rep3%3B%20Mus%20musculus%3B%20ChIP-Seq;Cell%20group=Pluripotent%20stem%20cell;&lt;br&gt;source_name=Mouse%20embryonic%20stem%20cells%20treated%20with%20retinoic%20acid%20for%2048h,%20Med13/13l%20flfl%20with%20endogenously%20tagged%20Med14-T7,%20untreated%20control,%20CDK8%20ChIPseq;cell%20line=Med13%3BMed13l%20flfl%20Med14-T7;strain=Rosa26::ERT2-Cre;treatment=untreated;treatment%20time=0h;additional%20treatment=retinoic%20acid;additional%20treatment%20time=48h;replicate=3;type%20of%20chip=cross-linked;ChIP=CDK8;antibody=rabbit%20polyclonal%20anti-CDK8%20(A302-500A,%20Bethyl%20laboratories); </td><td>508</td><td>.</td><td>90819423</td><td>90819914</td><td>⋯</td><td>90790451</td><td>90816465</td><td>26015</td><td>1</td><td>170942</td><td>ENSMUST00000238471.1</td><td>28973</td><td>NA</td><td>Erdr1x</td><td>erythroid differentiation regulator 1 x</td></tr>\n",
       "\t<tr><td>chrY</td><td>90819451</td><td>90819926</td><td>476</td><td>*</td><td>ID=SRX12622659;Name=Cdk8%20(@%20ES%20cells);Title=GSM5627388:%20Med1313lfll-MED14-T7%20RA%20UNT%20CDK8%20rep1%3B%20Mus%20musculus%3B%20ChIP-Seq;Cell%20group=Pluripotent%20stem%20cell;&lt;br&gt;source_name=Mouse%20embryonic%20stem%20cells%20treated%20with%20retinoic%20acid%20for%2048h,%20Med13/13l%20flfl%20with%20endogenously%20tagged%20Med14-T7,%20untreated%20control,%20CDK8%20ChIPseq;cell%20line=Med13%3BMed13l%20flfl%20Med14-T7;strain=Rosa26::ERT2-Cre;treatment=untreated;treatment%20time=0h;additional%20treatment=retinoic%20acid;additional%20treatment%20time=48h;replicate=1;type%20of%20chip=cross-linked;ChIP=CDK8;antibody=rabbit%20polyclonal%20anti-CDK8%20(A302-500A,%20Bethyl%20laboratories);</td><td>511</td><td>.</td><td>90819450</td><td>90819926</td><td>⋯</td><td>90790451</td><td>90816465</td><td>26015</td><td>1</td><td>170942</td><td>ENSMUST00000238471.1</td><td>29000</td><td>NA</td><td>Erdr1x</td><td>erythroid differentiation regulator 1 x</td></tr>\n",
       "\t<tr><td>chrY</td><td>90819658</td><td>90819882</td><td>225</td><td>*</td><td>ID=SRX12622660;Name=Cdk8%20(@%20ES%20cells);Title=GSM5627389:%20Med1313lfl-MED14-T7%20RA%20UNT%20CDK8%20rep2%3B%20Mus%20musculus%3B%20ChIP-Seq;Cell%20group=Pluripotent%20stem%20cell;&lt;br&gt;source_name=Mouse%20embryonic%20stem%20cells%20treated%20with%20retinoic%20acid%20for%2048h,%20Med13/13l%20flfl%20with%20endogenously%20tagged%20Med14-T7,%20untreated%20control,%20CDK8%20ChIPseq;cell%20line=Med13%3BMed13l%20flfl%20Med14-T7;strain=Rosa26::ERT2-Cre;treatment=untreated;treatment%20time=0h;additional%20treatment=retinoic%20acid;additional%20treatment%20time=48h;replicate=2;type%20of%20chip=cross-linked;ChIP=CDK8;antibody=rabbit%20polyclonal%20anti-CDK8%20(A302-500A,%20Bethyl%20laboratories); </td><td>193</td><td>.</td><td>90819657</td><td>90819882</td><td>⋯</td><td>90790451</td><td>90816465</td><td>26015</td><td>1</td><td>170942</td><td>ENSMUST00000238471.1</td><td>29207</td><td>NA</td><td>Erdr1x</td><td>erythroid differentiation regulator 1 x</td></tr>\n",
       "\t<tr><td>chrY</td><td>90819687</td><td>90819870</td><td>184</td><td>*</td><td><span style=white-space:pre-wrap>ID=SRX2793940;Name=Cdk8%20(@%20ES%20cells);Title=GSM2611275:%20Fbxl19flfl%20UNT%20CDK8%20rep1%3B%20Mus%20musculus%3B%20ChIP-Seq;Cell%20group=Pluripotent%20stem%20cell;&lt;br&gt;source_name=Fbxl19flfl_UNT_CDK8;cell%20line=Fbxl19%20fl/fl;cell%20type=mouse%20embryonic%20stem%20cells;treated%20with=none%20(untreated);antibody=CDK8%20(Bethyl%20Laboratories,%20A302-500A,%20lot%20A302-500A-1);replicate=1;passage=13-20;                                                                                                                                                                                                                                                                                               </span></td><td>123</td><td>.</td><td>90819686</td><td>90819870</td><td>⋯</td><td>90790451</td><td>90816465</td><td>26015</td><td>1</td><td>170942</td><td>ENSMUST00000238471.1</td><td>29236</td><td>NA</td><td>Erdr1x</td><td>erythroid differentiation regulator 1 x</td></tr>\n",
       "</tbody>\n",
       "</table>\n"
      ],
      "text/latex": [
       "A data.frame: 47690 × 23\n",
       "\\begin{tabular}{lllllllllllllllllllll}\n",
       " seqnames & start & end & width & strand & technical & value & strand. & start2 & end2 & ⋯ & geneStart & geneEnd & geneLength & geneStrand & geneId & transcriptId & distanceToTSS & ENSEMBL & SYMBOL & GENENAME\\\\\n",
       " <fct> & <int> & <int> & <int> & <fct> & <chr> & <int> & <chr> & <int> & <int> & ⋯ & <int> & <int> & <int> & <int> & <chr> & <chr> & <dbl> & <chr> & <chr> & <chr>\\\\\n",
       "\\hline\n",
       "\t chr1 & 3042841 & 3043263 & 423 & * & ID=SRX2793944;Name=Cdk8\\%20(@\\%20ES\\%20cells);Title=GSM2611279:\\%20Fbxl19flfl\\%20OHT\\%20CDK8\\%20rep1\\%3B\\%20Mus\\%20musculus\\%3B\\%20ChIP-Seq;Cell\\%20group=Pluripotent\\%20stem\\%20cell;<br>source\\_name=Fbxl19flfl\\_OHT\\_CDK8;cell\\%20line=Fbxl19\\%20fl/fl;cell\\%20type=mouse\\%20embryonic\\%20stem\\%20cells;treated\\%20with=800nM\\%204-hydroxytamoxifen\\%20for\\%2096\\%20h;antibody=CDK8\\%20(Bethyl\\%20Laboratories,\\%20A302-500A,\\%20lot\\%20A302-500A-1);replicate=1;passage=13-20; & 349 & . & 3042840 & 3043263 & ⋯ & 3214482 & 3671498 & 457017 & 2 & 497097 & ENSMUST00000070533.4 &  628235 & ENSMUSG00000051951 & Xkr4 & X-linked Kx blood group related 4\\\\\n",
       "\t chr1 & 3042877 & 3043270 & 394 & * & ID=SRX2793940;Name=Cdk8\\%20(@\\%20ES\\%20cells);Title=GSM2611275:\\%20Fbxl19flfl\\%20UNT\\%20CDK8\\%20rep1\\%3B\\%20Mus\\%20musculus\\%3B\\%20ChIP-Seq;Cell\\%20group=Pluripotent\\%20stem\\%20cell;<br>source\\_name=Fbxl19flfl\\_UNT\\_CDK8;cell\\%20line=Fbxl19\\%20fl/fl;cell\\%20type=mouse\\%20embryonic\\%20stem\\%20cells;treated\\%20with=none\\%20(untreated);antibody=CDK8\\%20(Bethyl\\%20Laboratories,\\%20A302-500A,\\%20lot\\%20A302-500A-1);replicate=1;passage=13-20;                        & 232 & . & 3042876 & 3043270 & ⋯ & 3214482 & 3671498 & 457017 & 2 & 497097 & ENSMUST00000070533.4 &  628228 & ENSMUSG00000051951 & Xkr4 & X-linked Kx blood group related 4\\\\\n",
       "\t chr1 & 3043033 & 3043264 & 232 & * & ID=SRX2793941;Name=Cdk8\\%20(@\\%20ES\\%20cells);Title=GSM2611276:\\%20Fbxl19flfl\\%20UNT\\%20CDK8\\%20rep2\\%3B\\%20Mus\\%20musculus\\%3B\\%20ChIP-Seq;Cell\\%20group=Pluripotent\\%20stem\\%20cell;<br>source\\_name=Fbxl19flfl\\_UNT\\_CDK8;cell\\%20line=Fbxl19\\%20fl/fl;cell\\%20type=mouse\\%20embryonic\\%20stem\\%20cells;treated\\%20with=none\\%20(untreated);antibody=CDK8\\%20(Bethyl\\%20Laboratories,\\%20A302-500A,\\%20lot\\%20A302-500A-1);replicate=2;passage=13-20;                        & 339 & . & 3043032 & 3043264 & ⋯ & 3214482 & 3671498 & 457017 & 2 & 497097 & ENSMUST00000070533.4 &  628234 & ENSMUSG00000051951 & Xkr4 & X-linked Kx blood group related 4\\\\\n",
       "\t chr1 & 3043060 & 3043250 & 191 & * & ID=SRX2793945;Name=Cdk8\\%20(@\\%20ES\\%20cells);Title=GSM2611280:\\%20Fbxl19flfl\\%20OHT\\%20CDK8\\%20rep2\\%3B\\%20Mus\\%20musculus\\%3B\\%20ChIP-Seq;Cell\\%20group=Pluripotent\\%20stem\\%20cell;<br>source\\_name=Fbxl19flfl\\_OHT\\_CDK8;cell\\%20line=Fbxl19\\%20fl/fl;cell\\%20type=mouse\\%20embryonic\\%20stem\\%20cells;treated\\%20with=800nM\\%204-hydroxytamoxifen\\%20for\\%2096\\%20h;antibody=CDK8\\%20(Bethyl\\%20Laboratories,\\%20A302-500A,\\%20lot\\%20A302-500A-1);replicate=2;passage=13-20; & 202 & . & 3043059 & 3043250 & ⋯ & 3214482 & 3671498 & 457017 & 2 & 497097 & ENSMUST00000070533.4 &  628248 & ENSMUSG00000051951 & Xkr4 & X-linked Kx blood group related 4\\\\\n",
       "\t chr1 & 3062848 & 3063078 & 231 & * & ID=SRX2793944;Name=Cdk8\\%20(@\\%20ES\\%20cells);Title=GSM2611279:\\%20Fbxl19flfl\\%20OHT\\%20CDK8\\%20rep1\\%3B\\%20Mus\\%20musculus\\%3B\\%20ChIP-Seq;Cell\\%20group=Pluripotent\\%20stem\\%20cell;<br>source\\_name=Fbxl19flfl\\_OHT\\_CDK8;cell\\%20line=Fbxl19\\%20fl/fl;cell\\%20type=mouse\\%20embryonic\\%20stem\\%20cells;treated\\%20with=800nM\\%204-hydroxytamoxifen\\%20for\\%2096\\%20h;antibody=CDK8\\%20(Bethyl\\%20Laboratories,\\%20A302-500A,\\%20lot\\%20A302-500A-1);replicate=1;passage=13-20; & 433 & . & 3062847 & 3063078 & ⋯ & 3214482 & 3671498 & 457017 & 2 & 497097 & ENSMUST00000070533.4 &  608420 & ENSMUSG00000051951 & Xkr4 & X-linked Kx blood group related 4\\\\\n",
       "\t chr1 & 3062873 & 3063079 & 207 & * & ID=SRX2793941;Name=Cdk8\\%20(@\\%20ES\\%20cells);Title=GSM2611276:\\%20Fbxl19flfl\\%20UNT\\%20CDK8\\%20rep2\\%3B\\%20Mus\\%20musculus\\%3B\\%20ChIP-Seq;Cell\\%20group=Pluripotent\\%20stem\\%20cell;<br>source\\_name=Fbxl19flfl\\_UNT\\_CDK8;cell\\%20line=Fbxl19\\%20fl/fl;cell\\%20type=mouse\\%20embryonic\\%20stem\\%20cells;treated\\%20with=none\\%20(untreated);antibody=CDK8\\%20(Bethyl\\%20Laboratories,\\%20A302-500A,\\%20lot\\%20A302-500A-1);replicate=2;passage=13-20;                        & 423 & . & 3062872 & 3063079 & ⋯ & 3214482 & 3671498 & 457017 & 2 & 497097 & ENSMUST00000070533.4 &  608419 & ENSMUSG00000051951 & Xkr4 & X-linked Kx blood group related 4\\\\\n",
       "\t chr1 & 3062889 & 3063054 & 166 & * & ID=SRX2793945;Name=Cdk8\\%20(@\\%20ES\\%20cells);Title=GSM2611280:\\%20Fbxl19flfl\\%20OHT\\%20CDK8\\%20rep2\\%3B\\%20Mus\\%20musculus\\%3B\\%20ChIP-Seq;Cell\\%20group=Pluripotent\\%20stem\\%20cell;<br>source\\_name=Fbxl19flfl\\_OHT\\_CDK8;cell\\%20line=Fbxl19\\%20fl/fl;cell\\%20type=mouse\\%20embryonic\\%20stem\\%20cells;treated\\%20with=800nM\\%204-hydroxytamoxifen\\%20for\\%2096\\%20h;antibody=CDK8\\%20(Bethyl\\%20Laboratories,\\%20A302-500A,\\%20lot\\%20A302-500A-1);replicate=2;passage=13-20; & 180 & . & 3062888 & 3063054 & ⋯ & 3214482 & 3671498 & 457017 & 2 & 497097 & ENSMUST00000070533.4 &  608444 & ENSMUSG00000051951 & Xkr4 & X-linked Kx blood group related 4\\\\\n",
       "\t chr1 & 3482883 & 3483225 & 343 & * & ID=SRX2793941;Name=Cdk8\\%20(@\\%20ES\\%20cells);Title=GSM2611276:\\%20Fbxl19flfl\\%20UNT\\%20CDK8\\%20rep2\\%3B\\%20Mus\\%20musculus\\%3B\\%20ChIP-Seq;Cell\\%20group=Pluripotent\\%20stem\\%20cell;<br>source\\_name=Fbxl19flfl\\_UNT\\_CDK8;cell\\%20line=Fbxl19\\%20fl/fl;cell\\%20type=mouse\\%20embryonic\\%20stem\\%20cells;treated\\%20with=none\\%20(untreated);antibody=CDK8\\%20(Bethyl\\%20Laboratories,\\%20A302-500A,\\%20lot\\%20A302-500A-1);replicate=2;passage=13-20;                        & 783 & . & 3482882 & 3483225 & ⋯ & 3214482 & 3671498 & 457017 & 2 & 497097 & ENSMUST00000070533.4 &  188273 & ENSMUSG00000051951 & Xkr4 & X-linked Kx blood group related 4\\\\\n",
       "\t chr1 & 3482888 & 3483193 & 306 & * & ID=SRX2793944;Name=Cdk8\\%20(@\\%20ES\\%20cells);Title=GSM2611279:\\%20Fbxl19flfl\\%20OHT\\%20CDK8\\%20rep1\\%3B\\%20Mus\\%20musculus\\%3B\\%20ChIP-Seq;Cell\\%20group=Pluripotent\\%20stem\\%20cell;<br>source\\_name=Fbxl19flfl\\_OHT\\_CDK8;cell\\%20line=Fbxl19\\%20fl/fl;cell\\%20type=mouse\\%20embryonic\\%20stem\\%20cells;treated\\%20with=800nM\\%204-hydroxytamoxifen\\%20for\\%2096\\%20h;antibody=CDK8\\%20(Bethyl\\%20Laboratories,\\%20A302-500A,\\%20lot\\%20A302-500A-1);replicate=1;passage=13-20; & 547 & . & 3482887 & 3483193 & ⋯ & 3214482 & 3671498 & 457017 & 2 & 497097 & ENSMUST00000070533.4 &  188305 & ENSMUSG00000051951 & Xkr4 & X-linked Kx blood group related 4\\\\\n",
       "\t chr1 & 3482892 & 3483207 & 316 & * & ID=SRX2793940;Name=Cdk8\\%20(@\\%20ES\\%20cells);Title=GSM2611275:\\%20Fbxl19flfl\\%20UNT\\%20CDK8\\%20rep1\\%3B\\%20Mus\\%20musculus\\%3B\\%20ChIP-Seq;Cell\\%20group=Pluripotent\\%20stem\\%20cell;<br>source\\_name=Fbxl19flfl\\_UNT\\_CDK8;cell\\%20line=Fbxl19\\%20fl/fl;cell\\%20type=mouse\\%20embryonic\\%20stem\\%20cells;treated\\%20with=none\\%20(untreated);antibody=CDK8\\%20(Bethyl\\%20Laboratories,\\%20A302-500A,\\%20lot\\%20A302-500A-1);replicate=1;passage=13-20;                        & 354 & . & 3482891 & 3483207 & ⋯ & 3214482 & 3671498 & 457017 & 2 & 497097 & ENSMUST00000070533.4 &  188291 & ENSMUSG00000051951 & Xkr4 & X-linked Kx blood group related 4\\\\\n",
       "\t chr1 & 3482911 & 3483255 & 345 & * & ID=SRX2793945;Name=Cdk8\\%20(@\\%20ES\\%20cells);Title=GSM2611280:\\%20Fbxl19flfl\\%20OHT\\%20CDK8\\%20rep2\\%3B\\%20Mus\\%20musculus\\%3B\\%20ChIP-Seq;Cell\\%20group=Pluripotent\\%20stem\\%20cell;<br>source\\_name=Fbxl19flfl\\_OHT\\_CDK8;cell\\%20line=Fbxl19\\%20fl/fl;cell\\%20type=mouse\\%20embryonic\\%20stem\\%20cells;treated\\%20with=800nM\\%204-hydroxytamoxifen\\%20for\\%2096\\%20h;antibody=CDK8\\%20(Bethyl\\%20Laboratories,\\%20A302-500A,\\%20lot\\%20A302-500A-1);replicate=2;passage=13-20; & 348 & . & 3482910 & 3483255 & ⋯ & 3214482 & 3671498 & 457017 & 2 & 497097 & ENSMUST00000070533.4 &  188243 & ENSMUSG00000051951 & Xkr4 & X-linked Kx blood group related 4\\\\\n",
       "\t chr1 & 3482999 & 3483218 & 220 & * & ID=SRX236482;Name=Cdk8\\%20(@\\%20ES\\%20cells);Title=GSM1082346:\\%20Cdk8\\%20mES\\%20r2\\%20ChipSeq\\%3B\\%20Mus\\%20musculus\\%3B\\%20ChIP-Seq;Cell\\%20group=Pluripotent\\%20stem\\%20cell;<br>source\\_name=Embryonic\\%20stem\\%20cells;chip\\%20antibody=cdk8;antibody\\%20vendor\\%20and\\%20catalog\\%20number=Santa\\%20Cruz\\%20SC-1521;background\\%20strain=C57BL/6-129;                                                                                                                & 111 & . & 3482998 & 3483218 & ⋯ & 3214482 & 3671498 & 457017 & 2 & 497097 & ENSMUST00000070533.4 &  188280 & ENSMUSG00000051951 & Xkr4 & X-linked Kx blood group related 4\\\\\n",
       "\t chr1 & 3549422 & 3549830 & 409 & * & ID=SRX2793944;Name=Cdk8\\%20(@\\%20ES\\%20cells);Title=GSM2611279:\\%20Fbxl19flfl\\%20OHT\\%20CDK8\\%20rep1\\%3B\\%20Mus\\%20musculus\\%3B\\%20ChIP-Seq;Cell\\%20group=Pluripotent\\%20stem\\%20cell;<br>source\\_name=Fbxl19flfl\\_OHT\\_CDK8;cell\\%20line=Fbxl19\\%20fl/fl;cell\\%20type=mouse\\%20embryonic\\%20stem\\%20cells;treated\\%20with=800nM\\%204-hydroxytamoxifen\\%20for\\%2096\\%20h;antibody=CDK8\\%20(Bethyl\\%20Laboratories,\\%20A302-500A,\\%20lot\\%20A302-500A-1);replicate=1;passage=13-20; & 177 & . & 3549421 & 3549830 & ⋯ & 3214482 & 3671498 & 457017 & 2 & 497097 & ENSMUST00000070533.4 &  121668 & ENSMUSG00000051951 & Xkr4 & X-linked Kx blood group related 4\\\\\n",
       "\t chr1 & 3549441 & 3549770 & 330 & * & ID=SRX2793941;Name=Cdk8\\%20(@\\%20ES\\%20cells);Title=GSM2611276:\\%20Fbxl19flfl\\%20UNT\\%20CDK8\\%20rep2\\%3B\\%20Mus\\%20musculus\\%3B\\%20ChIP-Seq;Cell\\%20group=Pluripotent\\%20stem\\%20cell;<br>source\\_name=Fbxl19flfl\\_UNT\\_CDK8;cell\\%20line=Fbxl19\\%20fl/fl;cell\\%20type=mouse\\%20embryonic\\%20stem\\%20cells;treated\\%20with=none\\%20(untreated);antibody=CDK8\\%20(Bethyl\\%20Laboratories,\\%20A302-500A,\\%20lot\\%20A302-500A-1);replicate=2;passage=13-20;                        & 157 & . & 3549440 & 3549770 & ⋯ & 3214482 & 3671498 & 457017 & 2 & 497097 & ENSMUST00000070533.4 &  121728 & ENSMUSG00000051951 & Xkr4 & X-linked Kx blood group related 4\\\\\n",
       "\t chr1 & 3549489 & 3549716 & 228 & * & ID=SRX2793945;Name=Cdk8\\%20(@\\%20ES\\%20cells);Title=GSM2611280:\\%20Fbxl19flfl\\%20OHT\\%20CDK8\\%20rep2\\%3B\\%20Mus\\%20musculus\\%3B\\%20ChIP-Seq;Cell\\%20group=Pluripotent\\%20stem\\%20cell;<br>source\\_name=Fbxl19flfl\\_OHT\\_CDK8;cell\\%20line=Fbxl19\\%20fl/fl;cell\\%20type=mouse\\%20embryonic\\%20stem\\%20cells;treated\\%20with=800nM\\%204-hydroxytamoxifen\\%20for\\%2096\\%20h;antibody=CDK8\\%20(Bethyl\\%20Laboratories,\\%20A302-500A,\\%20lot\\%20A302-500A-1);replicate=2;passage=13-20; &  87 & . & 3549488 & 3549716 & ⋯ & 3214482 & 3671498 & 457017 & 2 & 497097 & ENSMUST00000070533.4 &  121782 & ENSMUSG00000051951 & Xkr4 & X-linked Kx blood group related 4\\\\\n",
       "\t chr1 & 3671646 & 3671854 & 209 & * & ID=SRX2793941;Name=Cdk8\\%20(@\\%20ES\\%20cells);Title=GSM2611276:\\%20Fbxl19flfl\\%20UNT\\%20CDK8\\%20rep2\\%3B\\%20Mus\\%20musculus\\%3B\\%20ChIP-Seq;Cell\\%20group=Pluripotent\\%20stem\\%20cell;<br>source\\_name=Fbxl19flfl\\_UNT\\_CDK8;cell\\%20line=Fbxl19\\%20fl/fl;cell\\%20type=mouse\\%20embryonic\\%20stem\\%20cells;treated\\%20with=none\\%20(untreated);antibody=CDK8\\%20(Bethyl\\%20Laboratories,\\%20A302-500A,\\%20lot\\%20A302-500A-1);replicate=2;passage=13-20;                        & 110 & . & 3671645 & 3671854 & ⋯ & 3214482 & 3671498 & 457017 & 2 & 497097 & ENSMUST00000070533.4 &    -148 & ENSMUSG00000051951 & Xkr4 & X-linked Kx blood group related 4\\\\\n",
       "\t chr1 & 3681536 & 3681831 & 296 & * & ID=SRX2793941;Name=Cdk8\\%20(@\\%20ES\\%20cells);Title=GSM2611276:\\%20Fbxl19flfl\\%20UNT\\%20CDK8\\%20rep2\\%3B\\%20Mus\\%20musculus\\%3B\\%20ChIP-Seq;Cell\\%20group=Pluripotent\\%20stem\\%20cell;<br>source\\_name=Fbxl19flfl\\_UNT\\_CDK8;cell\\%20line=Fbxl19\\%20fl/fl;cell\\%20type=mouse\\%20embryonic\\%20stem\\%20cells;treated\\%20with=none\\%20(untreated);antibody=CDK8\\%20(Bethyl\\%20Laboratories,\\%20A302-500A,\\%20lot\\%20A302-500A-1);replicate=2;passage=13-20;                        & 510 & . & 3681535 & 3681831 & ⋯ & 3214482 & 3671498 & 457017 & 2 & 497097 & ENSMUST00000070533.4 &  -10038 & ENSMUSG00000051951 & Xkr4 & X-linked Kx blood group related 4\\\\\n",
       "\t chr1 & 3681541 & 3681748 & 208 & * & ID=SRX2793940;Name=Cdk8\\%20(@\\%20ES\\%20cells);Title=GSM2611275:\\%20Fbxl19flfl\\%20UNT\\%20CDK8\\%20rep1\\%3B\\%20Mus\\%20musculus\\%3B\\%20ChIP-Seq;Cell\\%20group=Pluripotent\\%20stem\\%20cell;<br>source\\_name=Fbxl19flfl\\_UNT\\_CDK8;cell\\%20line=Fbxl19\\%20fl/fl;cell\\%20type=mouse\\%20embryonic\\%20stem\\%20cells;treated\\%20with=none\\%20(untreated);antibody=CDK8\\%20(Bethyl\\%20Laboratories,\\%20A302-500A,\\%20lot\\%20A302-500A-1);replicate=1;passage=13-20;                        & 173 & . & 3681540 & 3681748 & ⋯ & 3214482 & 3671498 & 457017 & 2 & 497097 & ENSMUST00000070533.4 &  -10043 & ENSMUSG00000051951 & Xkr4 & X-linked Kx blood group related 4\\\\\n",
       "\t chr1 & 3681550 & 3681798 & 249 & * & ID=SRX2793944;Name=Cdk8\\%20(@\\%20ES\\%20cells);Title=GSM2611279:\\%20Fbxl19flfl\\%20OHT\\%20CDK8\\%20rep1\\%3B\\%20Mus\\%20musculus\\%3B\\%20ChIP-Seq;Cell\\%20group=Pluripotent\\%20stem\\%20cell;<br>source\\_name=Fbxl19flfl\\_OHT\\_CDK8;cell\\%20line=Fbxl19\\%20fl/fl;cell\\%20type=mouse\\%20embryonic\\%20stem\\%20cells;treated\\%20with=800nM\\%204-hydroxytamoxifen\\%20for\\%2096\\%20h;antibody=CDK8\\%20(Bethyl\\%20Laboratories,\\%20A302-500A,\\%20lot\\%20A302-500A-1);replicate=1;passage=13-20; & 281 & . & 3681549 & 3681798 & ⋯ & 3214482 & 3671498 & 457017 & 2 & 497097 & ENSMUST00000070533.4 &  -10052 & ENSMUSG00000051951 & Xkr4 & X-linked Kx blood group related 4\\\\\n",
       "\t chr1 & 3681556 & 3681815 & 260 & * & ID=SRX2793945;Name=Cdk8\\%20(@\\%20ES\\%20cells);Title=GSM2611280:\\%20Fbxl19flfl\\%20OHT\\%20CDK8\\%20rep2\\%3B\\%20Mus\\%20musculus\\%3B\\%20ChIP-Seq;Cell\\%20group=Pluripotent\\%20stem\\%20cell;<br>source\\_name=Fbxl19flfl\\_OHT\\_CDK8;cell\\%20line=Fbxl19\\%20fl/fl;cell\\%20type=mouse\\%20embryonic\\%20stem\\%20cells;treated\\%20with=800nM\\%204-hydroxytamoxifen\\%20for\\%2096\\%20h;antibody=CDK8\\%20(Bethyl\\%20Laboratories,\\%20A302-500A,\\%20lot\\%20A302-500A-1);replicate=2;passage=13-20; & 291 & . & 3681555 & 3681815 & ⋯ & 3214482 & 3671498 & 457017 & 2 & 497097 & ENSMUST00000070533.4 &  -10058 & ENSMUSG00000051951 & Xkr4 & X-linked Kx blood group related 4\\\\\n",
       "\t chr1 & 3953653 & 3953887 & 235 & * & ID=SRX2793941;Name=Cdk8\\%20(@\\%20ES\\%20cells);Title=GSM2611276:\\%20Fbxl19flfl\\%20UNT\\%20CDK8\\%20rep2\\%3B\\%20Mus\\%20musculus\\%3B\\%20ChIP-Seq;Cell\\%20group=Pluripotent\\%20stem\\%20cell;<br>source\\_name=Fbxl19flfl\\_UNT\\_CDK8;cell\\%20line=Fbxl19\\%20fl/fl;cell\\%20type=mouse\\%20embryonic\\%20stem\\%20cells;treated\\%20with=none\\%20(untreated);antibody=CDK8\\%20(Bethyl\\%20Laboratories,\\%20A302-500A,\\%20lot\\%20A302-500A-1);replicate=2;passage=13-20;                        & 276 & . & 3953652 & 3953887 & ⋯ & 3214482 & 3671498 & 457017 & 2 & 497097 & ENSMUST00000070533.4 & -282155 & ENSMUSG00000051951 & Xkr4 & X-linked Kx blood group related 4\\\\\n",
       "\t chr1 & 3953659 & 3953864 & 206 & * & ID=SRX2793944;Name=Cdk8\\%20(@\\%20ES\\%20cells);Title=GSM2611279:\\%20Fbxl19flfl\\%20OHT\\%20CDK8\\%20rep1\\%3B\\%20Mus\\%20musculus\\%3B\\%20ChIP-Seq;Cell\\%20group=Pluripotent\\%20stem\\%20cell;<br>source\\_name=Fbxl19flfl\\_OHT\\_CDK8;cell\\%20line=Fbxl19\\%20fl/fl;cell\\%20type=mouse\\%20embryonic\\%20stem\\%20cells;treated\\%20with=800nM\\%204-hydroxytamoxifen\\%20for\\%2096\\%20h;antibody=CDK8\\%20(Bethyl\\%20Laboratories,\\%20A302-500A,\\%20lot\\%20A302-500A-1);replicate=1;passage=13-20; & 167 & . & 3953658 & 3953864 & ⋯ & 3214482 & 3671498 & 457017 & 2 & 497097 & ENSMUST00000070533.4 & -282161 & ENSMUSG00000051951 & Xkr4 & X-linked Kx blood group related 4\\\\\n",
       "\t chr1 & 3953702 & 3953873 & 172 & * & ID=SRX2793945;Name=Cdk8\\%20(@\\%20ES\\%20cells);Title=GSM2611280:\\%20Fbxl19flfl\\%20OHT\\%20CDK8\\%20rep2\\%3B\\%20Mus\\%20musculus\\%3B\\%20ChIP-Seq;Cell\\%20group=Pluripotent\\%20stem\\%20cell;<br>source\\_name=Fbxl19flfl\\_OHT\\_CDK8;cell\\%20line=Fbxl19\\%20fl/fl;cell\\%20type=mouse\\%20embryonic\\%20stem\\%20cells;treated\\%20with=800nM\\%204-hydroxytamoxifen\\%20for\\%2096\\%20h;antibody=CDK8\\%20(Bethyl\\%20Laboratories,\\%20A302-500A,\\%20lot\\%20A302-500A-1);replicate=2;passage=13-20; & 138 & . & 3953701 & 3953873 & ⋯ & 3214482 & 3671498 & 457017 & 2 & 497097 & ENSMUST00000070533.4 & -282204 & ENSMUSG00000051951 & Xkr4 & X-linked Kx blood group related 4\\\\\n",
       "\t chr1 & 3982085 & 3982249 & 165 & * & ID=SRX2793941;Name=Cdk8\\%20(@\\%20ES\\%20cells);Title=GSM2611276:\\%20Fbxl19flfl\\%20UNT\\%20CDK8\\%20rep2\\%3B\\%20Mus\\%20musculus\\%3B\\%20ChIP-Seq;Cell\\%20group=Pluripotent\\%20stem\\%20cell;<br>source\\_name=Fbxl19flfl\\_UNT\\_CDK8;cell\\%20line=Fbxl19\\%20fl/fl;cell\\%20type=mouse\\%20embryonic\\%20stem\\%20cells;treated\\%20with=none\\%20(untreated);antibody=CDK8\\%20(Bethyl\\%20Laboratories,\\%20A302-500A,\\%20lot\\%20A302-500A-1);replicate=2;passage=13-20;                        & 141 & . & 3982084 & 3982249 & ⋯ & 3214482 & 3671498 & 457017 & 2 & 497097 & ENSMUST00000070533.4 & -310587 & ENSMUSG00000051951 & Xkr4 & X-linked Kx blood group related 4\\\\\n",
       "\t chr1 & 3982087 & 3982283 & 197 & * & ID=SRX2793944;Name=Cdk8\\%20(@\\%20ES\\%20cells);Title=GSM2611279:\\%20Fbxl19flfl\\%20OHT\\%20CDK8\\%20rep1\\%3B\\%20Mus\\%20musculus\\%3B\\%20ChIP-Seq;Cell\\%20group=Pluripotent\\%20stem\\%20cell;<br>source\\_name=Fbxl19flfl\\_OHT\\_CDK8;cell\\%20line=Fbxl19\\%20fl/fl;cell\\%20type=mouse\\%20embryonic\\%20stem\\%20cells;treated\\%20with=800nM\\%204-hydroxytamoxifen\\%20for\\%2096\\%20h;antibody=CDK8\\%20(Bethyl\\%20Laboratories,\\%20A302-500A,\\%20lot\\%20A302-500A-1);replicate=1;passage=13-20; & 162 & . & 3982086 & 3982283 & ⋯ & 3214482 & 3671498 & 457017 & 2 & 497097 & ENSMUST00000070533.4 & -310589 & ENSMUSG00000051951 & Xkr4 & X-linked Kx blood group related 4\\\\\n",
       "\t chr1 & 4150847 & 4151148 & 302 & * & ID=SRX2793941;Name=Cdk8\\%20(@\\%20ES\\%20cells);Title=GSM2611276:\\%20Fbxl19flfl\\%20UNT\\%20CDK8\\%20rep2\\%3B\\%20Mus\\%20musculus\\%3B\\%20ChIP-Seq;Cell\\%20group=Pluripotent\\%20stem\\%20cell;<br>source\\_name=Fbxl19flfl\\_UNT\\_CDK8;cell\\%20line=Fbxl19\\%20fl/fl;cell\\%20type=mouse\\%20embryonic\\%20stem\\%20cells;treated\\%20with=none\\%20(untreated);antibody=CDK8\\%20(Bethyl\\%20Laboratories,\\%20A302-500A,\\%20lot\\%20A302-500A-1);replicate=2;passage=13-20;                        & 418 & . & 4150846 & 4151148 & ⋯ & 4344146 & 4360314 &  16169 & 2 & 19888  & ENSMUST00000027032.5 &  209166 & ENSMUSG00000025900 & Rp1  & retinitis pigmentosa 1 (human)   \\\\\n",
       "\t chr1 & 4150861 & 4151092 & 232 & * & ID=SRX2793940;Name=Cdk8\\%20(@\\%20ES\\%20cells);Title=GSM2611275:\\%20Fbxl19flfl\\%20UNT\\%20CDK8\\%20rep1\\%3B\\%20Mus\\%20musculus\\%3B\\%20ChIP-Seq;Cell\\%20group=Pluripotent\\%20stem\\%20cell;<br>source\\_name=Fbxl19flfl\\_UNT\\_CDK8;cell\\%20line=Fbxl19\\%20fl/fl;cell\\%20type=mouse\\%20embryonic\\%20stem\\%20cells;treated\\%20with=none\\%20(untreated);antibody=CDK8\\%20(Bethyl\\%20Laboratories,\\%20A302-500A,\\%20lot\\%20A302-500A-1);replicate=1;passage=13-20;                        & 219 & . & 4150860 & 4151092 & ⋯ & 4344146 & 4360314 &  16169 & 2 & 19888  & ENSMUST00000027032.5 &  209222 & ENSMUSG00000025900 & Rp1  & retinitis pigmentosa 1 (human)   \\\\\n",
       "\t chr1 & 4150879 & 4151117 & 239 & * & ID=SRX2793945;Name=Cdk8\\%20(@\\%20ES\\%20cells);Title=GSM2611280:\\%20Fbxl19flfl\\%20OHT\\%20CDK8\\%20rep2\\%3B\\%20Mus\\%20musculus\\%3B\\%20ChIP-Seq;Cell\\%20group=Pluripotent\\%20stem\\%20cell;<br>source\\_name=Fbxl19flfl\\_OHT\\_CDK8;cell\\%20line=Fbxl19\\%20fl/fl;cell\\%20type=mouse\\%20embryonic\\%20stem\\%20cells;treated\\%20with=800nM\\%204-hydroxytamoxifen\\%20for\\%2096\\%20h;antibody=CDK8\\%20(Bethyl\\%20Laboratories,\\%20A302-500A,\\%20lot\\%20A302-500A-1);replicate=2;passage=13-20; & 200 & . & 4150878 & 4151117 & ⋯ & 4344146 & 4360314 &  16169 & 2 & 19888  & ENSMUST00000027032.5 &  209197 & ENSMUSG00000025900 & Rp1  & retinitis pigmentosa 1 (human)   \\\\\n",
       "\t chr1 & 4150882 & 4151158 & 277 & * & ID=SRX2793944;Name=Cdk8\\%20(@\\%20ES\\%20cells);Title=GSM2611279:\\%20Fbxl19flfl\\%20OHT\\%20CDK8\\%20rep1\\%3B\\%20Mus\\%20musculus\\%3B\\%20ChIP-Seq;Cell\\%20group=Pluripotent\\%20stem\\%20cell;<br>source\\_name=Fbxl19flfl\\_OHT\\_CDK8;cell\\%20line=Fbxl19\\%20fl/fl;cell\\%20type=mouse\\%20embryonic\\%20stem\\%20cells;treated\\%20with=800nM\\%204-hydroxytamoxifen\\%20for\\%2096\\%20h;antibody=CDK8\\%20(Bethyl\\%20Laboratories,\\%20A302-500A,\\%20lot\\%20A302-500A-1);replicate=1;passage=13-20; & 450 & . & 4150881 & 4151158 & ⋯ & 4344146 & 4360314 &  16169 & 2 & 19888  & ENSMUST00000027032.5 &  209156 & ENSMUSG00000025900 & Rp1  & retinitis pigmentosa 1 (human)   \\\\\n",
       "\t chr1 & 4214317 & 4214599 & 283 & * & ID=SRX2793945;Name=Cdk8\\%20(@\\%20ES\\%20cells);Title=GSM2611280:\\%20Fbxl19flfl\\%20OHT\\%20CDK8\\%20rep2\\%3B\\%20Mus\\%20musculus\\%3B\\%20ChIP-Seq;Cell\\%20group=Pluripotent\\%20stem\\%20cell;<br>source\\_name=Fbxl19flfl\\_OHT\\_CDK8;cell\\%20line=Fbxl19\\%20fl/fl;cell\\%20type=mouse\\%20embryonic\\%20stem\\%20cells;treated\\%20with=800nM\\%204-hydroxytamoxifen\\%20for\\%2096\\%20h;antibody=CDK8\\%20(Bethyl\\%20Laboratories,\\%20A302-500A,\\%20lot\\%20A302-500A-1);replicate=2;passage=13-20; & 395 & . & 4214316 & 4214599 & ⋯ & 4344146 & 4360314 &  16169 & 2 & 19888  & ENSMUST00000027032.5 &  145715 & ENSMUSG00000025900 & Rp1  & retinitis pigmentosa 1 (human)   \\\\\n",
       "\t ⋮ & ⋮ & ⋮ & ⋮ & ⋮ & ⋮ & ⋮ & ⋮ & ⋮ & ⋮ & ⋱ & ⋮ & ⋮ & ⋮ & ⋮ & ⋮ & ⋮ & ⋮ & ⋮ & ⋮ & ⋮\\\\\n",
       "\t chrY & 90777096 & 90777317 & 222 & * & ID=SRX236482;Name=Cdk8\\%20(@\\%20ES\\%20cells);Title=GSM1082346:\\%20Cdk8\\%20mES\\%20r2\\%20ChipSeq\\%3B\\%20Mus\\%20musculus\\%3B\\%20ChIP-Seq;Cell\\%20group=Pluripotent\\%20stem\\%20cell;<br>source\\_name=Embryonic\\%20stem\\%20cells;chip\\%20antibody=cdk8;antibody\\%20vendor\\%20and\\%20catalog\\%20number=Santa\\%20Cruz\\%20SC-1521;background\\%20strain=C57BL/6-129;                                                                                                                                                                                                                                                                                                                                                                                        & 253 & . & 90777095 & 90777317 & ⋯ & 90784738 & 90816447 & 31710 & 1 & 170942 & ENSMUST00000179483.8 & -7421 & NA & Erdr1x & erythroid differentiation regulator 1 x\\\\\n",
       "\t chrY & 90777108 & 90777367 & 260 & * & ID=SRX2793941;Name=Cdk8\\%20(@\\%20ES\\%20cells);Title=GSM2611276:\\%20Fbxl19flfl\\%20UNT\\%20CDK8\\%20rep2\\%3B\\%20Mus\\%20musculus\\%3B\\%20ChIP-Seq;Cell\\%20group=Pluripotent\\%20stem\\%20cell;<br>source\\_name=Fbxl19flfl\\_UNT\\_CDK8;cell\\%20line=Fbxl19\\%20fl/fl;cell\\%20type=mouse\\%20embryonic\\%20stem\\%20cells;treated\\%20with=none\\%20(untreated);antibody=CDK8\\%20(Bethyl\\%20Laboratories,\\%20A302-500A,\\%20lot\\%20A302-500A-1);replicate=2;passage=13-20;                                                                                                                                                                                                                                                                                                & 293 & . & 90777107 & 90777367 & ⋯ & 90784738 & 90816447 & 31710 & 1 & 170942 & ENSMUST00000179483.8 & -7371 & NA & Erdr1x & erythroid differentiation regulator 1 x\\\\\n",
       "\t chrY & 90777115 & 90777360 & 246 & * & ID=SRX2793940;Name=Cdk8\\%20(@\\%20ES\\%20cells);Title=GSM2611275:\\%20Fbxl19flfl\\%20UNT\\%20CDK8\\%20rep1\\%3B\\%20Mus\\%20musculus\\%3B\\%20ChIP-Seq;Cell\\%20group=Pluripotent\\%20stem\\%20cell;<br>source\\_name=Fbxl19flfl\\_UNT\\_CDK8;cell\\%20line=Fbxl19\\%20fl/fl;cell\\%20type=mouse\\%20embryonic\\%20stem\\%20cells;treated\\%20with=none\\%20(untreated);antibody=CDK8\\%20(Bethyl\\%20Laboratories,\\%20A302-500A,\\%20lot\\%20A302-500A-1);replicate=1;passage=13-20;                                                                                                                                                                                                                                                                                                & 129 & . & 90777114 & 90777360 & ⋯ & 90784738 & 90816447 & 31710 & 1 & 170942 & ENSMUST00000179483.8 & -7378 & NA & Erdr1x & erythroid differentiation regulator 1 x\\\\\n",
       "\t chrY & 90777123 & 90777374 & 252 & * & ID=SRX2793945;Name=Cdk8\\%20(@\\%20ES\\%20cells);Title=GSM2611280:\\%20Fbxl19flfl\\%20OHT\\%20CDK8\\%20rep2\\%3B\\%20Mus\\%20musculus\\%3B\\%20ChIP-Seq;Cell\\%20group=Pluripotent\\%20stem\\%20cell;<br>source\\_name=Fbxl19flfl\\_OHT\\_CDK8;cell\\%20line=Fbxl19\\%20fl/fl;cell\\%20type=mouse\\%20embryonic\\%20stem\\%20cells;treated\\%20with=800nM\\%204-hydroxytamoxifen\\%20for\\%2096\\%20h;antibody=CDK8\\%20(Bethyl\\%20Laboratories,\\%20A302-500A,\\%20lot\\%20A302-500A-1);replicate=2;passage=13-20;                                                                                                                                                                                                                                                                         & 389 & . & 90777122 & 90777374 & ⋯ & 90784738 & 90816447 & 31710 & 1 & 170942 & ENSMUST00000179483.8 & -7364 & NA & Erdr1x & erythroid differentiation regulator 1 x\\\\\n",
       "\t chrY & 90783807 & 90784229 & 423 & * & ID=SRX236482;Name=Cdk8\\%20(@\\%20ES\\%20cells);Title=GSM1082346:\\%20Cdk8\\%20mES\\%20r2\\%20ChipSeq\\%3B\\%20Mus\\%20musculus\\%3B\\%20ChIP-Seq;Cell\\%20group=Pluripotent\\%20stem\\%20cell;<br>source\\_name=Embryonic\\%20stem\\%20cells;chip\\%20antibody=cdk8;antibody\\%20vendor\\%20and\\%20catalog\\%20number=Santa\\%20Cruz\\%20SC-1521;background\\%20strain=C57BL/6-129;                                                                                                                                                                                                                                                                                                                                                                                        & 165 & . & 90783806 & 90784229 & ⋯ & 90784738 & 90816447 & 31710 & 1 & 170942 & ENSMUST00000179483.8 &  -509 & NA & Erdr1x & erythroid differentiation regulator 1 x\\\\\n",
       "\t chrY & 90783858 & 90784034 & 177 & * & ID=SRX2793945;Name=Cdk8\\%20(@\\%20ES\\%20cells);Title=GSM2611280:\\%20Fbxl19flfl\\%20OHT\\%20CDK8\\%20rep2\\%3B\\%20Mus\\%20musculus\\%3B\\%20ChIP-Seq;Cell\\%20group=Pluripotent\\%20stem\\%20cell;<br>source\\_name=Fbxl19flfl\\_OHT\\_CDK8;cell\\%20line=Fbxl19\\%20fl/fl;cell\\%20type=mouse\\%20embryonic\\%20stem\\%20cells;treated\\%20with=800nM\\%204-hydroxytamoxifen\\%20for\\%2096\\%20h;antibody=CDK8\\%20(Bethyl\\%20Laboratories,\\%20A302-500A,\\%20lot\\%20A302-500A-1);replicate=2;passage=13-20;                                                                                                                                                                                                                                                                         &  96 & . & 90783857 & 90784034 & ⋯ & 90784738 & 90816447 & 31710 & 1 & 170942 & ENSMUST00000179483.8 &  -704 & NA & Erdr1x & erythroid differentiation regulator 1 x\\\\\n",
       "\t chrY & 90783861 & 90784016 & 156 & * & ID=SRX668247;Name=Cdk8\\%20(@\\%20ES\\%20cells);Title=GSM1463943:\\%20Cdk8\\%20mES\\%20r1\\%20ChipSeq\\%3B\\%20Mus\\%20musculus\\%3B\\%20ChIP-Seq;Cell\\%20group=Pluripotent\\%20stem\\%20cell;<br>source\\_name=Embryonic\\%20stem\\%20cells;chip\\%20antibody=cdk8;antibody\\%20catalog\\%20number=Santa\\%20Cruz\\%20SC-1521;cell\\%20type=V6.5\\%20embryonic\\%20stem\\%20cells;                                                                                                                                                                                                                                                                                                                                                                                           &  96 & . & 90783860 & 90784016 & ⋯ & 90784738 & 90816447 & 31710 & 1 & 170942 & ENSMUST00000179483.8 &  -722 & NA & Erdr1x & erythroid differentiation regulator 1 x\\\\\n",
       "\t chrY & 90784087 & 90784575 & 489 & * & ID=SRX2793945;Name=Cdk8\\%20(@\\%20ES\\%20cells);Title=GSM2611280:\\%20Fbxl19flfl\\%20OHT\\%20CDK8\\%20rep2\\%3B\\%20Mus\\%20musculus\\%3B\\%20ChIP-Seq;Cell\\%20group=Pluripotent\\%20stem\\%20cell;<br>source\\_name=Fbxl19flfl\\_OHT\\_CDK8;cell\\%20line=Fbxl19\\%20fl/fl;cell\\%20type=mouse\\%20embryonic\\%20stem\\%20cells;treated\\%20with=800nM\\%204-hydroxytamoxifen\\%20for\\%2096\\%20h;antibody=CDK8\\%20(Bethyl\\%20Laboratories,\\%20A302-500A,\\%20lot\\%20A302-500A-1);replicate=2;passage=13-20;                                                                                                                                                                                                                                                                         & 109 & . & 90784086 & 90784575 & ⋯ & 90784738 & 90816447 & 31710 & 1 & 170942 & ENSMUST00000179483.8 &  -163 & NA & Erdr1x & erythroid differentiation regulator 1 x\\\\\n",
       "\t chrY & 90784145 & 90784558 & 414 & * & ID=SRX2793941;Name=Cdk8\\%20(@\\%20ES\\%20cells);Title=GSM2611276:\\%20Fbxl19flfl\\%20UNT\\%20CDK8\\%20rep2\\%3B\\%20Mus\\%20musculus\\%3B\\%20ChIP-Seq;Cell\\%20group=Pluripotent\\%20stem\\%20cell;<br>source\\_name=Fbxl19flfl\\_UNT\\_CDK8;cell\\%20line=Fbxl19\\%20fl/fl;cell\\%20type=mouse\\%20embryonic\\%20stem\\%20cells;treated\\%20with=none\\%20(untreated);antibody=CDK8\\%20(Bethyl\\%20Laboratories,\\%20A302-500A,\\%20lot\\%20A302-500A-1);replicate=2;passage=13-20;                                                                                                                                                                                                                                                                                                & 143 & . & 90784144 & 90784558 & ⋯ & 90784738 & 90816447 & 31710 & 1 & 170942 & ENSMUST00000179483.8 &  -180 & NA & Erdr1x & erythroid differentiation regulator 1 x\\\\\n",
       "\t chrY & 90784183 & 90784560 & 378 & * & ID=SRX2793940;Name=Cdk8\\%20(@\\%20ES\\%20cells);Title=GSM2611275:\\%20Fbxl19flfl\\%20UNT\\%20CDK8\\%20rep1\\%3B\\%20Mus\\%20musculus\\%3B\\%20ChIP-Seq;Cell\\%20group=Pluripotent\\%20stem\\%20cell;<br>source\\_name=Fbxl19flfl\\_UNT\\_CDK8;cell\\%20line=Fbxl19\\%20fl/fl;cell\\%20type=mouse\\%20embryonic\\%20stem\\%20cells;treated\\%20with=none\\%20(untreated);antibody=CDK8\\%20(Bethyl\\%20Laboratories,\\%20A302-500A,\\%20lot\\%20A302-500A-1);replicate=1;passage=13-20;                                                                                                                                                                                                                                                                                                & 153 & . & 90784182 & 90784560 & ⋯ & 90784738 & 90816447 & 31710 & 1 & 170942 & ENSMUST00000179483.8 &  -178 & NA & Erdr1x & erythroid differentiation regulator 1 x\\\\\n",
       "\t chrY & 90784188 & 90784585 & 398 & * & ID=SRX2793944;Name=Cdk8\\%20(@\\%20ES\\%20cells);Title=GSM2611279:\\%20Fbxl19flfl\\%20OHT\\%20CDK8\\%20rep1\\%3B\\%20Mus\\%20musculus\\%3B\\%20ChIP-Seq;Cell\\%20group=Pluripotent\\%20stem\\%20cell;<br>source\\_name=Fbxl19flfl\\_OHT\\_CDK8;cell\\%20line=Fbxl19\\%20fl/fl;cell\\%20type=mouse\\%20embryonic\\%20stem\\%20cells;treated\\%20with=800nM\\%204-hydroxytamoxifen\\%20for\\%2096\\%20h;antibody=CDK8\\%20(Bethyl\\%20Laboratories,\\%20A302-500A,\\%20lot\\%20A302-500A-1);replicate=1;passage=13-20;                                                                                                                                                                                                                                                                         & 131 & . & 90784187 & 90784585 & ⋯ & 90784738 & 90816447 & 31710 & 1 & 170942 & ENSMUST00000179483.8 &  -153 & NA & Erdr1x & erythroid differentiation regulator 1 x\\\\\n",
       "\t chrY & 90784714 & 90785080 & 367 & * & ID=SRX2793941;Name=Cdk8\\%20(@\\%20ES\\%20cells);Title=GSM2611276:\\%20Fbxl19flfl\\%20UNT\\%20CDK8\\%20rep2\\%3B\\%20Mus\\%20musculus\\%3B\\%20ChIP-Seq;Cell\\%20group=Pluripotent\\%20stem\\%20cell;<br>source\\_name=Fbxl19flfl\\_UNT\\_CDK8;cell\\%20line=Fbxl19\\%20fl/fl;cell\\%20type=mouse\\%20embryonic\\%20stem\\%20cells;treated\\%20with=none\\%20(untreated);antibody=CDK8\\%20(Bethyl\\%20Laboratories,\\%20A302-500A,\\%20lot\\%20A302-500A-1);replicate=2;passage=13-20;                                                                                                                                                                                                                                                                                                & 268 & . & 90784713 & 90785080 & ⋯ & 90784738 & 90816447 & 31710 & 1 & 170942 & ENSMUST00000179483.8 &     0 & NA & Erdr1x & erythroid differentiation regulator 1 x\\\\\n",
       "\t chrY & 90784729 & 90785003 & 275 & * & ID=SRX236482;Name=Cdk8\\%20(@\\%20ES\\%20cells);Title=GSM1082346:\\%20Cdk8\\%20mES\\%20r2\\%20ChipSeq\\%3B\\%20Mus\\%20musculus\\%3B\\%20ChIP-Seq;Cell\\%20group=Pluripotent\\%20stem\\%20cell;<br>source\\_name=Embryonic\\%20stem\\%20cells;chip\\%20antibody=cdk8;antibody\\%20vendor\\%20and\\%20catalog\\%20number=Santa\\%20Cruz\\%20SC-1521;background\\%20strain=C57BL/6-129;                                                                                                                                                                                                                                                                                                                                                                                        & 128 & . & 90784728 & 90785003 & ⋯ & 90784738 & 90816447 & 31710 & 1 & 170942 & ENSMUST00000179483.8 &     0 & NA & Erdr1x & erythroid differentiation regulator 1 x\\\\\n",
       "\t chrY & 90784730 & 90785115 & 386 & * & ID=SRX12622659;Name=Cdk8\\%20(@\\%20ES\\%20cells);Title=GSM5627388:\\%20Med1313lfll-MED14-T7\\%20RA\\%20UNT\\%20CDK8\\%20rep1\\%3B\\%20Mus\\%20musculus\\%3B\\%20ChIP-Seq;Cell\\%20group=Pluripotent\\%20stem\\%20cell;<br>source\\_name=Mouse\\%20embryonic\\%20stem\\%20cells\\%20treated\\%20with\\%20retinoic\\%20acid\\%20for\\%2048h,\\%20Med13/13l\\%20flfl\\%20with\\%20endogenously\\%20tagged\\%20Med14-T7,\\%20untreated\\%20control,\\%20CDK8\\%20ChIPseq;cell\\%20line=Med13\\%3BMed13l\\%20flfl\\%20Med14-T7;strain=Rosa26::ERT2-Cre;treatment=untreated;treatment\\%20time=0h;additional\\%20treatment=retinoic\\%20acid;additional\\%20treatment\\%20time=48h;replicate=1;type\\%20of\\%20chip=cross-linked;ChIP=CDK8;antibody=rabbit\\%20polyclonal\\%20anti-CDK8\\%20(A302-500A,\\%20Bethyl\\%20laboratories); & 439 & . & 90784729 & 90785115 & ⋯ & 90784738 & 90816447 & 31710 & 1 & 170942 & ENSMUST00000179483.8 &     0 & NA & Erdr1x & erythroid differentiation regulator 1 x\\\\\n",
       "\t chrY & 90784767 & 90785014 & 248 & * & ID=SRX2793944;Name=Cdk8\\%20(@\\%20ES\\%20cells);Title=GSM2611279:\\%20Fbxl19flfl\\%20OHT\\%20CDK8\\%20rep1\\%3B\\%20Mus\\%20musculus\\%3B\\%20ChIP-Seq;Cell\\%20group=Pluripotent\\%20stem\\%20cell;<br>source\\_name=Fbxl19flfl\\_OHT\\_CDK8;cell\\%20line=Fbxl19\\%20fl/fl;cell\\%20type=mouse\\%20embryonic\\%20stem\\%20cells;treated\\%20with=800nM\\%204-hydroxytamoxifen\\%20for\\%2096\\%20h;antibody=CDK8\\%20(Bethyl\\%20Laboratories,\\%20A302-500A,\\%20lot\\%20A302-500A-1);replicate=1;passage=13-20;                                                                                                                                                                                                                                                                         & 169 & . & 90784766 & 90785014 & ⋯ & 90784911 & 90816458 & 31548 & 1 & 170942 & ENSMUST00000238758.1 &     0 & NA & Erdr1x & erythroid differentiation regulator 1 x\\\\\n",
       "\t chrY & 90784775 & 90784965 & 191 & * & ID=SRX2793945;Name=Cdk8\\%20(@\\%20ES\\%20cells);Title=GSM2611280:\\%20Fbxl19flfl\\%20OHT\\%20CDK8\\%20rep2\\%3B\\%20Mus\\%20musculus\\%3B\\%20ChIP-Seq;Cell\\%20group=Pluripotent\\%20stem\\%20cell;<br>source\\_name=Fbxl19flfl\\_OHT\\_CDK8;cell\\%20line=Fbxl19\\%20fl/fl;cell\\%20type=mouse\\%20embryonic\\%20stem\\%20cells;treated\\%20with=800nM\\%204-hydroxytamoxifen\\%20for\\%2096\\%20h;antibody=CDK8\\%20(Bethyl\\%20Laboratories,\\%20A302-500A,\\%20lot\\%20A302-500A-1);replicate=2;passage=13-20;                                                                                                                                                                                                                                                                         & 150 & . & 90784774 & 90784965 & ⋯ & 90784911 & 90816458 & 31548 & 1 & 170942 & ENSMUST00000238758.1 &     0 & NA & Erdr1x & erythroid differentiation regulator 1 x\\\\\n",
       "\t chrY & 90784795 & 90785025 & 231 & * & ID=SRX12622661;Name=Cdk8\\%20(@\\%20ES\\%20cells);Title=GSM5627390:\\%20Med1313lfl-MED14-T7\\%20RA\\%20UNT\\%20CDK8\\%20rep3\\%3B\\%20Mus\\%20musculus\\%3B\\%20ChIP-Seq;Cell\\%20group=Pluripotent\\%20stem\\%20cell;<br>source\\_name=Mouse\\%20embryonic\\%20stem\\%20cells\\%20treated\\%20with\\%20retinoic\\%20acid\\%20for\\%2048h,\\%20Med13/13l\\%20flfl\\%20with\\%20endogenously\\%20tagged\\%20Med14-T7,\\%20untreated\\%20control,\\%20CDK8\\%20ChIPseq;cell\\%20line=Med13\\%3BMed13l\\%20flfl\\%20Med14-T7;strain=Rosa26::ERT2-Cre;treatment=untreated;treatment\\%20time=0h;additional\\%20treatment=retinoic\\%20acid;additional\\%20treatment\\%20time=48h;replicate=3;type\\%20of\\%20chip=cross-linked;ChIP=CDK8;antibody=rabbit\\%20polyclonal\\%20anti-CDK8\\%20(A302-500A,\\%20Bethyl\\%20laboratories);  & 173 & . & 90784794 & 90785025 & ⋯ & 90784911 & 90816458 & 31548 & 1 & 170942 & ENSMUST00000238758.1 &     0 & NA & Erdr1x & erythroid differentiation regulator 1 x\\\\\n",
       "\t chrY & 90792082 & 90792260 & 179 & * & ID=SRX2793944;Name=Cdk8\\%20(@\\%20ES\\%20cells);Title=GSM2611279:\\%20Fbxl19flfl\\%20OHT\\%20CDK8\\%20rep1\\%3B\\%20Mus\\%20musculus\\%3B\\%20ChIP-Seq;Cell\\%20group=Pluripotent\\%20stem\\%20cell;<br>source\\_name=Fbxl19flfl\\_OHT\\_CDK8;cell\\%20line=Fbxl19\\%20fl/fl;cell\\%20type=mouse\\%20embryonic\\%20stem\\%20cells;treated\\%20with=800nM\\%204-hydroxytamoxifen\\%20for\\%2096\\%20h;antibody=CDK8\\%20(Bethyl\\%20Laboratories,\\%20A302-500A,\\%20lot\\%20A302-500A-1);replicate=1;passage=13-20;                                                                                                                                                                                                                                                                         & 119 & . & 90792081 & 90792260 & ⋯ & 90790451 & 90816465 & 26015 & 1 & 170942 & ENSMUST00000238471.1 &  1631 & NA & Erdr1x & erythroid differentiation regulator 1 x\\\\\n",
       "\t chrY & 90796773 & 90796940 & 168 & * & ID=SRX236482;Name=Cdk8\\%20(@\\%20ES\\%20cells);Title=GSM1082346:\\%20Cdk8\\%20mES\\%20r2\\%20ChipSeq\\%3B\\%20Mus\\%20musculus\\%3B\\%20ChIP-Seq;Cell\\%20group=Pluripotent\\%20stem\\%20cell;<br>source\\_name=Embryonic\\%20stem\\%20cells;chip\\%20antibody=cdk8;antibody\\%20vendor\\%20and\\%20catalog\\%20number=Santa\\%20Cruz\\%20SC-1521;background\\%20strain=C57BL/6-129;                                                                                                                                                                                                                                                                                                                                                                                        & 139 & . & 90796772 & 90796940 & ⋯ & 90790451 & 90816465 & 26015 & 1 & 170942 & ENSMUST00000238471.1 &  6322 & NA & Erdr1x & erythroid differentiation regulator 1 x\\\\\n",
       "\t chrY & 90799212 & 90799445 & 234 & * & ID=SRX236482;Name=Cdk8\\%20(@\\%20ES\\%20cells);Title=GSM1082346:\\%20Cdk8\\%20mES\\%20r2\\%20ChipSeq\\%3B\\%20Mus\\%20musculus\\%3B\\%20ChIP-Seq;Cell\\%20group=Pluripotent\\%20stem\\%20cell;<br>source\\_name=Embryonic\\%20stem\\%20cells;chip\\%20antibody=cdk8;antibody\\%20vendor\\%20and\\%20catalog\\%20number=Santa\\%20Cruz\\%20SC-1521;background\\%20strain=C57BL/6-129;                                                                                                                                                                                                                                                                                                                                                                                        & 152 & . & 90799211 & 90799445 & ⋯ & 90790451 & 90816465 & 26015 & 1 & 170942 & ENSMUST00000238471.1 &  8761 & NA & Erdr1x & erythroid differentiation regulator 1 x\\\\\n",
       "\t chrY & 90800458 & 90800829 & 372 & * & ID=SRX236482;Name=Cdk8\\%20(@\\%20ES\\%20cells);Title=GSM1082346:\\%20Cdk8\\%20mES\\%20r2\\%20ChipSeq\\%3B\\%20Mus\\%20musculus\\%3B\\%20ChIP-Seq;Cell\\%20group=Pluripotent\\%20stem\\%20cell;<br>source\\_name=Embryonic\\%20stem\\%20cells;chip\\%20antibody=cdk8;antibody\\%20vendor\\%20and\\%20catalog\\%20number=Santa\\%20Cruz\\%20SC-1521;background\\%20strain=C57BL/6-129;                                                                                                                                                                                                                                                                                                                                                                                        & 105 & . & 90800457 & 90800829 & ⋯ & 90790451 & 90816465 & 26015 & 1 & 170942 & ENSMUST00000238471.1 & 10007 & NA & Erdr1x & erythroid differentiation regulator 1 x\\\\\n",
       "\t chrY & 90803519 & 90803705 & 187 & * & ID=SRX236482;Name=Cdk8\\%20(@\\%20ES\\%20cells);Title=GSM1082346:\\%20Cdk8\\%20mES\\%20r2\\%20ChipSeq\\%3B\\%20Mus\\%20musculus\\%3B\\%20ChIP-Seq;Cell\\%20group=Pluripotent\\%20stem\\%20cell;<br>source\\_name=Embryonic\\%20stem\\%20cells;chip\\%20antibody=cdk8;antibody\\%20vendor\\%20and\\%20catalog\\%20number=Santa\\%20Cruz\\%20SC-1521;background\\%20strain=C57BL/6-129;                                                                                                                                                                                                                                                                                                                                                                                        & 105 & . & 90803518 & 90803705 & ⋯ & 90790451 & 90816465 & 26015 & 1 & 170942 & ENSMUST00000238471.1 & 13068 & NA & Erdr1x & erythroid differentiation regulator 1 x\\\\\n",
       "\t chrY & 90805063 & 90805240 & 178 & * & ID=SRX236482;Name=Cdk8\\%20(@\\%20ES\\%20cells);Title=GSM1082346:\\%20Cdk8\\%20mES\\%20r2\\%20ChipSeq\\%3B\\%20Mus\\%20musculus\\%3B\\%20ChIP-Seq;Cell\\%20group=Pluripotent\\%20stem\\%20cell;<br>source\\_name=Embryonic\\%20stem\\%20cells;chip\\%20antibody=cdk8;antibody\\%20vendor\\%20and\\%20catalog\\%20number=Santa\\%20Cruz\\%20SC-1521;background\\%20strain=C57BL/6-129;                                                                                                                                                                                                                                                                                                                                                                                        & 164 & . & 90805062 & 90805240 & ⋯ & 90790451 & 90816465 & 26015 & 1 & 170942 & ENSMUST00000238471.1 & 14612 & NA & Erdr1x & erythroid differentiation regulator 1 x\\\\\n",
       "\t chrY & 90807629 & 90807877 & 249 & * & ID=SRX236482;Name=Cdk8\\%20(@\\%20ES\\%20cells);Title=GSM1082346:\\%20Cdk8\\%20mES\\%20r2\\%20ChipSeq\\%3B\\%20Mus\\%20musculus\\%3B\\%20ChIP-Seq;Cell\\%20group=Pluripotent\\%20stem\\%20cell;<br>source\\_name=Embryonic\\%20stem\\%20cells;chip\\%20antibody=cdk8;antibody\\%20vendor\\%20and\\%20catalog\\%20number=Santa\\%20Cruz\\%20SC-1521;background\\%20strain=C57BL/6-129;                                                                                                                                                                                                                                                                                                                                                                                        & 105 & . & 90807628 & 90807877 & ⋯ & 90790451 & 90816465 & 26015 & 1 & 170942 & ENSMUST00000238471.1 & 17178 & NA & Erdr1x & erythroid differentiation regulator 1 x\\\\\n",
       "\t chrY & 90808743 & 90808917 & 175 & * & ID=SRX2793944;Name=Cdk8\\%20(@\\%20ES\\%20cells);Title=GSM2611279:\\%20Fbxl19flfl\\%20OHT\\%20CDK8\\%20rep1\\%3B\\%20Mus\\%20musculus\\%3B\\%20ChIP-Seq;Cell\\%20group=Pluripotent\\%20stem\\%20cell;<br>source\\_name=Fbxl19flfl\\_OHT\\_CDK8;cell\\%20line=Fbxl19\\%20fl/fl;cell\\%20type=mouse\\%20embryonic\\%20stem\\%20cells;treated\\%20with=800nM\\%204-hydroxytamoxifen\\%20for\\%2096\\%20h;antibody=CDK8\\%20(Bethyl\\%20Laboratories,\\%20A302-500A,\\%20lot\\%20A302-500A-1);replicate=1;passage=13-20;                                                                                                                                                                                                                                                                         & 129 & . & 90808742 & 90808917 & ⋯ & 90790451 & 90816465 & 26015 & 1 & 170942 & ENSMUST00000238471.1 & 18292 & NA & Erdr1x & erythroid differentiation regulator 1 x\\\\\n",
       "\t chrY & 90810950 & 90811214 & 265 & * & ID=SRX236482;Name=Cdk8\\%20(@\\%20ES\\%20cells);Title=GSM1082346:\\%20Cdk8\\%20mES\\%20r2\\%20ChipSeq\\%3B\\%20Mus\\%20musculus\\%3B\\%20ChIP-Seq;Cell\\%20group=Pluripotent\\%20stem\\%20cell;<br>source\\_name=Embryonic\\%20stem\\%20cells;chip\\%20antibody=cdk8;antibody\\%20vendor\\%20and\\%20catalog\\%20number=Santa\\%20Cruz\\%20SC-1521;background\\%20strain=C57BL/6-129;                                                                                                                                                                                                                                                                                                                                                                                        & 224 & . & 90810949 & 90811214 & ⋯ & 90790451 & 90816465 & 26015 & 1 & 170942 & ENSMUST00000238471.1 & 20499 & NA & Erdr1x & erythroid differentiation regulator 1 x\\\\\n",
       "\t chrY & 90819424 & 90819914 & 491 & * & ID=SRX12622661;Name=Cdk8\\%20(@\\%20ES\\%20cells);Title=GSM5627390:\\%20Med1313lfl-MED14-T7\\%20RA\\%20UNT\\%20CDK8\\%20rep3\\%3B\\%20Mus\\%20musculus\\%3B\\%20ChIP-Seq;Cell\\%20group=Pluripotent\\%20stem\\%20cell;<br>source\\_name=Mouse\\%20embryonic\\%20stem\\%20cells\\%20treated\\%20with\\%20retinoic\\%20acid\\%20for\\%2048h,\\%20Med13/13l\\%20flfl\\%20with\\%20endogenously\\%20tagged\\%20Med14-T7,\\%20untreated\\%20control,\\%20CDK8\\%20ChIPseq;cell\\%20line=Med13\\%3BMed13l\\%20flfl\\%20Med14-T7;strain=Rosa26::ERT2-Cre;treatment=untreated;treatment\\%20time=0h;additional\\%20treatment=retinoic\\%20acid;additional\\%20treatment\\%20time=48h;replicate=3;type\\%20of\\%20chip=cross-linked;ChIP=CDK8;antibody=rabbit\\%20polyclonal\\%20anti-CDK8\\%20(A302-500A,\\%20Bethyl\\%20laboratories);  & 508 & . & 90819423 & 90819914 & ⋯ & 90790451 & 90816465 & 26015 & 1 & 170942 & ENSMUST00000238471.1 & 28973 & NA & Erdr1x & erythroid differentiation regulator 1 x\\\\\n",
       "\t chrY & 90819451 & 90819926 & 476 & * & ID=SRX12622659;Name=Cdk8\\%20(@\\%20ES\\%20cells);Title=GSM5627388:\\%20Med1313lfll-MED14-T7\\%20RA\\%20UNT\\%20CDK8\\%20rep1\\%3B\\%20Mus\\%20musculus\\%3B\\%20ChIP-Seq;Cell\\%20group=Pluripotent\\%20stem\\%20cell;<br>source\\_name=Mouse\\%20embryonic\\%20stem\\%20cells\\%20treated\\%20with\\%20retinoic\\%20acid\\%20for\\%2048h,\\%20Med13/13l\\%20flfl\\%20with\\%20endogenously\\%20tagged\\%20Med14-T7,\\%20untreated\\%20control,\\%20CDK8\\%20ChIPseq;cell\\%20line=Med13\\%3BMed13l\\%20flfl\\%20Med14-T7;strain=Rosa26::ERT2-Cre;treatment=untreated;treatment\\%20time=0h;additional\\%20treatment=retinoic\\%20acid;additional\\%20treatment\\%20time=48h;replicate=1;type\\%20of\\%20chip=cross-linked;ChIP=CDK8;antibody=rabbit\\%20polyclonal\\%20anti-CDK8\\%20(A302-500A,\\%20Bethyl\\%20laboratories); & 511 & . & 90819450 & 90819926 & ⋯ & 90790451 & 90816465 & 26015 & 1 & 170942 & ENSMUST00000238471.1 & 29000 & NA & Erdr1x & erythroid differentiation regulator 1 x\\\\\n",
       "\t chrY & 90819658 & 90819882 & 225 & * & ID=SRX12622660;Name=Cdk8\\%20(@\\%20ES\\%20cells);Title=GSM5627389:\\%20Med1313lfl-MED14-T7\\%20RA\\%20UNT\\%20CDK8\\%20rep2\\%3B\\%20Mus\\%20musculus\\%3B\\%20ChIP-Seq;Cell\\%20group=Pluripotent\\%20stem\\%20cell;<br>source\\_name=Mouse\\%20embryonic\\%20stem\\%20cells\\%20treated\\%20with\\%20retinoic\\%20acid\\%20for\\%2048h,\\%20Med13/13l\\%20flfl\\%20with\\%20endogenously\\%20tagged\\%20Med14-T7,\\%20untreated\\%20control,\\%20CDK8\\%20ChIPseq;cell\\%20line=Med13\\%3BMed13l\\%20flfl\\%20Med14-T7;strain=Rosa26::ERT2-Cre;treatment=untreated;treatment\\%20time=0h;additional\\%20treatment=retinoic\\%20acid;additional\\%20treatment\\%20time=48h;replicate=2;type\\%20of\\%20chip=cross-linked;ChIP=CDK8;antibody=rabbit\\%20polyclonal\\%20anti-CDK8\\%20(A302-500A,\\%20Bethyl\\%20laboratories);  & 193 & . & 90819657 & 90819882 & ⋯ & 90790451 & 90816465 & 26015 & 1 & 170942 & ENSMUST00000238471.1 & 29207 & NA & Erdr1x & erythroid differentiation regulator 1 x\\\\\n",
       "\t chrY & 90819687 & 90819870 & 184 & * & ID=SRX2793940;Name=Cdk8\\%20(@\\%20ES\\%20cells);Title=GSM2611275:\\%20Fbxl19flfl\\%20UNT\\%20CDK8\\%20rep1\\%3B\\%20Mus\\%20musculus\\%3B\\%20ChIP-Seq;Cell\\%20group=Pluripotent\\%20stem\\%20cell;<br>source\\_name=Fbxl19flfl\\_UNT\\_CDK8;cell\\%20line=Fbxl19\\%20fl/fl;cell\\%20type=mouse\\%20embryonic\\%20stem\\%20cells;treated\\%20with=none\\%20(untreated);antibody=CDK8\\%20(Bethyl\\%20Laboratories,\\%20A302-500A,\\%20lot\\%20A302-500A-1);replicate=1;passage=13-20;                                                                                                                                                                                                                                                                                                & 123 & . & 90819686 & 90819870 & ⋯ & 90790451 & 90816465 & 26015 & 1 & 170942 & ENSMUST00000238471.1 & 29236 & NA & Erdr1x & erythroid differentiation regulator 1 x\\\\\n",
       "\\end{tabular}\n"
      ],
      "text/markdown": [
       "\n",
       "A data.frame: 47690 × 23\n",
       "\n",
       "| seqnames &lt;fct&gt; | start &lt;int&gt; | end &lt;int&gt; | width &lt;int&gt; | strand &lt;fct&gt; | technical &lt;chr&gt; | value &lt;int&gt; | strand. &lt;chr&gt; | start2 &lt;int&gt; | end2 &lt;int&gt; | ⋯ ⋯ | geneStart &lt;int&gt; | geneEnd &lt;int&gt; | geneLength &lt;int&gt; | geneStrand &lt;int&gt; | geneId &lt;chr&gt; | transcriptId &lt;chr&gt; | distanceToTSS &lt;dbl&gt; | ENSEMBL &lt;chr&gt; | SYMBOL &lt;chr&gt; | GENENAME &lt;chr&gt; |\n",
       "|---|---|---|---|---|---|---|---|---|---|---|---|---|---|---|---|---|---|---|---|---|\n",
       "| chr1 | 3042841 | 3043263 | 423 | * | ID=SRX2793944;Name=Cdk8%20(@%20ES%20cells);Title=GSM2611279:%20Fbxl19flfl%20OHT%20CDK8%20rep1%3B%20Mus%20musculus%3B%20ChIP-Seq;Cell%20group=Pluripotent%20stem%20cell;&lt;br&gt;source_name=Fbxl19flfl_OHT_CDK8;cell%20line=Fbxl19%20fl/fl;cell%20type=mouse%20embryonic%20stem%20cells;treated%20with=800nM%204-hydroxytamoxifen%20for%2096%20h;antibody=CDK8%20(Bethyl%20Laboratories,%20A302-500A,%20lot%20A302-500A-1);replicate=1;passage=13-20; | 349 | . | 3042840 | 3043263 | ⋯ | 3214482 | 3671498 | 457017 | 2 | 497097 | ENSMUST00000070533.4 |  628235 | ENSMUSG00000051951 | Xkr4 | X-linked Kx blood group related 4 |\n",
       "| chr1 | 3042877 | 3043270 | 394 | * | ID=SRX2793940;Name=Cdk8%20(@%20ES%20cells);Title=GSM2611275:%20Fbxl19flfl%20UNT%20CDK8%20rep1%3B%20Mus%20musculus%3B%20ChIP-Seq;Cell%20group=Pluripotent%20stem%20cell;&lt;br&gt;source_name=Fbxl19flfl_UNT_CDK8;cell%20line=Fbxl19%20fl/fl;cell%20type=mouse%20embryonic%20stem%20cells;treated%20with=none%20(untreated);antibody=CDK8%20(Bethyl%20Laboratories,%20A302-500A,%20lot%20A302-500A-1);replicate=1;passage=13-20;                        | 232 | . | 3042876 | 3043270 | ⋯ | 3214482 | 3671498 | 457017 | 2 | 497097 | ENSMUST00000070533.4 |  628228 | ENSMUSG00000051951 | Xkr4 | X-linked Kx blood group related 4 |\n",
       "| chr1 | 3043033 | 3043264 | 232 | * | ID=SRX2793941;Name=Cdk8%20(@%20ES%20cells);Title=GSM2611276:%20Fbxl19flfl%20UNT%20CDK8%20rep2%3B%20Mus%20musculus%3B%20ChIP-Seq;Cell%20group=Pluripotent%20stem%20cell;&lt;br&gt;source_name=Fbxl19flfl_UNT_CDK8;cell%20line=Fbxl19%20fl/fl;cell%20type=mouse%20embryonic%20stem%20cells;treated%20with=none%20(untreated);antibody=CDK8%20(Bethyl%20Laboratories,%20A302-500A,%20lot%20A302-500A-1);replicate=2;passage=13-20;                        | 339 | . | 3043032 | 3043264 | ⋯ | 3214482 | 3671498 | 457017 | 2 | 497097 | ENSMUST00000070533.4 |  628234 | ENSMUSG00000051951 | Xkr4 | X-linked Kx blood group related 4 |\n",
       "| chr1 | 3043060 | 3043250 | 191 | * | ID=SRX2793945;Name=Cdk8%20(@%20ES%20cells);Title=GSM2611280:%20Fbxl19flfl%20OHT%20CDK8%20rep2%3B%20Mus%20musculus%3B%20ChIP-Seq;Cell%20group=Pluripotent%20stem%20cell;&lt;br&gt;source_name=Fbxl19flfl_OHT_CDK8;cell%20line=Fbxl19%20fl/fl;cell%20type=mouse%20embryonic%20stem%20cells;treated%20with=800nM%204-hydroxytamoxifen%20for%2096%20h;antibody=CDK8%20(Bethyl%20Laboratories,%20A302-500A,%20lot%20A302-500A-1);replicate=2;passage=13-20; | 202 | . | 3043059 | 3043250 | ⋯ | 3214482 | 3671498 | 457017 | 2 | 497097 | ENSMUST00000070533.4 |  628248 | ENSMUSG00000051951 | Xkr4 | X-linked Kx blood group related 4 |\n",
       "| chr1 | 3062848 | 3063078 | 231 | * | ID=SRX2793944;Name=Cdk8%20(@%20ES%20cells);Title=GSM2611279:%20Fbxl19flfl%20OHT%20CDK8%20rep1%3B%20Mus%20musculus%3B%20ChIP-Seq;Cell%20group=Pluripotent%20stem%20cell;&lt;br&gt;source_name=Fbxl19flfl_OHT_CDK8;cell%20line=Fbxl19%20fl/fl;cell%20type=mouse%20embryonic%20stem%20cells;treated%20with=800nM%204-hydroxytamoxifen%20for%2096%20h;antibody=CDK8%20(Bethyl%20Laboratories,%20A302-500A,%20lot%20A302-500A-1);replicate=1;passage=13-20; | 433 | . | 3062847 | 3063078 | ⋯ | 3214482 | 3671498 | 457017 | 2 | 497097 | ENSMUST00000070533.4 |  608420 | ENSMUSG00000051951 | Xkr4 | X-linked Kx blood group related 4 |\n",
       "| chr1 | 3062873 | 3063079 | 207 | * | ID=SRX2793941;Name=Cdk8%20(@%20ES%20cells);Title=GSM2611276:%20Fbxl19flfl%20UNT%20CDK8%20rep2%3B%20Mus%20musculus%3B%20ChIP-Seq;Cell%20group=Pluripotent%20stem%20cell;&lt;br&gt;source_name=Fbxl19flfl_UNT_CDK8;cell%20line=Fbxl19%20fl/fl;cell%20type=mouse%20embryonic%20stem%20cells;treated%20with=none%20(untreated);antibody=CDK8%20(Bethyl%20Laboratories,%20A302-500A,%20lot%20A302-500A-1);replicate=2;passage=13-20;                        | 423 | . | 3062872 | 3063079 | ⋯ | 3214482 | 3671498 | 457017 | 2 | 497097 | ENSMUST00000070533.4 |  608419 | ENSMUSG00000051951 | Xkr4 | X-linked Kx blood group related 4 |\n",
       "| chr1 | 3062889 | 3063054 | 166 | * | ID=SRX2793945;Name=Cdk8%20(@%20ES%20cells);Title=GSM2611280:%20Fbxl19flfl%20OHT%20CDK8%20rep2%3B%20Mus%20musculus%3B%20ChIP-Seq;Cell%20group=Pluripotent%20stem%20cell;&lt;br&gt;source_name=Fbxl19flfl_OHT_CDK8;cell%20line=Fbxl19%20fl/fl;cell%20type=mouse%20embryonic%20stem%20cells;treated%20with=800nM%204-hydroxytamoxifen%20for%2096%20h;antibody=CDK8%20(Bethyl%20Laboratories,%20A302-500A,%20lot%20A302-500A-1);replicate=2;passage=13-20; | 180 | . | 3062888 | 3063054 | ⋯ | 3214482 | 3671498 | 457017 | 2 | 497097 | ENSMUST00000070533.4 |  608444 | ENSMUSG00000051951 | Xkr4 | X-linked Kx blood group related 4 |\n",
       "| chr1 | 3482883 | 3483225 | 343 | * | ID=SRX2793941;Name=Cdk8%20(@%20ES%20cells);Title=GSM2611276:%20Fbxl19flfl%20UNT%20CDK8%20rep2%3B%20Mus%20musculus%3B%20ChIP-Seq;Cell%20group=Pluripotent%20stem%20cell;&lt;br&gt;source_name=Fbxl19flfl_UNT_CDK8;cell%20line=Fbxl19%20fl/fl;cell%20type=mouse%20embryonic%20stem%20cells;treated%20with=none%20(untreated);antibody=CDK8%20(Bethyl%20Laboratories,%20A302-500A,%20lot%20A302-500A-1);replicate=2;passage=13-20;                        | 783 | . | 3482882 | 3483225 | ⋯ | 3214482 | 3671498 | 457017 | 2 | 497097 | ENSMUST00000070533.4 |  188273 | ENSMUSG00000051951 | Xkr4 | X-linked Kx blood group related 4 |\n",
       "| chr1 | 3482888 | 3483193 | 306 | * | ID=SRX2793944;Name=Cdk8%20(@%20ES%20cells);Title=GSM2611279:%20Fbxl19flfl%20OHT%20CDK8%20rep1%3B%20Mus%20musculus%3B%20ChIP-Seq;Cell%20group=Pluripotent%20stem%20cell;&lt;br&gt;source_name=Fbxl19flfl_OHT_CDK8;cell%20line=Fbxl19%20fl/fl;cell%20type=mouse%20embryonic%20stem%20cells;treated%20with=800nM%204-hydroxytamoxifen%20for%2096%20h;antibody=CDK8%20(Bethyl%20Laboratories,%20A302-500A,%20lot%20A302-500A-1);replicate=1;passage=13-20; | 547 | . | 3482887 | 3483193 | ⋯ | 3214482 | 3671498 | 457017 | 2 | 497097 | ENSMUST00000070533.4 |  188305 | ENSMUSG00000051951 | Xkr4 | X-linked Kx blood group related 4 |\n",
       "| chr1 | 3482892 | 3483207 | 316 | * | ID=SRX2793940;Name=Cdk8%20(@%20ES%20cells);Title=GSM2611275:%20Fbxl19flfl%20UNT%20CDK8%20rep1%3B%20Mus%20musculus%3B%20ChIP-Seq;Cell%20group=Pluripotent%20stem%20cell;&lt;br&gt;source_name=Fbxl19flfl_UNT_CDK8;cell%20line=Fbxl19%20fl/fl;cell%20type=mouse%20embryonic%20stem%20cells;treated%20with=none%20(untreated);antibody=CDK8%20(Bethyl%20Laboratories,%20A302-500A,%20lot%20A302-500A-1);replicate=1;passage=13-20;                        | 354 | . | 3482891 | 3483207 | ⋯ | 3214482 | 3671498 | 457017 | 2 | 497097 | ENSMUST00000070533.4 |  188291 | ENSMUSG00000051951 | Xkr4 | X-linked Kx blood group related 4 |\n",
       "| chr1 | 3482911 | 3483255 | 345 | * | ID=SRX2793945;Name=Cdk8%20(@%20ES%20cells);Title=GSM2611280:%20Fbxl19flfl%20OHT%20CDK8%20rep2%3B%20Mus%20musculus%3B%20ChIP-Seq;Cell%20group=Pluripotent%20stem%20cell;&lt;br&gt;source_name=Fbxl19flfl_OHT_CDK8;cell%20line=Fbxl19%20fl/fl;cell%20type=mouse%20embryonic%20stem%20cells;treated%20with=800nM%204-hydroxytamoxifen%20for%2096%20h;antibody=CDK8%20(Bethyl%20Laboratories,%20A302-500A,%20lot%20A302-500A-1);replicate=2;passage=13-20; | 348 | . | 3482910 | 3483255 | ⋯ | 3214482 | 3671498 | 457017 | 2 | 497097 | ENSMUST00000070533.4 |  188243 | ENSMUSG00000051951 | Xkr4 | X-linked Kx blood group related 4 |\n",
       "| chr1 | 3482999 | 3483218 | 220 | * | ID=SRX236482;Name=Cdk8%20(@%20ES%20cells);Title=GSM1082346:%20Cdk8%20mES%20r2%20ChipSeq%3B%20Mus%20musculus%3B%20ChIP-Seq;Cell%20group=Pluripotent%20stem%20cell;&lt;br&gt;source_name=Embryonic%20stem%20cells;chip%20antibody=cdk8;antibody%20vendor%20and%20catalog%20number=Santa%20Cruz%20SC-1521;background%20strain=C57BL/6-129;                                                                                                                | 111 | . | 3482998 | 3483218 | ⋯ | 3214482 | 3671498 | 457017 | 2 | 497097 | ENSMUST00000070533.4 |  188280 | ENSMUSG00000051951 | Xkr4 | X-linked Kx blood group related 4 |\n",
       "| chr1 | 3549422 | 3549830 | 409 | * | ID=SRX2793944;Name=Cdk8%20(@%20ES%20cells);Title=GSM2611279:%20Fbxl19flfl%20OHT%20CDK8%20rep1%3B%20Mus%20musculus%3B%20ChIP-Seq;Cell%20group=Pluripotent%20stem%20cell;&lt;br&gt;source_name=Fbxl19flfl_OHT_CDK8;cell%20line=Fbxl19%20fl/fl;cell%20type=mouse%20embryonic%20stem%20cells;treated%20with=800nM%204-hydroxytamoxifen%20for%2096%20h;antibody=CDK8%20(Bethyl%20Laboratories,%20A302-500A,%20lot%20A302-500A-1);replicate=1;passage=13-20; | 177 | . | 3549421 | 3549830 | ⋯ | 3214482 | 3671498 | 457017 | 2 | 497097 | ENSMUST00000070533.4 |  121668 | ENSMUSG00000051951 | Xkr4 | X-linked Kx blood group related 4 |\n",
       "| chr1 | 3549441 | 3549770 | 330 | * | ID=SRX2793941;Name=Cdk8%20(@%20ES%20cells);Title=GSM2611276:%20Fbxl19flfl%20UNT%20CDK8%20rep2%3B%20Mus%20musculus%3B%20ChIP-Seq;Cell%20group=Pluripotent%20stem%20cell;&lt;br&gt;source_name=Fbxl19flfl_UNT_CDK8;cell%20line=Fbxl19%20fl/fl;cell%20type=mouse%20embryonic%20stem%20cells;treated%20with=none%20(untreated);antibody=CDK8%20(Bethyl%20Laboratories,%20A302-500A,%20lot%20A302-500A-1);replicate=2;passage=13-20;                        | 157 | . | 3549440 | 3549770 | ⋯ | 3214482 | 3671498 | 457017 | 2 | 497097 | ENSMUST00000070533.4 |  121728 | ENSMUSG00000051951 | Xkr4 | X-linked Kx blood group related 4 |\n",
       "| chr1 | 3549489 | 3549716 | 228 | * | ID=SRX2793945;Name=Cdk8%20(@%20ES%20cells);Title=GSM2611280:%20Fbxl19flfl%20OHT%20CDK8%20rep2%3B%20Mus%20musculus%3B%20ChIP-Seq;Cell%20group=Pluripotent%20stem%20cell;&lt;br&gt;source_name=Fbxl19flfl_OHT_CDK8;cell%20line=Fbxl19%20fl/fl;cell%20type=mouse%20embryonic%20stem%20cells;treated%20with=800nM%204-hydroxytamoxifen%20for%2096%20h;antibody=CDK8%20(Bethyl%20Laboratories,%20A302-500A,%20lot%20A302-500A-1);replicate=2;passage=13-20; |  87 | . | 3549488 | 3549716 | ⋯ | 3214482 | 3671498 | 457017 | 2 | 497097 | ENSMUST00000070533.4 |  121782 | ENSMUSG00000051951 | Xkr4 | X-linked Kx blood group related 4 |\n",
       "| chr1 | 3671646 | 3671854 | 209 | * | ID=SRX2793941;Name=Cdk8%20(@%20ES%20cells);Title=GSM2611276:%20Fbxl19flfl%20UNT%20CDK8%20rep2%3B%20Mus%20musculus%3B%20ChIP-Seq;Cell%20group=Pluripotent%20stem%20cell;&lt;br&gt;source_name=Fbxl19flfl_UNT_CDK8;cell%20line=Fbxl19%20fl/fl;cell%20type=mouse%20embryonic%20stem%20cells;treated%20with=none%20(untreated);antibody=CDK8%20(Bethyl%20Laboratories,%20A302-500A,%20lot%20A302-500A-1);replicate=2;passage=13-20;                        | 110 | . | 3671645 | 3671854 | ⋯ | 3214482 | 3671498 | 457017 | 2 | 497097 | ENSMUST00000070533.4 |    -148 | ENSMUSG00000051951 | Xkr4 | X-linked Kx blood group related 4 |\n",
       "| chr1 | 3681536 | 3681831 | 296 | * | ID=SRX2793941;Name=Cdk8%20(@%20ES%20cells);Title=GSM2611276:%20Fbxl19flfl%20UNT%20CDK8%20rep2%3B%20Mus%20musculus%3B%20ChIP-Seq;Cell%20group=Pluripotent%20stem%20cell;&lt;br&gt;source_name=Fbxl19flfl_UNT_CDK8;cell%20line=Fbxl19%20fl/fl;cell%20type=mouse%20embryonic%20stem%20cells;treated%20with=none%20(untreated);antibody=CDK8%20(Bethyl%20Laboratories,%20A302-500A,%20lot%20A302-500A-1);replicate=2;passage=13-20;                        | 510 | . | 3681535 | 3681831 | ⋯ | 3214482 | 3671498 | 457017 | 2 | 497097 | ENSMUST00000070533.4 |  -10038 | ENSMUSG00000051951 | Xkr4 | X-linked Kx blood group related 4 |\n",
       "| chr1 | 3681541 | 3681748 | 208 | * | ID=SRX2793940;Name=Cdk8%20(@%20ES%20cells);Title=GSM2611275:%20Fbxl19flfl%20UNT%20CDK8%20rep1%3B%20Mus%20musculus%3B%20ChIP-Seq;Cell%20group=Pluripotent%20stem%20cell;&lt;br&gt;source_name=Fbxl19flfl_UNT_CDK8;cell%20line=Fbxl19%20fl/fl;cell%20type=mouse%20embryonic%20stem%20cells;treated%20with=none%20(untreated);antibody=CDK8%20(Bethyl%20Laboratories,%20A302-500A,%20lot%20A302-500A-1);replicate=1;passage=13-20;                        | 173 | . | 3681540 | 3681748 | ⋯ | 3214482 | 3671498 | 457017 | 2 | 497097 | ENSMUST00000070533.4 |  -10043 | ENSMUSG00000051951 | Xkr4 | X-linked Kx blood group related 4 |\n",
       "| chr1 | 3681550 | 3681798 | 249 | * | ID=SRX2793944;Name=Cdk8%20(@%20ES%20cells);Title=GSM2611279:%20Fbxl19flfl%20OHT%20CDK8%20rep1%3B%20Mus%20musculus%3B%20ChIP-Seq;Cell%20group=Pluripotent%20stem%20cell;&lt;br&gt;source_name=Fbxl19flfl_OHT_CDK8;cell%20line=Fbxl19%20fl/fl;cell%20type=mouse%20embryonic%20stem%20cells;treated%20with=800nM%204-hydroxytamoxifen%20for%2096%20h;antibody=CDK8%20(Bethyl%20Laboratories,%20A302-500A,%20lot%20A302-500A-1);replicate=1;passage=13-20; | 281 | . | 3681549 | 3681798 | ⋯ | 3214482 | 3671498 | 457017 | 2 | 497097 | ENSMUST00000070533.4 |  -10052 | ENSMUSG00000051951 | Xkr4 | X-linked Kx blood group related 4 |\n",
       "| chr1 | 3681556 | 3681815 | 260 | * | ID=SRX2793945;Name=Cdk8%20(@%20ES%20cells);Title=GSM2611280:%20Fbxl19flfl%20OHT%20CDK8%20rep2%3B%20Mus%20musculus%3B%20ChIP-Seq;Cell%20group=Pluripotent%20stem%20cell;&lt;br&gt;source_name=Fbxl19flfl_OHT_CDK8;cell%20line=Fbxl19%20fl/fl;cell%20type=mouse%20embryonic%20stem%20cells;treated%20with=800nM%204-hydroxytamoxifen%20for%2096%20h;antibody=CDK8%20(Bethyl%20Laboratories,%20A302-500A,%20lot%20A302-500A-1);replicate=2;passage=13-20; | 291 | . | 3681555 | 3681815 | ⋯ | 3214482 | 3671498 | 457017 | 2 | 497097 | ENSMUST00000070533.4 |  -10058 | ENSMUSG00000051951 | Xkr4 | X-linked Kx blood group related 4 |\n",
       "| chr1 | 3953653 | 3953887 | 235 | * | ID=SRX2793941;Name=Cdk8%20(@%20ES%20cells);Title=GSM2611276:%20Fbxl19flfl%20UNT%20CDK8%20rep2%3B%20Mus%20musculus%3B%20ChIP-Seq;Cell%20group=Pluripotent%20stem%20cell;&lt;br&gt;source_name=Fbxl19flfl_UNT_CDK8;cell%20line=Fbxl19%20fl/fl;cell%20type=mouse%20embryonic%20stem%20cells;treated%20with=none%20(untreated);antibody=CDK8%20(Bethyl%20Laboratories,%20A302-500A,%20lot%20A302-500A-1);replicate=2;passage=13-20;                        | 276 | . | 3953652 | 3953887 | ⋯ | 3214482 | 3671498 | 457017 | 2 | 497097 | ENSMUST00000070533.4 | -282155 | ENSMUSG00000051951 | Xkr4 | X-linked Kx blood group related 4 |\n",
       "| chr1 | 3953659 | 3953864 | 206 | * | ID=SRX2793944;Name=Cdk8%20(@%20ES%20cells);Title=GSM2611279:%20Fbxl19flfl%20OHT%20CDK8%20rep1%3B%20Mus%20musculus%3B%20ChIP-Seq;Cell%20group=Pluripotent%20stem%20cell;&lt;br&gt;source_name=Fbxl19flfl_OHT_CDK8;cell%20line=Fbxl19%20fl/fl;cell%20type=mouse%20embryonic%20stem%20cells;treated%20with=800nM%204-hydroxytamoxifen%20for%2096%20h;antibody=CDK8%20(Bethyl%20Laboratories,%20A302-500A,%20lot%20A302-500A-1);replicate=1;passage=13-20; | 167 | . | 3953658 | 3953864 | ⋯ | 3214482 | 3671498 | 457017 | 2 | 497097 | ENSMUST00000070533.4 | -282161 | ENSMUSG00000051951 | Xkr4 | X-linked Kx blood group related 4 |\n",
       "| chr1 | 3953702 | 3953873 | 172 | * | ID=SRX2793945;Name=Cdk8%20(@%20ES%20cells);Title=GSM2611280:%20Fbxl19flfl%20OHT%20CDK8%20rep2%3B%20Mus%20musculus%3B%20ChIP-Seq;Cell%20group=Pluripotent%20stem%20cell;&lt;br&gt;source_name=Fbxl19flfl_OHT_CDK8;cell%20line=Fbxl19%20fl/fl;cell%20type=mouse%20embryonic%20stem%20cells;treated%20with=800nM%204-hydroxytamoxifen%20for%2096%20h;antibody=CDK8%20(Bethyl%20Laboratories,%20A302-500A,%20lot%20A302-500A-1);replicate=2;passage=13-20; | 138 | . | 3953701 | 3953873 | ⋯ | 3214482 | 3671498 | 457017 | 2 | 497097 | ENSMUST00000070533.4 | -282204 | ENSMUSG00000051951 | Xkr4 | X-linked Kx blood group related 4 |\n",
       "| chr1 | 3982085 | 3982249 | 165 | * | ID=SRX2793941;Name=Cdk8%20(@%20ES%20cells);Title=GSM2611276:%20Fbxl19flfl%20UNT%20CDK8%20rep2%3B%20Mus%20musculus%3B%20ChIP-Seq;Cell%20group=Pluripotent%20stem%20cell;&lt;br&gt;source_name=Fbxl19flfl_UNT_CDK8;cell%20line=Fbxl19%20fl/fl;cell%20type=mouse%20embryonic%20stem%20cells;treated%20with=none%20(untreated);antibody=CDK8%20(Bethyl%20Laboratories,%20A302-500A,%20lot%20A302-500A-1);replicate=2;passage=13-20;                        | 141 | . | 3982084 | 3982249 | ⋯ | 3214482 | 3671498 | 457017 | 2 | 497097 | ENSMUST00000070533.4 | -310587 | ENSMUSG00000051951 | Xkr4 | X-linked Kx blood group related 4 |\n",
       "| chr1 | 3982087 | 3982283 | 197 | * | ID=SRX2793944;Name=Cdk8%20(@%20ES%20cells);Title=GSM2611279:%20Fbxl19flfl%20OHT%20CDK8%20rep1%3B%20Mus%20musculus%3B%20ChIP-Seq;Cell%20group=Pluripotent%20stem%20cell;&lt;br&gt;source_name=Fbxl19flfl_OHT_CDK8;cell%20line=Fbxl19%20fl/fl;cell%20type=mouse%20embryonic%20stem%20cells;treated%20with=800nM%204-hydroxytamoxifen%20for%2096%20h;antibody=CDK8%20(Bethyl%20Laboratories,%20A302-500A,%20lot%20A302-500A-1);replicate=1;passage=13-20; | 162 | . | 3982086 | 3982283 | ⋯ | 3214482 | 3671498 | 457017 | 2 | 497097 | ENSMUST00000070533.4 | -310589 | ENSMUSG00000051951 | Xkr4 | X-linked Kx blood group related 4 |\n",
       "| chr1 | 4150847 | 4151148 | 302 | * | ID=SRX2793941;Name=Cdk8%20(@%20ES%20cells);Title=GSM2611276:%20Fbxl19flfl%20UNT%20CDK8%20rep2%3B%20Mus%20musculus%3B%20ChIP-Seq;Cell%20group=Pluripotent%20stem%20cell;&lt;br&gt;source_name=Fbxl19flfl_UNT_CDK8;cell%20line=Fbxl19%20fl/fl;cell%20type=mouse%20embryonic%20stem%20cells;treated%20with=none%20(untreated);antibody=CDK8%20(Bethyl%20Laboratories,%20A302-500A,%20lot%20A302-500A-1);replicate=2;passage=13-20;                        | 418 | . | 4150846 | 4151148 | ⋯ | 4344146 | 4360314 |  16169 | 2 | 19888  | ENSMUST00000027032.5 |  209166 | ENSMUSG00000025900 | Rp1  | retinitis pigmentosa 1 (human)    |\n",
       "| chr1 | 4150861 | 4151092 | 232 | * | ID=SRX2793940;Name=Cdk8%20(@%20ES%20cells);Title=GSM2611275:%20Fbxl19flfl%20UNT%20CDK8%20rep1%3B%20Mus%20musculus%3B%20ChIP-Seq;Cell%20group=Pluripotent%20stem%20cell;&lt;br&gt;source_name=Fbxl19flfl_UNT_CDK8;cell%20line=Fbxl19%20fl/fl;cell%20type=mouse%20embryonic%20stem%20cells;treated%20with=none%20(untreated);antibody=CDK8%20(Bethyl%20Laboratories,%20A302-500A,%20lot%20A302-500A-1);replicate=1;passage=13-20;                        | 219 | . | 4150860 | 4151092 | ⋯ | 4344146 | 4360314 |  16169 | 2 | 19888  | ENSMUST00000027032.5 |  209222 | ENSMUSG00000025900 | Rp1  | retinitis pigmentosa 1 (human)    |\n",
       "| chr1 | 4150879 | 4151117 | 239 | * | ID=SRX2793945;Name=Cdk8%20(@%20ES%20cells);Title=GSM2611280:%20Fbxl19flfl%20OHT%20CDK8%20rep2%3B%20Mus%20musculus%3B%20ChIP-Seq;Cell%20group=Pluripotent%20stem%20cell;&lt;br&gt;source_name=Fbxl19flfl_OHT_CDK8;cell%20line=Fbxl19%20fl/fl;cell%20type=mouse%20embryonic%20stem%20cells;treated%20with=800nM%204-hydroxytamoxifen%20for%2096%20h;antibody=CDK8%20(Bethyl%20Laboratories,%20A302-500A,%20lot%20A302-500A-1);replicate=2;passage=13-20; | 200 | . | 4150878 | 4151117 | ⋯ | 4344146 | 4360314 |  16169 | 2 | 19888  | ENSMUST00000027032.5 |  209197 | ENSMUSG00000025900 | Rp1  | retinitis pigmentosa 1 (human)    |\n",
       "| chr1 | 4150882 | 4151158 | 277 | * | ID=SRX2793944;Name=Cdk8%20(@%20ES%20cells);Title=GSM2611279:%20Fbxl19flfl%20OHT%20CDK8%20rep1%3B%20Mus%20musculus%3B%20ChIP-Seq;Cell%20group=Pluripotent%20stem%20cell;&lt;br&gt;source_name=Fbxl19flfl_OHT_CDK8;cell%20line=Fbxl19%20fl/fl;cell%20type=mouse%20embryonic%20stem%20cells;treated%20with=800nM%204-hydroxytamoxifen%20for%2096%20h;antibody=CDK8%20(Bethyl%20Laboratories,%20A302-500A,%20lot%20A302-500A-1);replicate=1;passage=13-20; | 450 | . | 4150881 | 4151158 | ⋯ | 4344146 | 4360314 |  16169 | 2 | 19888  | ENSMUST00000027032.5 |  209156 | ENSMUSG00000025900 | Rp1  | retinitis pigmentosa 1 (human)    |\n",
       "| chr1 | 4214317 | 4214599 | 283 | * | ID=SRX2793945;Name=Cdk8%20(@%20ES%20cells);Title=GSM2611280:%20Fbxl19flfl%20OHT%20CDK8%20rep2%3B%20Mus%20musculus%3B%20ChIP-Seq;Cell%20group=Pluripotent%20stem%20cell;&lt;br&gt;source_name=Fbxl19flfl_OHT_CDK8;cell%20line=Fbxl19%20fl/fl;cell%20type=mouse%20embryonic%20stem%20cells;treated%20with=800nM%204-hydroxytamoxifen%20for%2096%20h;antibody=CDK8%20(Bethyl%20Laboratories,%20A302-500A,%20lot%20A302-500A-1);replicate=2;passage=13-20; | 395 | . | 4214316 | 4214599 | ⋯ | 4344146 | 4360314 |  16169 | 2 | 19888  | ENSMUST00000027032.5 |  145715 | ENSMUSG00000025900 | Rp1  | retinitis pigmentosa 1 (human)    |\n",
       "| ⋮ | ⋮ | ⋮ | ⋮ | ⋮ | ⋮ | ⋮ | ⋮ | ⋮ | ⋮ | ⋱ | ⋮ | ⋮ | ⋮ | ⋮ | ⋮ | ⋮ | ⋮ | ⋮ | ⋮ | ⋮ |\n",
       "| chrY | 90777096 | 90777317 | 222 | * | ID=SRX236482;Name=Cdk8%20(@%20ES%20cells);Title=GSM1082346:%20Cdk8%20mES%20r2%20ChipSeq%3B%20Mus%20musculus%3B%20ChIP-Seq;Cell%20group=Pluripotent%20stem%20cell;&lt;br&gt;source_name=Embryonic%20stem%20cells;chip%20antibody=cdk8;antibody%20vendor%20and%20catalog%20number=Santa%20Cruz%20SC-1521;background%20strain=C57BL/6-129;                                                                                                                                                                                                                                                                                                                                                                                        | 253 | . | 90777095 | 90777317 | ⋯ | 90784738 | 90816447 | 31710 | 1 | 170942 | ENSMUST00000179483.8 | -7421 | NA | Erdr1x | erythroid differentiation regulator 1 x |\n",
       "| chrY | 90777108 | 90777367 | 260 | * | ID=SRX2793941;Name=Cdk8%20(@%20ES%20cells);Title=GSM2611276:%20Fbxl19flfl%20UNT%20CDK8%20rep2%3B%20Mus%20musculus%3B%20ChIP-Seq;Cell%20group=Pluripotent%20stem%20cell;&lt;br&gt;source_name=Fbxl19flfl_UNT_CDK8;cell%20line=Fbxl19%20fl/fl;cell%20type=mouse%20embryonic%20stem%20cells;treated%20with=none%20(untreated);antibody=CDK8%20(Bethyl%20Laboratories,%20A302-500A,%20lot%20A302-500A-1);replicate=2;passage=13-20;                                                                                                                                                                                                                                                                                                | 293 | . | 90777107 | 90777367 | ⋯ | 90784738 | 90816447 | 31710 | 1 | 170942 | ENSMUST00000179483.8 | -7371 | NA | Erdr1x | erythroid differentiation regulator 1 x |\n",
       "| chrY | 90777115 | 90777360 | 246 | * | ID=SRX2793940;Name=Cdk8%20(@%20ES%20cells);Title=GSM2611275:%20Fbxl19flfl%20UNT%20CDK8%20rep1%3B%20Mus%20musculus%3B%20ChIP-Seq;Cell%20group=Pluripotent%20stem%20cell;&lt;br&gt;source_name=Fbxl19flfl_UNT_CDK8;cell%20line=Fbxl19%20fl/fl;cell%20type=mouse%20embryonic%20stem%20cells;treated%20with=none%20(untreated);antibody=CDK8%20(Bethyl%20Laboratories,%20A302-500A,%20lot%20A302-500A-1);replicate=1;passage=13-20;                                                                                                                                                                                                                                                                                                | 129 | . | 90777114 | 90777360 | ⋯ | 90784738 | 90816447 | 31710 | 1 | 170942 | ENSMUST00000179483.8 | -7378 | NA | Erdr1x | erythroid differentiation regulator 1 x |\n",
       "| chrY | 90777123 | 90777374 | 252 | * | ID=SRX2793945;Name=Cdk8%20(@%20ES%20cells);Title=GSM2611280:%20Fbxl19flfl%20OHT%20CDK8%20rep2%3B%20Mus%20musculus%3B%20ChIP-Seq;Cell%20group=Pluripotent%20stem%20cell;&lt;br&gt;source_name=Fbxl19flfl_OHT_CDK8;cell%20line=Fbxl19%20fl/fl;cell%20type=mouse%20embryonic%20stem%20cells;treated%20with=800nM%204-hydroxytamoxifen%20for%2096%20h;antibody=CDK8%20(Bethyl%20Laboratories,%20A302-500A,%20lot%20A302-500A-1);replicate=2;passage=13-20;                                                                                                                                                                                                                                                                         | 389 | . | 90777122 | 90777374 | ⋯ | 90784738 | 90816447 | 31710 | 1 | 170942 | ENSMUST00000179483.8 | -7364 | NA | Erdr1x | erythroid differentiation regulator 1 x |\n",
       "| chrY | 90783807 | 90784229 | 423 | * | ID=SRX236482;Name=Cdk8%20(@%20ES%20cells);Title=GSM1082346:%20Cdk8%20mES%20r2%20ChipSeq%3B%20Mus%20musculus%3B%20ChIP-Seq;Cell%20group=Pluripotent%20stem%20cell;&lt;br&gt;source_name=Embryonic%20stem%20cells;chip%20antibody=cdk8;antibody%20vendor%20and%20catalog%20number=Santa%20Cruz%20SC-1521;background%20strain=C57BL/6-129;                                                                                                                                                                                                                                                                                                                                                                                        | 165 | . | 90783806 | 90784229 | ⋯ | 90784738 | 90816447 | 31710 | 1 | 170942 | ENSMUST00000179483.8 |  -509 | NA | Erdr1x | erythroid differentiation regulator 1 x |\n",
       "| chrY | 90783858 | 90784034 | 177 | * | ID=SRX2793945;Name=Cdk8%20(@%20ES%20cells);Title=GSM2611280:%20Fbxl19flfl%20OHT%20CDK8%20rep2%3B%20Mus%20musculus%3B%20ChIP-Seq;Cell%20group=Pluripotent%20stem%20cell;&lt;br&gt;source_name=Fbxl19flfl_OHT_CDK8;cell%20line=Fbxl19%20fl/fl;cell%20type=mouse%20embryonic%20stem%20cells;treated%20with=800nM%204-hydroxytamoxifen%20for%2096%20h;antibody=CDK8%20(Bethyl%20Laboratories,%20A302-500A,%20lot%20A302-500A-1);replicate=2;passage=13-20;                                                                                                                                                                                                                                                                         |  96 | . | 90783857 | 90784034 | ⋯ | 90784738 | 90816447 | 31710 | 1 | 170942 | ENSMUST00000179483.8 |  -704 | NA | Erdr1x | erythroid differentiation regulator 1 x |\n",
       "| chrY | 90783861 | 90784016 | 156 | * | ID=SRX668247;Name=Cdk8%20(@%20ES%20cells);Title=GSM1463943:%20Cdk8%20mES%20r1%20ChipSeq%3B%20Mus%20musculus%3B%20ChIP-Seq;Cell%20group=Pluripotent%20stem%20cell;&lt;br&gt;source_name=Embryonic%20stem%20cells;chip%20antibody=cdk8;antibody%20catalog%20number=Santa%20Cruz%20SC-1521;cell%20type=V6.5%20embryonic%20stem%20cells;                                                                                                                                                                                                                                                                                                                                                                                           |  96 | . | 90783860 | 90784016 | ⋯ | 90784738 | 90816447 | 31710 | 1 | 170942 | ENSMUST00000179483.8 |  -722 | NA | Erdr1x | erythroid differentiation regulator 1 x |\n",
       "| chrY | 90784087 | 90784575 | 489 | * | ID=SRX2793945;Name=Cdk8%20(@%20ES%20cells);Title=GSM2611280:%20Fbxl19flfl%20OHT%20CDK8%20rep2%3B%20Mus%20musculus%3B%20ChIP-Seq;Cell%20group=Pluripotent%20stem%20cell;&lt;br&gt;source_name=Fbxl19flfl_OHT_CDK8;cell%20line=Fbxl19%20fl/fl;cell%20type=mouse%20embryonic%20stem%20cells;treated%20with=800nM%204-hydroxytamoxifen%20for%2096%20h;antibody=CDK8%20(Bethyl%20Laboratories,%20A302-500A,%20lot%20A302-500A-1);replicate=2;passage=13-20;                                                                                                                                                                                                                                                                         | 109 | . | 90784086 | 90784575 | ⋯ | 90784738 | 90816447 | 31710 | 1 | 170942 | ENSMUST00000179483.8 |  -163 | NA | Erdr1x | erythroid differentiation regulator 1 x |\n",
       "| chrY | 90784145 | 90784558 | 414 | * | ID=SRX2793941;Name=Cdk8%20(@%20ES%20cells);Title=GSM2611276:%20Fbxl19flfl%20UNT%20CDK8%20rep2%3B%20Mus%20musculus%3B%20ChIP-Seq;Cell%20group=Pluripotent%20stem%20cell;&lt;br&gt;source_name=Fbxl19flfl_UNT_CDK8;cell%20line=Fbxl19%20fl/fl;cell%20type=mouse%20embryonic%20stem%20cells;treated%20with=none%20(untreated);antibody=CDK8%20(Bethyl%20Laboratories,%20A302-500A,%20lot%20A302-500A-1);replicate=2;passage=13-20;                                                                                                                                                                                                                                                                                                | 143 | . | 90784144 | 90784558 | ⋯ | 90784738 | 90816447 | 31710 | 1 | 170942 | ENSMUST00000179483.8 |  -180 | NA | Erdr1x | erythroid differentiation regulator 1 x |\n",
       "| chrY | 90784183 | 90784560 | 378 | * | ID=SRX2793940;Name=Cdk8%20(@%20ES%20cells);Title=GSM2611275:%20Fbxl19flfl%20UNT%20CDK8%20rep1%3B%20Mus%20musculus%3B%20ChIP-Seq;Cell%20group=Pluripotent%20stem%20cell;&lt;br&gt;source_name=Fbxl19flfl_UNT_CDK8;cell%20line=Fbxl19%20fl/fl;cell%20type=mouse%20embryonic%20stem%20cells;treated%20with=none%20(untreated);antibody=CDK8%20(Bethyl%20Laboratories,%20A302-500A,%20lot%20A302-500A-1);replicate=1;passage=13-20;                                                                                                                                                                                                                                                                                                | 153 | . | 90784182 | 90784560 | ⋯ | 90784738 | 90816447 | 31710 | 1 | 170942 | ENSMUST00000179483.8 |  -178 | NA | Erdr1x | erythroid differentiation regulator 1 x |\n",
       "| chrY | 90784188 | 90784585 | 398 | * | ID=SRX2793944;Name=Cdk8%20(@%20ES%20cells);Title=GSM2611279:%20Fbxl19flfl%20OHT%20CDK8%20rep1%3B%20Mus%20musculus%3B%20ChIP-Seq;Cell%20group=Pluripotent%20stem%20cell;&lt;br&gt;source_name=Fbxl19flfl_OHT_CDK8;cell%20line=Fbxl19%20fl/fl;cell%20type=mouse%20embryonic%20stem%20cells;treated%20with=800nM%204-hydroxytamoxifen%20for%2096%20h;antibody=CDK8%20(Bethyl%20Laboratories,%20A302-500A,%20lot%20A302-500A-1);replicate=1;passage=13-20;                                                                                                                                                                                                                                                                         | 131 | . | 90784187 | 90784585 | ⋯ | 90784738 | 90816447 | 31710 | 1 | 170942 | ENSMUST00000179483.8 |  -153 | NA | Erdr1x | erythroid differentiation regulator 1 x |\n",
       "| chrY | 90784714 | 90785080 | 367 | * | ID=SRX2793941;Name=Cdk8%20(@%20ES%20cells);Title=GSM2611276:%20Fbxl19flfl%20UNT%20CDK8%20rep2%3B%20Mus%20musculus%3B%20ChIP-Seq;Cell%20group=Pluripotent%20stem%20cell;&lt;br&gt;source_name=Fbxl19flfl_UNT_CDK8;cell%20line=Fbxl19%20fl/fl;cell%20type=mouse%20embryonic%20stem%20cells;treated%20with=none%20(untreated);antibody=CDK8%20(Bethyl%20Laboratories,%20A302-500A,%20lot%20A302-500A-1);replicate=2;passage=13-20;                                                                                                                                                                                                                                                                                                | 268 | . | 90784713 | 90785080 | ⋯ | 90784738 | 90816447 | 31710 | 1 | 170942 | ENSMUST00000179483.8 |     0 | NA | Erdr1x | erythroid differentiation regulator 1 x |\n",
       "| chrY | 90784729 | 90785003 | 275 | * | ID=SRX236482;Name=Cdk8%20(@%20ES%20cells);Title=GSM1082346:%20Cdk8%20mES%20r2%20ChipSeq%3B%20Mus%20musculus%3B%20ChIP-Seq;Cell%20group=Pluripotent%20stem%20cell;&lt;br&gt;source_name=Embryonic%20stem%20cells;chip%20antibody=cdk8;antibody%20vendor%20and%20catalog%20number=Santa%20Cruz%20SC-1521;background%20strain=C57BL/6-129;                                                                                                                                                                                                                                                                                                                                                                                        | 128 | . | 90784728 | 90785003 | ⋯ | 90784738 | 90816447 | 31710 | 1 | 170942 | ENSMUST00000179483.8 |     0 | NA | Erdr1x | erythroid differentiation regulator 1 x |\n",
       "| chrY | 90784730 | 90785115 | 386 | * | ID=SRX12622659;Name=Cdk8%20(@%20ES%20cells);Title=GSM5627388:%20Med1313lfll-MED14-T7%20RA%20UNT%20CDK8%20rep1%3B%20Mus%20musculus%3B%20ChIP-Seq;Cell%20group=Pluripotent%20stem%20cell;&lt;br&gt;source_name=Mouse%20embryonic%20stem%20cells%20treated%20with%20retinoic%20acid%20for%2048h,%20Med13/13l%20flfl%20with%20endogenously%20tagged%20Med14-T7,%20untreated%20control,%20CDK8%20ChIPseq;cell%20line=Med13%3BMed13l%20flfl%20Med14-T7;strain=Rosa26::ERT2-Cre;treatment=untreated;treatment%20time=0h;additional%20treatment=retinoic%20acid;additional%20treatment%20time=48h;replicate=1;type%20of%20chip=cross-linked;ChIP=CDK8;antibody=rabbit%20polyclonal%20anti-CDK8%20(A302-500A,%20Bethyl%20laboratories); | 439 | . | 90784729 | 90785115 | ⋯ | 90784738 | 90816447 | 31710 | 1 | 170942 | ENSMUST00000179483.8 |     0 | NA | Erdr1x | erythroid differentiation regulator 1 x |\n",
       "| chrY | 90784767 | 90785014 | 248 | * | ID=SRX2793944;Name=Cdk8%20(@%20ES%20cells);Title=GSM2611279:%20Fbxl19flfl%20OHT%20CDK8%20rep1%3B%20Mus%20musculus%3B%20ChIP-Seq;Cell%20group=Pluripotent%20stem%20cell;&lt;br&gt;source_name=Fbxl19flfl_OHT_CDK8;cell%20line=Fbxl19%20fl/fl;cell%20type=mouse%20embryonic%20stem%20cells;treated%20with=800nM%204-hydroxytamoxifen%20for%2096%20h;antibody=CDK8%20(Bethyl%20Laboratories,%20A302-500A,%20lot%20A302-500A-1);replicate=1;passage=13-20;                                                                                                                                                                                                                                                                         | 169 | . | 90784766 | 90785014 | ⋯ | 90784911 | 90816458 | 31548 | 1 | 170942 | ENSMUST00000238758.1 |     0 | NA | Erdr1x | erythroid differentiation regulator 1 x |\n",
       "| chrY | 90784775 | 90784965 | 191 | * | ID=SRX2793945;Name=Cdk8%20(@%20ES%20cells);Title=GSM2611280:%20Fbxl19flfl%20OHT%20CDK8%20rep2%3B%20Mus%20musculus%3B%20ChIP-Seq;Cell%20group=Pluripotent%20stem%20cell;&lt;br&gt;source_name=Fbxl19flfl_OHT_CDK8;cell%20line=Fbxl19%20fl/fl;cell%20type=mouse%20embryonic%20stem%20cells;treated%20with=800nM%204-hydroxytamoxifen%20for%2096%20h;antibody=CDK8%20(Bethyl%20Laboratories,%20A302-500A,%20lot%20A302-500A-1);replicate=2;passage=13-20;                                                                                                                                                                                                                                                                         | 150 | . | 90784774 | 90784965 | ⋯ | 90784911 | 90816458 | 31548 | 1 | 170942 | ENSMUST00000238758.1 |     0 | NA | Erdr1x | erythroid differentiation regulator 1 x |\n",
       "| chrY | 90784795 | 90785025 | 231 | * | ID=SRX12622661;Name=Cdk8%20(@%20ES%20cells);Title=GSM5627390:%20Med1313lfl-MED14-T7%20RA%20UNT%20CDK8%20rep3%3B%20Mus%20musculus%3B%20ChIP-Seq;Cell%20group=Pluripotent%20stem%20cell;&lt;br&gt;source_name=Mouse%20embryonic%20stem%20cells%20treated%20with%20retinoic%20acid%20for%2048h,%20Med13/13l%20flfl%20with%20endogenously%20tagged%20Med14-T7,%20untreated%20control,%20CDK8%20ChIPseq;cell%20line=Med13%3BMed13l%20flfl%20Med14-T7;strain=Rosa26::ERT2-Cre;treatment=untreated;treatment%20time=0h;additional%20treatment=retinoic%20acid;additional%20treatment%20time=48h;replicate=3;type%20of%20chip=cross-linked;ChIP=CDK8;antibody=rabbit%20polyclonal%20anti-CDK8%20(A302-500A,%20Bethyl%20laboratories);  | 173 | . | 90784794 | 90785025 | ⋯ | 90784911 | 90816458 | 31548 | 1 | 170942 | ENSMUST00000238758.1 |     0 | NA | Erdr1x | erythroid differentiation regulator 1 x |\n",
       "| chrY | 90792082 | 90792260 | 179 | * | ID=SRX2793944;Name=Cdk8%20(@%20ES%20cells);Title=GSM2611279:%20Fbxl19flfl%20OHT%20CDK8%20rep1%3B%20Mus%20musculus%3B%20ChIP-Seq;Cell%20group=Pluripotent%20stem%20cell;&lt;br&gt;source_name=Fbxl19flfl_OHT_CDK8;cell%20line=Fbxl19%20fl/fl;cell%20type=mouse%20embryonic%20stem%20cells;treated%20with=800nM%204-hydroxytamoxifen%20for%2096%20h;antibody=CDK8%20(Bethyl%20Laboratories,%20A302-500A,%20lot%20A302-500A-1);replicate=1;passage=13-20;                                                                                                                                                                                                                                                                         | 119 | . | 90792081 | 90792260 | ⋯ | 90790451 | 90816465 | 26015 | 1 | 170942 | ENSMUST00000238471.1 |  1631 | NA | Erdr1x | erythroid differentiation regulator 1 x |\n",
       "| chrY | 90796773 | 90796940 | 168 | * | ID=SRX236482;Name=Cdk8%20(@%20ES%20cells);Title=GSM1082346:%20Cdk8%20mES%20r2%20ChipSeq%3B%20Mus%20musculus%3B%20ChIP-Seq;Cell%20group=Pluripotent%20stem%20cell;&lt;br&gt;source_name=Embryonic%20stem%20cells;chip%20antibody=cdk8;antibody%20vendor%20and%20catalog%20number=Santa%20Cruz%20SC-1521;background%20strain=C57BL/6-129;                                                                                                                                                                                                                                                                                                                                                                                        | 139 | . | 90796772 | 90796940 | ⋯ | 90790451 | 90816465 | 26015 | 1 | 170942 | ENSMUST00000238471.1 |  6322 | NA | Erdr1x | erythroid differentiation regulator 1 x |\n",
       "| chrY | 90799212 | 90799445 | 234 | * | ID=SRX236482;Name=Cdk8%20(@%20ES%20cells);Title=GSM1082346:%20Cdk8%20mES%20r2%20ChipSeq%3B%20Mus%20musculus%3B%20ChIP-Seq;Cell%20group=Pluripotent%20stem%20cell;&lt;br&gt;source_name=Embryonic%20stem%20cells;chip%20antibody=cdk8;antibody%20vendor%20and%20catalog%20number=Santa%20Cruz%20SC-1521;background%20strain=C57BL/6-129;                                                                                                                                                                                                                                                                                                                                                                                        | 152 | . | 90799211 | 90799445 | ⋯ | 90790451 | 90816465 | 26015 | 1 | 170942 | ENSMUST00000238471.1 |  8761 | NA | Erdr1x | erythroid differentiation regulator 1 x |\n",
       "| chrY | 90800458 | 90800829 | 372 | * | ID=SRX236482;Name=Cdk8%20(@%20ES%20cells);Title=GSM1082346:%20Cdk8%20mES%20r2%20ChipSeq%3B%20Mus%20musculus%3B%20ChIP-Seq;Cell%20group=Pluripotent%20stem%20cell;&lt;br&gt;source_name=Embryonic%20stem%20cells;chip%20antibody=cdk8;antibody%20vendor%20and%20catalog%20number=Santa%20Cruz%20SC-1521;background%20strain=C57BL/6-129;                                                                                                                                                                                                                                                                                                                                                                                        | 105 | . | 90800457 | 90800829 | ⋯ | 90790451 | 90816465 | 26015 | 1 | 170942 | ENSMUST00000238471.1 | 10007 | NA | Erdr1x | erythroid differentiation regulator 1 x |\n",
       "| chrY | 90803519 | 90803705 | 187 | * | ID=SRX236482;Name=Cdk8%20(@%20ES%20cells);Title=GSM1082346:%20Cdk8%20mES%20r2%20ChipSeq%3B%20Mus%20musculus%3B%20ChIP-Seq;Cell%20group=Pluripotent%20stem%20cell;&lt;br&gt;source_name=Embryonic%20stem%20cells;chip%20antibody=cdk8;antibody%20vendor%20and%20catalog%20number=Santa%20Cruz%20SC-1521;background%20strain=C57BL/6-129;                                                                                                                                                                                                                                                                                                                                                                                        | 105 | . | 90803518 | 90803705 | ⋯ | 90790451 | 90816465 | 26015 | 1 | 170942 | ENSMUST00000238471.1 | 13068 | NA | Erdr1x | erythroid differentiation regulator 1 x |\n",
       "| chrY | 90805063 | 90805240 | 178 | * | ID=SRX236482;Name=Cdk8%20(@%20ES%20cells);Title=GSM1082346:%20Cdk8%20mES%20r2%20ChipSeq%3B%20Mus%20musculus%3B%20ChIP-Seq;Cell%20group=Pluripotent%20stem%20cell;&lt;br&gt;source_name=Embryonic%20stem%20cells;chip%20antibody=cdk8;antibody%20vendor%20and%20catalog%20number=Santa%20Cruz%20SC-1521;background%20strain=C57BL/6-129;                                                                                                                                                                                                                                                                                                                                                                                        | 164 | . | 90805062 | 90805240 | ⋯ | 90790451 | 90816465 | 26015 | 1 | 170942 | ENSMUST00000238471.1 | 14612 | NA | Erdr1x | erythroid differentiation regulator 1 x |\n",
       "| chrY | 90807629 | 90807877 | 249 | * | ID=SRX236482;Name=Cdk8%20(@%20ES%20cells);Title=GSM1082346:%20Cdk8%20mES%20r2%20ChipSeq%3B%20Mus%20musculus%3B%20ChIP-Seq;Cell%20group=Pluripotent%20stem%20cell;&lt;br&gt;source_name=Embryonic%20stem%20cells;chip%20antibody=cdk8;antibody%20vendor%20and%20catalog%20number=Santa%20Cruz%20SC-1521;background%20strain=C57BL/6-129;                                                                                                                                                                                                                                                                                                                                                                                        | 105 | . | 90807628 | 90807877 | ⋯ | 90790451 | 90816465 | 26015 | 1 | 170942 | ENSMUST00000238471.1 | 17178 | NA | Erdr1x | erythroid differentiation regulator 1 x |\n",
       "| chrY | 90808743 | 90808917 | 175 | * | ID=SRX2793944;Name=Cdk8%20(@%20ES%20cells);Title=GSM2611279:%20Fbxl19flfl%20OHT%20CDK8%20rep1%3B%20Mus%20musculus%3B%20ChIP-Seq;Cell%20group=Pluripotent%20stem%20cell;&lt;br&gt;source_name=Fbxl19flfl_OHT_CDK8;cell%20line=Fbxl19%20fl/fl;cell%20type=mouse%20embryonic%20stem%20cells;treated%20with=800nM%204-hydroxytamoxifen%20for%2096%20h;antibody=CDK8%20(Bethyl%20Laboratories,%20A302-500A,%20lot%20A302-500A-1);replicate=1;passage=13-20;                                                                                                                                                                                                                                                                         | 129 | . | 90808742 | 90808917 | ⋯ | 90790451 | 90816465 | 26015 | 1 | 170942 | ENSMUST00000238471.1 | 18292 | NA | Erdr1x | erythroid differentiation regulator 1 x |\n",
       "| chrY | 90810950 | 90811214 | 265 | * | ID=SRX236482;Name=Cdk8%20(@%20ES%20cells);Title=GSM1082346:%20Cdk8%20mES%20r2%20ChipSeq%3B%20Mus%20musculus%3B%20ChIP-Seq;Cell%20group=Pluripotent%20stem%20cell;&lt;br&gt;source_name=Embryonic%20stem%20cells;chip%20antibody=cdk8;antibody%20vendor%20and%20catalog%20number=Santa%20Cruz%20SC-1521;background%20strain=C57BL/6-129;                                                                                                                                                                                                                                                                                                                                                                                        | 224 | . | 90810949 | 90811214 | ⋯ | 90790451 | 90816465 | 26015 | 1 | 170942 | ENSMUST00000238471.1 | 20499 | NA | Erdr1x | erythroid differentiation regulator 1 x |\n",
       "| chrY | 90819424 | 90819914 | 491 | * | ID=SRX12622661;Name=Cdk8%20(@%20ES%20cells);Title=GSM5627390:%20Med1313lfl-MED14-T7%20RA%20UNT%20CDK8%20rep3%3B%20Mus%20musculus%3B%20ChIP-Seq;Cell%20group=Pluripotent%20stem%20cell;&lt;br&gt;source_name=Mouse%20embryonic%20stem%20cells%20treated%20with%20retinoic%20acid%20for%2048h,%20Med13/13l%20flfl%20with%20endogenously%20tagged%20Med14-T7,%20untreated%20control,%20CDK8%20ChIPseq;cell%20line=Med13%3BMed13l%20flfl%20Med14-T7;strain=Rosa26::ERT2-Cre;treatment=untreated;treatment%20time=0h;additional%20treatment=retinoic%20acid;additional%20treatment%20time=48h;replicate=3;type%20of%20chip=cross-linked;ChIP=CDK8;antibody=rabbit%20polyclonal%20anti-CDK8%20(A302-500A,%20Bethyl%20laboratories);  | 508 | . | 90819423 | 90819914 | ⋯ | 90790451 | 90816465 | 26015 | 1 | 170942 | ENSMUST00000238471.1 | 28973 | NA | Erdr1x | erythroid differentiation regulator 1 x |\n",
       "| chrY | 90819451 | 90819926 | 476 | * | ID=SRX12622659;Name=Cdk8%20(@%20ES%20cells);Title=GSM5627388:%20Med1313lfll-MED14-T7%20RA%20UNT%20CDK8%20rep1%3B%20Mus%20musculus%3B%20ChIP-Seq;Cell%20group=Pluripotent%20stem%20cell;&lt;br&gt;source_name=Mouse%20embryonic%20stem%20cells%20treated%20with%20retinoic%20acid%20for%2048h,%20Med13/13l%20flfl%20with%20endogenously%20tagged%20Med14-T7,%20untreated%20control,%20CDK8%20ChIPseq;cell%20line=Med13%3BMed13l%20flfl%20Med14-T7;strain=Rosa26::ERT2-Cre;treatment=untreated;treatment%20time=0h;additional%20treatment=retinoic%20acid;additional%20treatment%20time=48h;replicate=1;type%20of%20chip=cross-linked;ChIP=CDK8;antibody=rabbit%20polyclonal%20anti-CDK8%20(A302-500A,%20Bethyl%20laboratories); | 511 | . | 90819450 | 90819926 | ⋯ | 90790451 | 90816465 | 26015 | 1 | 170942 | ENSMUST00000238471.1 | 29000 | NA | Erdr1x | erythroid differentiation regulator 1 x |\n",
       "| chrY | 90819658 | 90819882 | 225 | * | ID=SRX12622660;Name=Cdk8%20(@%20ES%20cells);Title=GSM5627389:%20Med1313lfl-MED14-T7%20RA%20UNT%20CDK8%20rep2%3B%20Mus%20musculus%3B%20ChIP-Seq;Cell%20group=Pluripotent%20stem%20cell;&lt;br&gt;source_name=Mouse%20embryonic%20stem%20cells%20treated%20with%20retinoic%20acid%20for%2048h,%20Med13/13l%20flfl%20with%20endogenously%20tagged%20Med14-T7,%20untreated%20control,%20CDK8%20ChIPseq;cell%20line=Med13%3BMed13l%20flfl%20Med14-T7;strain=Rosa26::ERT2-Cre;treatment=untreated;treatment%20time=0h;additional%20treatment=retinoic%20acid;additional%20treatment%20time=48h;replicate=2;type%20of%20chip=cross-linked;ChIP=CDK8;antibody=rabbit%20polyclonal%20anti-CDK8%20(A302-500A,%20Bethyl%20laboratories);  | 193 | . | 90819657 | 90819882 | ⋯ | 90790451 | 90816465 | 26015 | 1 | 170942 | ENSMUST00000238471.1 | 29207 | NA | Erdr1x | erythroid differentiation regulator 1 x |\n",
       "| chrY | 90819687 | 90819870 | 184 | * | ID=SRX2793940;Name=Cdk8%20(@%20ES%20cells);Title=GSM2611275:%20Fbxl19flfl%20UNT%20CDK8%20rep1%3B%20Mus%20musculus%3B%20ChIP-Seq;Cell%20group=Pluripotent%20stem%20cell;&lt;br&gt;source_name=Fbxl19flfl_UNT_CDK8;cell%20line=Fbxl19%20fl/fl;cell%20type=mouse%20embryonic%20stem%20cells;treated%20with=none%20(untreated);antibody=CDK8%20(Bethyl%20Laboratories,%20A302-500A,%20lot%20A302-500A-1);replicate=1;passage=13-20;                                                                                                                                                                                                                                                                                                | 123 | . | 90819686 | 90819870 | ⋯ | 90790451 | 90816465 | 26015 | 1 | 170942 | ENSMUST00000238471.1 | 29236 | NA | Erdr1x | erythroid differentiation regulator 1 x |\n",
       "\n"
      ],
      "text/plain": [
       "      seqnames start    end      width strand\n",
       "1     chr1     3042841  3043263  423   *     \n",
       "2     chr1     3042877  3043270  394   *     \n",
       "3     chr1     3043033  3043264  232   *     \n",
       "4     chr1     3043060  3043250  191   *     \n",
       "5     chr1     3062848  3063078  231   *     \n",
       "6     chr1     3062873  3063079  207   *     \n",
       "7     chr1     3062889  3063054  166   *     \n",
       "8     chr1     3482883  3483225  343   *     \n",
       "9     chr1     3482888  3483193  306   *     \n",
       "10    chr1     3482892  3483207  316   *     \n",
       "11    chr1     3482911  3483255  345   *     \n",
       "12    chr1     3482999  3483218  220   *     \n",
       "13    chr1     3549422  3549830  409   *     \n",
       "14    chr1     3549441  3549770  330   *     \n",
       "15    chr1     3549489  3549716  228   *     \n",
       "16    chr1     3671646  3671854  209   *     \n",
       "17    chr1     3681536  3681831  296   *     \n",
       "18    chr1     3681541  3681748  208   *     \n",
       "19    chr1     3681550  3681798  249   *     \n",
       "20    chr1     3681556  3681815  260   *     \n",
       "21    chr1     3953653  3953887  235   *     \n",
       "22    chr1     3953659  3953864  206   *     \n",
       "23    chr1     3953702  3953873  172   *     \n",
       "24    chr1     3982085  3982249  165   *     \n",
       "25    chr1     3982087  3982283  197   *     \n",
       "26    chr1     4150847  4151148  302   *     \n",
       "27    chr1     4150861  4151092  232   *     \n",
       "28    chr1     4150879  4151117  239   *     \n",
       "29    chr1     4150882  4151158  277   *     \n",
       "30    chr1     4214317  4214599  283   *     \n",
       "⋮     ⋮        ⋮        ⋮        ⋮     ⋮     \n",
       "47661 chrY     90777096 90777317 222   *     \n",
       "47662 chrY     90777108 90777367 260   *     \n",
       "47663 chrY     90777115 90777360 246   *     \n",
       "47664 chrY     90777123 90777374 252   *     \n",
       "47665 chrY     90783807 90784229 423   *     \n",
       "47666 chrY     90783858 90784034 177   *     \n",
       "47667 chrY     90783861 90784016 156   *     \n",
       "47668 chrY     90784087 90784575 489   *     \n",
       "47669 chrY     90784145 90784558 414   *     \n",
       "47670 chrY     90784183 90784560 378   *     \n",
       "47671 chrY     90784188 90784585 398   *     \n",
       "47672 chrY     90784714 90785080 367   *     \n",
       "47673 chrY     90784729 90785003 275   *     \n",
       "47674 chrY     90784730 90785115 386   *     \n",
       "47675 chrY     90784767 90785014 248   *     \n",
       "47676 chrY     90784775 90784965 191   *     \n",
       "47677 chrY     90784795 90785025 231   *     \n",
       "47678 chrY     90792082 90792260 179   *     \n",
       "47679 chrY     90796773 90796940 168   *     \n",
       "47680 chrY     90799212 90799445 234   *     \n",
       "47681 chrY     90800458 90800829 372   *     \n",
       "47682 chrY     90803519 90803705 187   *     \n",
       "47683 chrY     90805063 90805240 178   *     \n",
       "47684 chrY     90807629 90807877 249   *     \n",
       "47685 chrY     90808743 90808917 175   *     \n",
       "47686 chrY     90810950 90811214 265   *     \n",
       "47687 chrY     90819424 90819914 491   *     \n",
       "47688 chrY     90819451 90819926 476   *     \n",
       "47689 chrY     90819658 90819882 225   *     \n",
       "47690 chrY     90819687 90819870 184   *     \n",
       "      technical                                                                                                                                                                                                                                                                                                                                                                                                                                                                                                                                                                                                                                                                                                               \n",
       "1     ID=SRX2793944;Name=Cdk8%20(@%20ES%20cells);Title=GSM2611279:%20Fbxl19flfl%20OHT%20CDK8%20rep1%3B%20Mus%20musculus%3B%20ChIP-Seq;Cell%20group=Pluripotent%20stem%20cell;<br>source_name=Fbxl19flfl_OHT_CDK8;cell%20line=Fbxl19%20fl/fl;cell%20type=mouse%20embryonic%20stem%20cells;treated%20with=800nM%204-hydroxytamoxifen%20for%2096%20h;antibody=CDK8%20(Bethyl%20Laboratories,%20A302-500A,%20lot%20A302-500A-1);replicate=1;passage=13-20;                                                                                                                                                                                                                                                                        \n",
       "2     ID=SRX2793940;Name=Cdk8%20(@%20ES%20cells);Title=GSM2611275:%20Fbxl19flfl%20UNT%20CDK8%20rep1%3B%20Mus%20musculus%3B%20ChIP-Seq;Cell%20group=Pluripotent%20stem%20cell;<br>source_name=Fbxl19flfl_UNT_CDK8;cell%20line=Fbxl19%20fl/fl;cell%20type=mouse%20embryonic%20stem%20cells;treated%20with=none%20(untreated);antibody=CDK8%20(Bethyl%20Laboratories,%20A302-500A,%20lot%20A302-500A-1);replicate=1;passage=13-20;                                                                                                                                                                                                                                                                                               \n",
       "3     ID=SRX2793941;Name=Cdk8%20(@%20ES%20cells);Title=GSM2611276:%20Fbxl19flfl%20UNT%20CDK8%20rep2%3B%20Mus%20musculus%3B%20ChIP-Seq;Cell%20group=Pluripotent%20stem%20cell;<br>source_name=Fbxl19flfl_UNT_CDK8;cell%20line=Fbxl19%20fl/fl;cell%20type=mouse%20embryonic%20stem%20cells;treated%20with=none%20(untreated);antibody=CDK8%20(Bethyl%20Laboratories,%20A302-500A,%20lot%20A302-500A-1);replicate=2;passage=13-20;                                                                                                                                                                                                                                                                                               \n",
       "4     ID=SRX2793945;Name=Cdk8%20(@%20ES%20cells);Title=GSM2611280:%20Fbxl19flfl%20OHT%20CDK8%20rep2%3B%20Mus%20musculus%3B%20ChIP-Seq;Cell%20group=Pluripotent%20stem%20cell;<br>source_name=Fbxl19flfl_OHT_CDK8;cell%20line=Fbxl19%20fl/fl;cell%20type=mouse%20embryonic%20stem%20cells;treated%20with=800nM%204-hydroxytamoxifen%20for%2096%20h;antibody=CDK8%20(Bethyl%20Laboratories,%20A302-500A,%20lot%20A302-500A-1);replicate=2;passage=13-20;                                                                                                                                                                                                                                                                        \n",
       "5     ID=SRX2793944;Name=Cdk8%20(@%20ES%20cells);Title=GSM2611279:%20Fbxl19flfl%20OHT%20CDK8%20rep1%3B%20Mus%20musculus%3B%20ChIP-Seq;Cell%20group=Pluripotent%20stem%20cell;<br>source_name=Fbxl19flfl_OHT_CDK8;cell%20line=Fbxl19%20fl/fl;cell%20type=mouse%20embryonic%20stem%20cells;treated%20with=800nM%204-hydroxytamoxifen%20for%2096%20h;antibody=CDK8%20(Bethyl%20Laboratories,%20A302-500A,%20lot%20A302-500A-1);replicate=1;passage=13-20;                                                                                                                                                                                                                                                                        \n",
       "6     ID=SRX2793941;Name=Cdk8%20(@%20ES%20cells);Title=GSM2611276:%20Fbxl19flfl%20UNT%20CDK8%20rep2%3B%20Mus%20musculus%3B%20ChIP-Seq;Cell%20group=Pluripotent%20stem%20cell;<br>source_name=Fbxl19flfl_UNT_CDK8;cell%20line=Fbxl19%20fl/fl;cell%20type=mouse%20embryonic%20stem%20cells;treated%20with=none%20(untreated);antibody=CDK8%20(Bethyl%20Laboratories,%20A302-500A,%20lot%20A302-500A-1);replicate=2;passage=13-20;                                                                                                                                                                                                                                                                                               \n",
       "7     ID=SRX2793945;Name=Cdk8%20(@%20ES%20cells);Title=GSM2611280:%20Fbxl19flfl%20OHT%20CDK8%20rep2%3B%20Mus%20musculus%3B%20ChIP-Seq;Cell%20group=Pluripotent%20stem%20cell;<br>source_name=Fbxl19flfl_OHT_CDK8;cell%20line=Fbxl19%20fl/fl;cell%20type=mouse%20embryonic%20stem%20cells;treated%20with=800nM%204-hydroxytamoxifen%20for%2096%20h;antibody=CDK8%20(Bethyl%20Laboratories,%20A302-500A,%20lot%20A302-500A-1);replicate=2;passage=13-20;                                                                                                                                                                                                                                                                        \n",
       "8     ID=SRX2793941;Name=Cdk8%20(@%20ES%20cells);Title=GSM2611276:%20Fbxl19flfl%20UNT%20CDK8%20rep2%3B%20Mus%20musculus%3B%20ChIP-Seq;Cell%20group=Pluripotent%20stem%20cell;<br>source_name=Fbxl19flfl_UNT_CDK8;cell%20line=Fbxl19%20fl/fl;cell%20type=mouse%20embryonic%20stem%20cells;treated%20with=none%20(untreated);antibody=CDK8%20(Bethyl%20Laboratories,%20A302-500A,%20lot%20A302-500A-1);replicate=2;passage=13-20;                                                                                                                                                                                                                                                                                               \n",
       "9     ID=SRX2793944;Name=Cdk8%20(@%20ES%20cells);Title=GSM2611279:%20Fbxl19flfl%20OHT%20CDK8%20rep1%3B%20Mus%20musculus%3B%20ChIP-Seq;Cell%20group=Pluripotent%20stem%20cell;<br>source_name=Fbxl19flfl_OHT_CDK8;cell%20line=Fbxl19%20fl/fl;cell%20type=mouse%20embryonic%20stem%20cells;treated%20with=800nM%204-hydroxytamoxifen%20for%2096%20h;antibody=CDK8%20(Bethyl%20Laboratories,%20A302-500A,%20lot%20A302-500A-1);replicate=1;passage=13-20;                                                                                                                                                                                                                                                                        \n",
       "10    ID=SRX2793940;Name=Cdk8%20(@%20ES%20cells);Title=GSM2611275:%20Fbxl19flfl%20UNT%20CDK8%20rep1%3B%20Mus%20musculus%3B%20ChIP-Seq;Cell%20group=Pluripotent%20stem%20cell;<br>source_name=Fbxl19flfl_UNT_CDK8;cell%20line=Fbxl19%20fl/fl;cell%20type=mouse%20embryonic%20stem%20cells;treated%20with=none%20(untreated);antibody=CDK8%20(Bethyl%20Laboratories,%20A302-500A,%20lot%20A302-500A-1);replicate=1;passage=13-20;                                                                                                                                                                                                                                                                                               \n",
       "11    ID=SRX2793945;Name=Cdk8%20(@%20ES%20cells);Title=GSM2611280:%20Fbxl19flfl%20OHT%20CDK8%20rep2%3B%20Mus%20musculus%3B%20ChIP-Seq;Cell%20group=Pluripotent%20stem%20cell;<br>source_name=Fbxl19flfl_OHT_CDK8;cell%20line=Fbxl19%20fl/fl;cell%20type=mouse%20embryonic%20stem%20cells;treated%20with=800nM%204-hydroxytamoxifen%20for%2096%20h;antibody=CDK8%20(Bethyl%20Laboratories,%20A302-500A,%20lot%20A302-500A-1);replicate=2;passage=13-20;                                                                                                                                                                                                                                                                        \n",
       "12    ID=SRX236482;Name=Cdk8%20(@%20ES%20cells);Title=GSM1082346:%20Cdk8%20mES%20r2%20ChipSeq%3B%20Mus%20musculus%3B%20ChIP-Seq;Cell%20group=Pluripotent%20stem%20cell;<br>source_name=Embryonic%20stem%20cells;chip%20antibody=cdk8;antibody%20vendor%20and%20catalog%20number=Santa%20Cruz%20SC-1521;background%20strain=C57BL/6-129;                                                                                                                                                                                                                                                                                                                                                                                       \n",
       "13    ID=SRX2793944;Name=Cdk8%20(@%20ES%20cells);Title=GSM2611279:%20Fbxl19flfl%20OHT%20CDK8%20rep1%3B%20Mus%20musculus%3B%20ChIP-Seq;Cell%20group=Pluripotent%20stem%20cell;<br>source_name=Fbxl19flfl_OHT_CDK8;cell%20line=Fbxl19%20fl/fl;cell%20type=mouse%20embryonic%20stem%20cells;treated%20with=800nM%204-hydroxytamoxifen%20for%2096%20h;antibody=CDK8%20(Bethyl%20Laboratories,%20A302-500A,%20lot%20A302-500A-1);replicate=1;passage=13-20;                                                                                                                                                                                                                                                                        \n",
       "14    ID=SRX2793941;Name=Cdk8%20(@%20ES%20cells);Title=GSM2611276:%20Fbxl19flfl%20UNT%20CDK8%20rep2%3B%20Mus%20musculus%3B%20ChIP-Seq;Cell%20group=Pluripotent%20stem%20cell;<br>source_name=Fbxl19flfl_UNT_CDK8;cell%20line=Fbxl19%20fl/fl;cell%20type=mouse%20embryonic%20stem%20cells;treated%20with=none%20(untreated);antibody=CDK8%20(Bethyl%20Laboratories,%20A302-500A,%20lot%20A302-500A-1);replicate=2;passage=13-20;                                                                                                                                                                                                                                                                                               \n",
       "15    ID=SRX2793945;Name=Cdk8%20(@%20ES%20cells);Title=GSM2611280:%20Fbxl19flfl%20OHT%20CDK8%20rep2%3B%20Mus%20musculus%3B%20ChIP-Seq;Cell%20group=Pluripotent%20stem%20cell;<br>source_name=Fbxl19flfl_OHT_CDK8;cell%20line=Fbxl19%20fl/fl;cell%20type=mouse%20embryonic%20stem%20cells;treated%20with=800nM%204-hydroxytamoxifen%20for%2096%20h;antibody=CDK8%20(Bethyl%20Laboratories,%20A302-500A,%20lot%20A302-500A-1);replicate=2;passage=13-20;                                                                                                                                                                                                                                                                        \n",
       "16    ID=SRX2793941;Name=Cdk8%20(@%20ES%20cells);Title=GSM2611276:%20Fbxl19flfl%20UNT%20CDK8%20rep2%3B%20Mus%20musculus%3B%20ChIP-Seq;Cell%20group=Pluripotent%20stem%20cell;<br>source_name=Fbxl19flfl_UNT_CDK8;cell%20line=Fbxl19%20fl/fl;cell%20type=mouse%20embryonic%20stem%20cells;treated%20with=none%20(untreated);antibody=CDK8%20(Bethyl%20Laboratories,%20A302-500A,%20lot%20A302-500A-1);replicate=2;passage=13-20;                                                                                                                                                                                                                                                                                               \n",
       "17    ID=SRX2793941;Name=Cdk8%20(@%20ES%20cells);Title=GSM2611276:%20Fbxl19flfl%20UNT%20CDK8%20rep2%3B%20Mus%20musculus%3B%20ChIP-Seq;Cell%20group=Pluripotent%20stem%20cell;<br>source_name=Fbxl19flfl_UNT_CDK8;cell%20line=Fbxl19%20fl/fl;cell%20type=mouse%20embryonic%20stem%20cells;treated%20with=none%20(untreated);antibody=CDK8%20(Bethyl%20Laboratories,%20A302-500A,%20lot%20A302-500A-1);replicate=2;passage=13-20;                                                                                                                                                                                                                                                                                               \n",
       "18    ID=SRX2793940;Name=Cdk8%20(@%20ES%20cells);Title=GSM2611275:%20Fbxl19flfl%20UNT%20CDK8%20rep1%3B%20Mus%20musculus%3B%20ChIP-Seq;Cell%20group=Pluripotent%20stem%20cell;<br>source_name=Fbxl19flfl_UNT_CDK8;cell%20line=Fbxl19%20fl/fl;cell%20type=mouse%20embryonic%20stem%20cells;treated%20with=none%20(untreated);antibody=CDK8%20(Bethyl%20Laboratories,%20A302-500A,%20lot%20A302-500A-1);replicate=1;passage=13-20;                                                                                                                                                                                                                                                                                               \n",
       "19    ID=SRX2793944;Name=Cdk8%20(@%20ES%20cells);Title=GSM2611279:%20Fbxl19flfl%20OHT%20CDK8%20rep1%3B%20Mus%20musculus%3B%20ChIP-Seq;Cell%20group=Pluripotent%20stem%20cell;<br>source_name=Fbxl19flfl_OHT_CDK8;cell%20line=Fbxl19%20fl/fl;cell%20type=mouse%20embryonic%20stem%20cells;treated%20with=800nM%204-hydroxytamoxifen%20for%2096%20h;antibody=CDK8%20(Bethyl%20Laboratories,%20A302-500A,%20lot%20A302-500A-1);replicate=1;passage=13-20;                                                                                                                                                                                                                                                                        \n",
       "20    ID=SRX2793945;Name=Cdk8%20(@%20ES%20cells);Title=GSM2611280:%20Fbxl19flfl%20OHT%20CDK8%20rep2%3B%20Mus%20musculus%3B%20ChIP-Seq;Cell%20group=Pluripotent%20stem%20cell;<br>source_name=Fbxl19flfl_OHT_CDK8;cell%20line=Fbxl19%20fl/fl;cell%20type=mouse%20embryonic%20stem%20cells;treated%20with=800nM%204-hydroxytamoxifen%20for%2096%20h;antibody=CDK8%20(Bethyl%20Laboratories,%20A302-500A,%20lot%20A302-500A-1);replicate=2;passage=13-20;                                                                                                                                                                                                                                                                        \n",
       "21    ID=SRX2793941;Name=Cdk8%20(@%20ES%20cells);Title=GSM2611276:%20Fbxl19flfl%20UNT%20CDK8%20rep2%3B%20Mus%20musculus%3B%20ChIP-Seq;Cell%20group=Pluripotent%20stem%20cell;<br>source_name=Fbxl19flfl_UNT_CDK8;cell%20line=Fbxl19%20fl/fl;cell%20type=mouse%20embryonic%20stem%20cells;treated%20with=none%20(untreated);antibody=CDK8%20(Bethyl%20Laboratories,%20A302-500A,%20lot%20A302-500A-1);replicate=2;passage=13-20;                                                                                                                                                                                                                                                                                               \n",
       "22    ID=SRX2793944;Name=Cdk8%20(@%20ES%20cells);Title=GSM2611279:%20Fbxl19flfl%20OHT%20CDK8%20rep1%3B%20Mus%20musculus%3B%20ChIP-Seq;Cell%20group=Pluripotent%20stem%20cell;<br>source_name=Fbxl19flfl_OHT_CDK8;cell%20line=Fbxl19%20fl/fl;cell%20type=mouse%20embryonic%20stem%20cells;treated%20with=800nM%204-hydroxytamoxifen%20for%2096%20h;antibody=CDK8%20(Bethyl%20Laboratories,%20A302-500A,%20lot%20A302-500A-1);replicate=1;passage=13-20;                                                                                                                                                                                                                                                                        \n",
       "23    ID=SRX2793945;Name=Cdk8%20(@%20ES%20cells);Title=GSM2611280:%20Fbxl19flfl%20OHT%20CDK8%20rep2%3B%20Mus%20musculus%3B%20ChIP-Seq;Cell%20group=Pluripotent%20stem%20cell;<br>source_name=Fbxl19flfl_OHT_CDK8;cell%20line=Fbxl19%20fl/fl;cell%20type=mouse%20embryonic%20stem%20cells;treated%20with=800nM%204-hydroxytamoxifen%20for%2096%20h;antibody=CDK8%20(Bethyl%20Laboratories,%20A302-500A,%20lot%20A302-500A-1);replicate=2;passage=13-20;                                                                                                                                                                                                                                                                        \n",
       "24    ID=SRX2793941;Name=Cdk8%20(@%20ES%20cells);Title=GSM2611276:%20Fbxl19flfl%20UNT%20CDK8%20rep2%3B%20Mus%20musculus%3B%20ChIP-Seq;Cell%20group=Pluripotent%20stem%20cell;<br>source_name=Fbxl19flfl_UNT_CDK8;cell%20line=Fbxl19%20fl/fl;cell%20type=mouse%20embryonic%20stem%20cells;treated%20with=none%20(untreated);antibody=CDK8%20(Bethyl%20Laboratories,%20A302-500A,%20lot%20A302-500A-1);replicate=2;passage=13-20;                                                                                                                                                                                                                                                                                               \n",
       "25    ID=SRX2793944;Name=Cdk8%20(@%20ES%20cells);Title=GSM2611279:%20Fbxl19flfl%20OHT%20CDK8%20rep1%3B%20Mus%20musculus%3B%20ChIP-Seq;Cell%20group=Pluripotent%20stem%20cell;<br>source_name=Fbxl19flfl_OHT_CDK8;cell%20line=Fbxl19%20fl/fl;cell%20type=mouse%20embryonic%20stem%20cells;treated%20with=800nM%204-hydroxytamoxifen%20for%2096%20h;antibody=CDK8%20(Bethyl%20Laboratories,%20A302-500A,%20lot%20A302-500A-1);replicate=1;passage=13-20;                                                                                                                                                                                                                                                                        \n",
       "26    ID=SRX2793941;Name=Cdk8%20(@%20ES%20cells);Title=GSM2611276:%20Fbxl19flfl%20UNT%20CDK8%20rep2%3B%20Mus%20musculus%3B%20ChIP-Seq;Cell%20group=Pluripotent%20stem%20cell;<br>source_name=Fbxl19flfl_UNT_CDK8;cell%20line=Fbxl19%20fl/fl;cell%20type=mouse%20embryonic%20stem%20cells;treated%20with=none%20(untreated);antibody=CDK8%20(Bethyl%20Laboratories,%20A302-500A,%20lot%20A302-500A-1);replicate=2;passage=13-20;                                                                                                                                                                                                                                                                                               \n",
       "27    ID=SRX2793940;Name=Cdk8%20(@%20ES%20cells);Title=GSM2611275:%20Fbxl19flfl%20UNT%20CDK8%20rep1%3B%20Mus%20musculus%3B%20ChIP-Seq;Cell%20group=Pluripotent%20stem%20cell;<br>source_name=Fbxl19flfl_UNT_CDK8;cell%20line=Fbxl19%20fl/fl;cell%20type=mouse%20embryonic%20stem%20cells;treated%20with=none%20(untreated);antibody=CDK8%20(Bethyl%20Laboratories,%20A302-500A,%20lot%20A302-500A-1);replicate=1;passage=13-20;                                                                                                                                                                                                                                                                                               \n",
       "28    ID=SRX2793945;Name=Cdk8%20(@%20ES%20cells);Title=GSM2611280:%20Fbxl19flfl%20OHT%20CDK8%20rep2%3B%20Mus%20musculus%3B%20ChIP-Seq;Cell%20group=Pluripotent%20stem%20cell;<br>source_name=Fbxl19flfl_OHT_CDK8;cell%20line=Fbxl19%20fl/fl;cell%20type=mouse%20embryonic%20stem%20cells;treated%20with=800nM%204-hydroxytamoxifen%20for%2096%20h;antibody=CDK8%20(Bethyl%20Laboratories,%20A302-500A,%20lot%20A302-500A-1);replicate=2;passage=13-20;                                                                                                                                                                                                                                                                        \n",
       "29    ID=SRX2793944;Name=Cdk8%20(@%20ES%20cells);Title=GSM2611279:%20Fbxl19flfl%20OHT%20CDK8%20rep1%3B%20Mus%20musculus%3B%20ChIP-Seq;Cell%20group=Pluripotent%20stem%20cell;<br>source_name=Fbxl19flfl_OHT_CDK8;cell%20line=Fbxl19%20fl/fl;cell%20type=mouse%20embryonic%20stem%20cells;treated%20with=800nM%204-hydroxytamoxifen%20for%2096%20h;antibody=CDK8%20(Bethyl%20Laboratories,%20A302-500A,%20lot%20A302-500A-1);replicate=1;passage=13-20;                                                                                                                                                                                                                                                                        \n",
       "30    ID=SRX2793945;Name=Cdk8%20(@%20ES%20cells);Title=GSM2611280:%20Fbxl19flfl%20OHT%20CDK8%20rep2%3B%20Mus%20musculus%3B%20ChIP-Seq;Cell%20group=Pluripotent%20stem%20cell;<br>source_name=Fbxl19flfl_OHT_CDK8;cell%20line=Fbxl19%20fl/fl;cell%20type=mouse%20embryonic%20stem%20cells;treated%20with=800nM%204-hydroxytamoxifen%20for%2096%20h;antibody=CDK8%20(Bethyl%20Laboratories,%20A302-500A,%20lot%20A302-500A-1);replicate=2;passage=13-20;                                                                                                                                                                                                                                                                        \n",
       "⋮     ⋮                                                                                                                                                                                                                                                                                                                                                                                                                                                                                                                                                                                                                                                                                                                       \n",
       "47661 ID=SRX236482;Name=Cdk8%20(@%20ES%20cells);Title=GSM1082346:%20Cdk8%20mES%20r2%20ChipSeq%3B%20Mus%20musculus%3B%20ChIP-Seq;Cell%20group=Pluripotent%20stem%20cell;<br>source_name=Embryonic%20stem%20cells;chip%20antibody=cdk8;antibody%20vendor%20and%20catalog%20number=Santa%20Cruz%20SC-1521;background%20strain=C57BL/6-129;                                                                                                                                                                                                                                                                                                                                                                                       \n",
       "47662 ID=SRX2793941;Name=Cdk8%20(@%20ES%20cells);Title=GSM2611276:%20Fbxl19flfl%20UNT%20CDK8%20rep2%3B%20Mus%20musculus%3B%20ChIP-Seq;Cell%20group=Pluripotent%20stem%20cell;<br>source_name=Fbxl19flfl_UNT_CDK8;cell%20line=Fbxl19%20fl/fl;cell%20type=mouse%20embryonic%20stem%20cells;treated%20with=none%20(untreated);antibody=CDK8%20(Bethyl%20Laboratories,%20A302-500A,%20lot%20A302-500A-1);replicate=2;passage=13-20;                                                                                                                                                                                                                                                                                               \n",
       "47663 ID=SRX2793940;Name=Cdk8%20(@%20ES%20cells);Title=GSM2611275:%20Fbxl19flfl%20UNT%20CDK8%20rep1%3B%20Mus%20musculus%3B%20ChIP-Seq;Cell%20group=Pluripotent%20stem%20cell;<br>source_name=Fbxl19flfl_UNT_CDK8;cell%20line=Fbxl19%20fl/fl;cell%20type=mouse%20embryonic%20stem%20cells;treated%20with=none%20(untreated);antibody=CDK8%20(Bethyl%20Laboratories,%20A302-500A,%20lot%20A302-500A-1);replicate=1;passage=13-20;                                                                                                                                                                                                                                                                                               \n",
       "47664 ID=SRX2793945;Name=Cdk8%20(@%20ES%20cells);Title=GSM2611280:%20Fbxl19flfl%20OHT%20CDK8%20rep2%3B%20Mus%20musculus%3B%20ChIP-Seq;Cell%20group=Pluripotent%20stem%20cell;<br>source_name=Fbxl19flfl_OHT_CDK8;cell%20line=Fbxl19%20fl/fl;cell%20type=mouse%20embryonic%20stem%20cells;treated%20with=800nM%204-hydroxytamoxifen%20for%2096%20h;antibody=CDK8%20(Bethyl%20Laboratories,%20A302-500A,%20lot%20A302-500A-1);replicate=2;passage=13-20;                                                                                                                                                                                                                                                                        \n",
       "47665 ID=SRX236482;Name=Cdk8%20(@%20ES%20cells);Title=GSM1082346:%20Cdk8%20mES%20r2%20ChipSeq%3B%20Mus%20musculus%3B%20ChIP-Seq;Cell%20group=Pluripotent%20stem%20cell;<br>source_name=Embryonic%20stem%20cells;chip%20antibody=cdk8;antibody%20vendor%20and%20catalog%20number=Santa%20Cruz%20SC-1521;background%20strain=C57BL/6-129;                                                                                                                                                                                                                                                                                                                                                                                       \n",
       "47666 ID=SRX2793945;Name=Cdk8%20(@%20ES%20cells);Title=GSM2611280:%20Fbxl19flfl%20OHT%20CDK8%20rep2%3B%20Mus%20musculus%3B%20ChIP-Seq;Cell%20group=Pluripotent%20stem%20cell;<br>source_name=Fbxl19flfl_OHT_CDK8;cell%20line=Fbxl19%20fl/fl;cell%20type=mouse%20embryonic%20stem%20cells;treated%20with=800nM%204-hydroxytamoxifen%20for%2096%20h;antibody=CDK8%20(Bethyl%20Laboratories,%20A302-500A,%20lot%20A302-500A-1);replicate=2;passage=13-20;                                                                                                                                                                                                                                                                        \n",
       "47667 ID=SRX668247;Name=Cdk8%20(@%20ES%20cells);Title=GSM1463943:%20Cdk8%20mES%20r1%20ChipSeq%3B%20Mus%20musculus%3B%20ChIP-Seq;Cell%20group=Pluripotent%20stem%20cell;<br>source_name=Embryonic%20stem%20cells;chip%20antibody=cdk8;antibody%20catalog%20number=Santa%20Cruz%20SC-1521;cell%20type=V6.5%20embryonic%20stem%20cells;                                                                                                                                                                                                                                                                                                                                                                                          \n",
       "47668 ID=SRX2793945;Name=Cdk8%20(@%20ES%20cells);Title=GSM2611280:%20Fbxl19flfl%20OHT%20CDK8%20rep2%3B%20Mus%20musculus%3B%20ChIP-Seq;Cell%20group=Pluripotent%20stem%20cell;<br>source_name=Fbxl19flfl_OHT_CDK8;cell%20line=Fbxl19%20fl/fl;cell%20type=mouse%20embryonic%20stem%20cells;treated%20with=800nM%204-hydroxytamoxifen%20for%2096%20h;antibody=CDK8%20(Bethyl%20Laboratories,%20A302-500A,%20lot%20A302-500A-1);replicate=2;passage=13-20;                                                                                                                                                                                                                                                                        \n",
       "47669 ID=SRX2793941;Name=Cdk8%20(@%20ES%20cells);Title=GSM2611276:%20Fbxl19flfl%20UNT%20CDK8%20rep2%3B%20Mus%20musculus%3B%20ChIP-Seq;Cell%20group=Pluripotent%20stem%20cell;<br>source_name=Fbxl19flfl_UNT_CDK8;cell%20line=Fbxl19%20fl/fl;cell%20type=mouse%20embryonic%20stem%20cells;treated%20with=none%20(untreated);antibody=CDK8%20(Bethyl%20Laboratories,%20A302-500A,%20lot%20A302-500A-1);replicate=2;passage=13-20;                                                                                                                                                                                                                                                                                               \n",
       "47670 ID=SRX2793940;Name=Cdk8%20(@%20ES%20cells);Title=GSM2611275:%20Fbxl19flfl%20UNT%20CDK8%20rep1%3B%20Mus%20musculus%3B%20ChIP-Seq;Cell%20group=Pluripotent%20stem%20cell;<br>source_name=Fbxl19flfl_UNT_CDK8;cell%20line=Fbxl19%20fl/fl;cell%20type=mouse%20embryonic%20stem%20cells;treated%20with=none%20(untreated);antibody=CDK8%20(Bethyl%20Laboratories,%20A302-500A,%20lot%20A302-500A-1);replicate=1;passage=13-20;                                                                                                                                                                                                                                                                                               \n",
       "47671 ID=SRX2793944;Name=Cdk8%20(@%20ES%20cells);Title=GSM2611279:%20Fbxl19flfl%20OHT%20CDK8%20rep1%3B%20Mus%20musculus%3B%20ChIP-Seq;Cell%20group=Pluripotent%20stem%20cell;<br>source_name=Fbxl19flfl_OHT_CDK8;cell%20line=Fbxl19%20fl/fl;cell%20type=mouse%20embryonic%20stem%20cells;treated%20with=800nM%204-hydroxytamoxifen%20for%2096%20h;antibody=CDK8%20(Bethyl%20Laboratories,%20A302-500A,%20lot%20A302-500A-1);replicate=1;passage=13-20;                                                                                                                                                                                                                                                                        \n",
       "47672 ID=SRX2793941;Name=Cdk8%20(@%20ES%20cells);Title=GSM2611276:%20Fbxl19flfl%20UNT%20CDK8%20rep2%3B%20Mus%20musculus%3B%20ChIP-Seq;Cell%20group=Pluripotent%20stem%20cell;<br>source_name=Fbxl19flfl_UNT_CDK8;cell%20line=Fbxl19%20fl/fl;cell%20type=mouse%20embryonic%20stem%20cells;treated%20with=none%20(untreated);antibody=CDK8%20(Bethyl%20Laboratories,%20A302-500A,%20lot%20A302-500A-1);replicate=2;passage=13-20;                                                                                                                                                                                                                                                                                               \n",
       "47673 ID=SRX236482;Name=Cdk8%20(@%20ES%20cells);Title=GSM1082346:%20Cdk8%20mES%20r2%20ChipSeq%3B%20Mus%20musculus%3B%20ChIP-Seq;Cell%20group=Pluripotent%20stem%20cell;<br>source_name=Embryonic%20stem%20cells;chip%20antibody=cdk8;antibody%20vendor%20and%20catalog%20number=Santa%20Cruz%20SC-1521;background%20strain=C57BL/6-129;                                                                                                                                                                                                                                                                                                                                                                                       \n",
       "47674 ID=SRX12622659;Name=Cdk8%20(@%20ES%20cells);Title=GSM5627388:%20Med1313lfll-MED14-T7%20RA%20UNT%20CDK8%20rep1%3B%20Mus%20musculus%3B%20ChIP-Seq;Cell%20group=Pluripotent%20stem%20cell;<br>source_name=Mouse%20embryonic%20stem%20cells%20treated%20with%20retinoic%20acid%20for%2048h,%20Med13/13l%20flfl%20with%20endogenously%20tagged%20Med14-T7,%20untreated%20control,%20CDK8%20ChIPseq;cell%20line=Med13%3BMed13l%20flfl%20Med14-T7;strain=Rosa26::ERT2-Cre;treatment=untreated;treatment%20time=0h;additional%20treatment=retinoic%20acid;additional%20treatment%20time=48h;replicate=1;type%20of%20chip=cross-linked;ChIP=CDK8;antibody=rabbit%20polyclonal%20anti-CDK8%20(A302-500A,%20Bethyl%20laboratories);\n",
       "47675 ID=SRX2793944;Name=Cdk8%20(@%20ES%20cells);Title=GSM2611279:%20Fbxl19flfl%20OHT%20CDK8%20rep1%3B%20Mus%20musculus%3B%20ChIP-Seq;Cell%20group=Pluripotent%20stem%20cell;<br>source_name=Fbxl19flfl_OHT_CDK8;cell%20line=Fbxl19%20fl/fl;cell%20type=mouse%20embryonic%20stem%20cells;treated%20with=800nM%204-hydroxytamoxifen%20for%2096%20h;antibody=CDK8%20(Bethyl%20Laboratories,%20A302-500A,%20lot%20A302-500A-1);replicate=1;passage=13-20;                                                                                                                                                                                                                                                                        \n",
       "47676 ID=SRX2793945;Name=Cdk8%20(@%20ES%20cells);Title=GSM2611280:%20Fbxl19flfl%20OHT%20CDK8%20rep2%3B%20Mus%20musculus%3B%20ChIP-Seq;Cell%20group=Pluripotent%20stem%20cell;<br>source_name=Fbxl19flfl_OHT_CDK8;cell%20line=Fbxl19%20fl/fl;cell%20type=mouse%20embryonic%20stem%20cells;treated%20with=800nM%204-hydroxytamoxifen%20for%2096%20h;antibody=CDK8%20(Bethyl%20Laboratories,%20A302-500A,%20lot%20A302-500A-1);replicate=2;passage=13-20;                                                                                                                                                                                                                                                                        \n",
       "47677 ID=SRX12622661;Name=Cdk8%20(@%20ES%20cells);Title=GSM5627390:%20Med1313lfl-MED14-T7%20RA%20UNT%20CDK8%20rep3%3B%20Mus%20musculus%3B%20ChIP-Seq;Cell%20group=Pluripotent%20stem%20cell;<br>source_name=Mouse%20embryonic%20stem%20cells%20treated%20with%20retinoic%20acid%20for%2048h,%20Med13/13l%20flfl%20with%20endogenously%20tagged%20Med14-T7,%20untreated%20control,%20CDK8%20ChIPseq;cell%20line=Med13%3BMed13l%20flfl%20Med14-T7;strain=Rosa26::ERT2-Cre;treatment=untreated;treatment%20time=0h;additional%20treatment=retinoic%20acid;additional%20treatment%20time=48h;replicate=3;type%20of%20chip=cross-linked;ChIP=CDK8;antibody=rabbit%20polyclonal%20anti-CDK8%20(A302-500A,%20Bethyl%20laboratories); \n",
       "47678 ID=SRX2793944;Name=Cdk8%20(@%20ES%20cells);Title=GSM2611279:%20Fbxl19flfl%20OHT%20CDK8%20rep1%3B%20Mus%20musculus%3B%20ChIP-Seq;Cell%20group=Pluripotent%20stem%20cell;<br>source_name=Fbxl19flfl_OHT_CDK8;cell%20line=Fbxl19%20fl/fl;cell%20type=mouse%20embryonic%20stem%20cells;treated%20with=800nM%204-hydroxytamoxifen%20for%2096%20h;antibody=CDK8%20(Bethyl%20Laboratories,%20A302-500A,%20lot%20A302-500A-1);replicate=1;passage=13-20;                                                                                                                                                                                                                                                                        \n",
       "47679 ID=SRX236482;Name=Cdk8%20(@%20ES%20cells);Title=GSM1082346:%20Cdk8%20mES%20r2%20ChipSeq%3B%20Mus%20musculus%3B%20ChIP-Seq;Cell%20group=Pluripotent%20stem%20cell;<br>source_name=Embryonic%20stem%20cells;chip%20antibody=cdk8;antibody%20vendor%20and%20catalog%20number=Santa%20Cruz%20SC-1521;background%20strain=C57BL/6-129;                                                                                                                                                                                                                                                                                                                                                                                       \n",
       "47680 ID=SRX236482;Name=Cdk8%20(@%20ES%20cells);Title=GSM1082346:%20Cdk8%20mES%20r2%20ChipSeq%3B%20Mus%20musculus%3B%20ChIP-Seq;Cell%20group=Pluripotent%20stem%20cell;<br>source_name=Embryonic%20stem%20cells;chip%20antibody=cdk8;antibody%20vendor%20and%20catalog%20number=Santa%20Cruz%20SC-1521;background%20strain=C57BL/6-129;                                                                                                                                                                                                                                                                                                                                                                                       \n",
       "47681 ID=SRX236482;Name=Cdk8%20(@%20ES%20cells);Title=GSM1082346:%20Cdk8%20mES%20r2%20ChipSeq%3B%20Mus%20musculus%3B%20ChIP-Seq;Cell%20group=Pluripotent%20stem%20cell;<br>source_name=Embryonic%20stem%20cells;chip%20antibody=cdk8;antibody%20vendor%20and%20catalog%20number=Santa%20Cruz%20SC-1521;background%20strain=C57BL/6-129;                                                                                                                                                                                                                                                                                                                                                                                       \n",
       "47682 ID=SRX236482;Name=Cdk8%20(@%20ES%20cells);Title=GSM1082346:%20Cdk8%20mES%20r2%20ChipSeq%3B%20Mus%20musculus%3B%20ChIP-Seq;Cell%20group=Pluripotent%20stem%20cell;<br>source_name=Embryonic%20stem%20cells;chip%20antibody=cdk8;antibody%20vendor%20and%20catalog%20number=Santa%20Cruz%20SC-1521;background%20strain=C57BL/6-129;                                                                                                                                                                                                                                                                                                                                                                                       \n",
       "47683 ID=SRX236482;Name=Cdk8%20(@%20ES%20cells);Title=GSM1082346:%20Cdk8%20mES%20r2%20ChipSeq%3B%20Mus%20musculus%3B%20ChIP-Seq;Cell%20group=Pluripotent%20stem%20cell;<br>source_name=Embryonic%20stem%20cells;chip%20antibody=cdk8;antibody%20vendor%20and%20catalog%20number=Santa%20Cruz%20SC-1521;background%20strain=C57BL/6-129;                                                                                                                                                                                                                                                                                                                                                                                       \n",
       "47684 ID=SRX236482;Name=Cdk8%20(@%20ES%20cells);Title=GSM1082346:%20Cdk8%20mES%20r2%20ChipSeq%3B%20Mus%20musculus%3B%20ChIP-Seq;Cell%20group=Pluripotent%20stem%20cell;<br>source_name=Embryonic%20stem%20cells;chip%20antibody=cdk8;antibody%20vendor%20and%20catalog%20number=Santa%20Cruz%20SC-1521;background%20strain=C57BL/6-129;                                                                                                                                                                                                                                                                                                                                                                                       \n",
       "47685 ID=SRX2793944;Name=Cdk8%20(@%20ES%20cells);Title=GSM2611279:%20Fbxl19flfl%20OHT%20CDK8%20rep1%3B%20Mus%20musculus%3B%20ChIP-Seq;Cell%20group=Pluripotent%20stem%20cell;<br>source_name=Fbxl19flfl_OHT_CDK8;cell%20line=Fbxl19%20fl/fl;cell%20type=mouse%20embryonic%20stem%20cells;treated%20with=800nM%204-hydroxytamoxifen%20for%2096%20h;antibody=CDK8%20(Bethyl%20Laboratories,%20A302-500A,%20lot%20A302-500A-1);replicate=1;passage=13-20;                                                                                                                                                                                                                                                                        \n",
       "47686 ID=SRX236482;Name=Cdk8%20(@%20ES%20cells);Title=GSM1082346:%20Cdk8%20mES%20r2%20ChipSeq%3B%20Mus%20musculus%3B%20ChIP-Seq;Cell%20group=Pluripotent%20stem%20cell;<br>source_name=Embryonic%20stem%20cells;chip%20antibody=cdk8;antibody%20vendor%20and%20catalog%20number=Santa%20Cruz%20SC-1521;background%20strain=C57BL/6-129;                                                                                                                                                                                                                                                                                                                                                                                       \n",
       "47687 ID=SRX12622661;Name=Cdk8%20(@%20ES%20cells);Title=GSM5627390:%20Med1313lfl-MED14-T7%20RA%20UNT%20CDK8%20rep3%3B%20Mus%20musculus%3B%20ChIP-Seq;Cell%20group=Pluripotent%20stem%20cell;<br>source_name=Mouse%20embryonic%20stem%20cells%20treated%20with%20retinoic%20acid%20for%2048h,%20Med13/13l%20flfl%20with%20endogenously%20tagged%20Med14-T7,%20untreated%20control,%20CDK8%20ChIPseq;cell%20line=Med13%3BMed13l%20flfl%20Med14-T7;strain=Rosa26::ERT2-Cre;treatment=untreated;treatment%20time=0h;additional%20treatment=retinoic%20acid;additional%20treatment%20time=48h;replicate=3;type%20of%20chip=cross-linked;ChIP=CDK8;antibody=rabbit%20polyclonal%20anti-CDK8%20(A302-500A,%20Bethyl%20laboratories); \n",
       "47688 ID=SRX12622659;Name=Cdk8%20(@%20ES%20cells);Title=GSM5627388:%20Med1313lfll-MED14-T7%20RA%20UNT%20CDK8%20rep1%3B%20Mus%20musculus%3B%20ChIP-Seq;Cell%20group=Pluripotent%20stem%20cell;<br>source_name=Mouse%20embryonic%20stem%20cells%20treated%20with%20retinoic%20acid%20for%2048h,%20Med13/13l%20flfl%20with%20endogenously%20tagged%20Med14-T7,%20untreated%20control,%20CDK8%20ChIPseq;cell%20line=Med13%3BMed13l%20flfl%20Med14-T7;strain=Rosa26::ERT2-Cre;treatment=untreated;treatment%20time=0h;additional%20treatment=retinoic%20acid;additional%20treatment%20time=48h;replicate=1;type%20of%20chip=cross-linked;ChIP=CDK8;antibody=rabbit%20polyclonal%20anti-CDK8%20(A302-500A,%20Bethyl%20laboratories);\n",
       "47689 ID=SRX12622660;Name=Cdk8%20(@%20ES%20cells);Title=GSM5627389:%20Med1313lfl-MED14-T7%20RA%20UNT%20CDK8%20rep2%3B%20Mus%20musculus%3B%20ChIP-Seq;Cell%20group=Pluripotent%20stem%20cell;<br>source_name=Mouse%20embryonic%20stem%20cells%20treated%20with%20retinoic%20acid%20for%2048h,%20Med13/13l%20flfl%20with%20endogenously%20tagged%20Med14-T7,%20untreated%20control,%20CDK8%20ChIPseq;cell%20line=Med13%3BMed13l%20flfl%20Med14-T7;strain=Rosa26::ERT2-Cre;treatment=untreated;treatment%20time=0h;additional%20treatment=retinoic%20acid;additional%20treatment%20time=48h;replicate=2;type%20of%20chip=cross-linked;ChIP=CDK8;antibody=rabbit%20polyclonal%20anti-CDK8%20(A302-500A,%20Bethyl%20laboratories); \n",
       "47690 ID=SRX2793940;Name=Cdk8%20(@%20ES%20cells);Title=GSM2611275:%20Fbxl19flfl%20UNT%20CDK8%20rep1%3B%20Mus%20musculus%3B%20ChIP-Seq;Cell%20group=Pluripotent%20stem%20cell;<br>source_name=Fbxl19flfl_UNT_CDK8;cell%20line=Fbxl19%20fl/fl;cell%20type=mouse%20embryonic%20stem%20cells;treated%20with=none%20(untreated);antibody=CDK8%20(Bethyl%20Laboratories,%20A302-500A,%20lot%20A302-500A-1);replicate=1;passage=13-20;                                                                                                                                                                                                                                                                                               \n",
       "      value strand. start2   end2     ⋯ geneStart geneEnd  geneLength\n",
       "1     349   .       3042840  3043263  ⋯ 3214482   3671498  457017    \n",
       "2     232   .       3042876  3043270  ⋯ 3214482   3671498  457017    \n",
       "3     339   .       3043032  3043264  ⋯ 3214482   3671498  457017    \n",
       "4     202   .       3043059  3043250  ⋯ 3214482   3671498  457017    \n",
       "5     433   .       3062847  3063078  ⋯ 3214482   3671498  457017    \n",
       "6     423   .       3062872  3063079  ⋯ 3214482   3671498  457017    \n",
       "7     180   .       3062888  3063054  ⋯ 3214482   3671498  457017    \n",
       "8     783   .       3482882  3483225  ⋯ 3214482   3671498  457017    \n",
       "9     547   .       3482887  3483193  ⋯ 3214482   3671498  457017    \n",
       "10    354   .       3482891  3483207  ⋯ 3214482   3671498  457017    \n",
       "11    348   .       3482910  3483255  ⋯ 3214482   3671498  457017    \n",
       "12    111   .       3482998  3483218  ⋯ 3214482   3671498  457017    \n",
       "13    177   .       3549421  3549830  ⋯ 3214482   3671498  457017    \n",
       "14    157   .       3549440  3549770  ⋯ 3214482   3671498  457017    \n",
       "15     87   .       3549488  3549716  ⋯ 3214482   3671498  457017    \n",
       "16    110   .       3671645  3671854  ⋯ 3214482   3671498  457017    \n",
       "17    510   .       3681535  3681831  ⋯ 3214482   3671498  457017    \n",
       "18    173   .       3681540  3681748  ⋯ 3214482   3671498  457017    \n",
       "19    281   .       3681549  3681798  ⋯ 3214482   3671498  457017    \n",
       "20    291   .       3681555  3681815  ⋯ 3214482   3671498  457017    \n",
       "21    276   .       3953652  3953887  ⋯ 3214482   3671498  457017    \n",
       "22    167   .       3953658  3953864  ⋯ 3214482   3671498  457017    \n",
       "23    138   .       3953701  3953873  ⋯ 3214482   3671498  457017    \n",
       "24    141   .       3982084  3982249  ⋯ 3214482   3671498  457017    \n",
       "25    162   .       3982086  3982283  ⋯ 3214482   3671498  457017    \n",
       "26    418   .       4150846  4151148  ⋯ 4344146   4360314   16169    \n",
       "27    219   .       4150860  4151092  ⋯ 4344146   4360314   16169    \n",
       "28    200   .       4150878  4151117  ⋯ 4344146   4360314   16169    \n",
       "29    450   .       4150881  4151158  ⋯ 4344146   4360314   16169    \n",
       "30    395   .       4214316  4214599  ⋯ 4344146   4360314   16169    \n",
       "⋮     ⋮     ⋮       ⋮        ⋮        ⋱ ⋮         ⋮        ⋮         \n",
       "47661 253   .       90777095 90777317 ⋯ 90784738  90816447 31710     \n",
       "47662 293   .       90777107 90777367 ⋯ 90784738  90816447 31710     \n",
       "47663 129   .       90777114 90777360 ⋯ 90784738  90816447 31710     \n",
       "47664 389   .       90777122 90777374 ⋯ 90784738  90816447 31710     \n",
       "47665 165   .       90783806 90784229 ⋯ 90784738  90816447 31710     \n",
       "47666  96   .       90783857 90784034 ⋯ 90784738  90816447 31710     \n",
       "47667  96   .       90783860 90784016 ⋯ 90784738  90816447 31710     \n",
       "47668 109   .       90784086 90784575 ⋯ 90784738  90816447 31710     \n",
       "47669 143   .       90784144 90784558 ⋯ 90784738  90816447 31710     \n",
       "47670 153   .       90784182 90784560 ⋯ 90784738  90816447 31710     \n",
       "47671 131   .       90784187 90784585 ⋯ 90784738  90816447 31710     \n",
       "47672 268   .       90784713 90785080 ⋯ 90784738  90816447 31710     \n",
       "47673 128   .       90784728 90785003 ⋯ 90784738  90816447 31710     \n",
       "47674 439   .       90784729 90785115 ⋯ 90784738  90816447 31710     \n",
       "47675 169   .       90784766 90785014 ⋯ 90784911  90816458 31548     \n",
       "47676 150   .       90784774 90784965 ⋯ 90784911  90816458 31548     \n",
       "47677 173   .       90784794 90785025 ⋯ 90784911  90816458 31548     \n",
       "47678 119   .       90792081 90792260 ⋯ 90790451  90816465 26015     \n",
       "47679 139   .       90796772 90796940 ⋯ 90790451  90816465 26015     \n",
       "47680 152   .       90799211 90799445 ⋯ 90790451  90816465 26015     \n",
       "47681 105   .       90800457 90800829 ⋯ 90790451  90816465 26015     \n",
       "47682 105   .       90803518 90803705 ⋯ 90790451  90816465 26015     \n",
       "47683 164   .       90805062 90805240 ⋯ 90790451  90816465 26015     \n",
       "47684 105   .       90807628 90807877 ⋯ 90790451  90816465 26015     \n",
       "47685 129   .       90808742 90808917 ⋯ 90790451  90816465 26015     \n",
       "47686 224   .       90810949 90811214 ⋯ 90790451  90816465 26015     \n",
       "47687 508   .       90819423 90819914 ⋯ 90790451  90816465 26015     \n",
       "47688 511   .       90819450 90819926 ⋯ 90790451  90816465 26015     \n",
       "47689 193   .       90819657 90819882 ⋯ 90790451  90816465 26015     \n",
       "47690 123   .       90819686 90819870 ⋯ 90790451  90816465 26015     \n",
       "      geneStrand geneId transcriptId         distanceToTSS ENSEMBL           \n",
       "1     2          497097 ENSMUST00000070533.4  628235       ENSMUSG00000051951\n",
       "2     2          497097 ENSMUST00000070533.4  628228       ENSMUSG00000051951\n",
       "3     2          497097 ENSMUST00000070533.4  628234       ENSMUSG00000051951\n",
       "4     2          497097 ENSMUST00000070533.4  628248       ENSMUSG00000051951\n",
       "5     2          497097 ENSMUST00000070533.4  608420       ENSMUSG00000051951\n",
       "6     2          497097 ENSMUST00000070533.4  608419       ENSMUSG00000051951\n",
       "7     2          497097 ENSMUST00000070533.4  608444       ENSMUSG00000051951\n",
       "8     2          497097 ENSMUST00000070533.4  188273       ENSMUSG00000051951\n",
       "9     2          497097 ENSMUST00000070533.4  188305       ENSMUSG00000051951\n",
       "10    2          497097 ENSMUST00000070533.4  188291       ENSMUSG00000051951\n",
       "11    2          497097 ENSMUST00000070533.4  188243       ENSMUSG00000051951\n",
       "12    2          497097 ENSMUST00000070533.4  188280       ENSMUSG00000051951\n",
       "13    2          497097 ENSMUST00000070533.4  121668       ENSMUSG00000051951\n",
       "14    2          497097 ENSMUST00000070533.4  121728       ENSMUSG00000051951\n",
       "15    2          497097 ENSMUST00000070533.4  121782       ENSMUSG00000051951\n",
       "16    2          497097 ENSMUST00000070533.4    -148       ENSMUSG00000051951\n",
       "17    2          497097 ENSMUST00000070533.4  -10038       ENSMUSG00000051951\n",
       "18    2          497097 ENSMUST00000070533.4  -10043       ENSMUSG00000051951\n",
       "19    2          497097 ENSMUST00000070533.4  -10052       ENSMUSG00000051951\n",
       "20    2          497097 ENSMUST00000070533.4  -10058       ENSMUSG00000051951\n",
       "21    2          497097 ENSMUST00000070533.4 -282155       ENSMUSG00000051951\n",
       "22    2          497097 ENSMUST00000070533.4 -282161       ENSMUSG00000051951\n",
       "23    2          497097 ENSMUST00000070533.4 -282204       ENSMUSG00000051951\n",
       "24    2          497097 ENSMUST00000070533.4 -310587       ENSMUSG00000051951\n",
       "25    2          497097 ENSMUST00000070533.4 -310589       ENSMUSG00000051951\n",
       "26    2          19888  ENSMUST00000027032.5  209166       ENSMUSG00000025900\n",
       "27    2          19888  ENSMUST00000027032.5  209222       ENSMUSG00000025900\n",
       "28    2          19888  ENSMUST00000027032.5  209197       ENSMUSG00000025900\n",
       "29    2          19888  ENSMUST00000027032.5  209156       ENSMUSG00000025900\n",
       "30    2          19888  ENSMUST00000027032.5  145715       ENSMUSG00000025900\n",
       "⋮     ⋮          ⋮      ⋮                    ⋮             ⋮                 \n",
       "47661 1          170942 ENSMUST00000179483.8 -7421         NA                \n",
       "47662 1          170942 ENSMUST00000179483.8 -7371         NA                \n",
       "47663 1          170942 ENSMUST00000179483.8 -7378         NA                \n",
       "47664 1          170942 ENSMUST00000179483.8 -7364         NA                \n",
       "47665 1          170942 ENSMUST00000179483.8  -509         NA                \n",
       "47666 1          170942 ENSMUST00000179483.8  -704         NA                \n",
       "47667 1          170942 ENSMUST00000179483.8  -722         NA                \n",
       "47668 1          170942 ENSMUST00000179483.8  -163         NA                \n",
       "47669 1          170942 ENSMUST00000179483.8  -180         NA                \n",
       "47670 1          170942 ENSMUST00000179483.8  -178         NA                \n",
       "47671 1          170942 ENSMUST00000179483.8  -153         NA                \n",
       "47672 1          170942 ENSMUST00000179483.8     0         NA                \n",
       "47673 1          170942 ENSMUST00000179483.8     0         NA                \n",
       "47674 1          170942 ENSMUST00000179483.8     0         NA                \n",
       "47675 1          170942 ENSMUST00000238758.1     0         NA                \n",
       "47676 1          170942 ENSMUST00000238758.1     0         NA                \n",
       "47677 1          170942 ENSMUST00000238758.1     0         NA                \n",
       "47678 1          170942 ENSMUST00000238471.1  1631         NA                \n",
       "47679 1          170942 ENSMUST00000238471.1  6322         NA                \n",
       "47680 1          170942 ENSMUST00000238471.1  8761         NA                \n",
       "47681 1          170942 ENSMUST00000238471.1 10007         NA                \n",
       "47682 1          170942 ENSMUST00000238471.1 13068         NA                \n",
       "47683 1          170942 ENSMUST00000238471.1 14612         NA                \n",
       "47684 1          170942 ENSMUST00000238471.1 17178         NA                \n",
       "47685 1          170942 ENSMUST00000238471.1 18292         NA                \n",
       "47686 1          170942 ENSMUST00000238471.1 20499         NA                \n",
       "47687 1          170942 ENSMUST00000238471.1 28973         NA                \n",
       "47688 1          170942 ENSMUST00000238471.1 29000         NA                \n",
       "47689 1          170942 ENSMUST00000238471.1 29207         NA                \n",
       "47690 1          170942 ENSMUST00000238471.1 29236         NA                \n",
       "      SYMBOL GENENAME                               \n",
       "1     Xkr4   X-linked Kx blood group related 4      \n",
       "2     Xkr4   X-linked Kx blood group related 4      \n",
       "3     Xkr4   X-linked Kx blood group related 4      \n",
       "4     Xkr4   X-linked Kx blood group related 4      \n",
       "5     Xkr4   X-linked Kx blood group related 4      \n",
       "6     Xkr4   X-linked Kx blood group related 4      \n",
       "7     Xkr4   X-linked Kx blood group related 4      \n",
       "8     Xkr4   X-linked Kx blood group related 4      \n",
       "9     Xkr4   X-linked Kx blood group related 4      \n",
       "10    Xkr4   X-linked Kx blood group related 4      \n",
       "11    Xkr4   X-linked Kx blood group related 4      \n",
       "12    Xkr4   X-linked Kx blood group related 4      \n",
       "13    Xkr4   X-linked Kx blood group related 4      \n",
       "14    Xkr4   X-linked Kx blood group related 4      \n",
       "15    Xkr4   X-linked Kx blood group related 4      \n",
       "16    Xkr4   X-linked Kx blood group related 4      \n",
       "17    Xkr4   X-linked Kx blood group related 4      \n",
       "18    Xkr4   X-linked Kx blood group related 4      \n",
       "19    Xkr4   X-linked Kx blood group related 4      \n",
       "20    Xkr4   X-linked Kx blood group related 4      \n",
       "21    Xkr4   X-linked Kx blood group related 4      \n",
       "22    Xkr4   X-linked Kx blood group related 4      \n",
       "23    Xkr4   X-linked Kx blood group related 4      \n",
       "24    Xkr4   X-linked Kx blood group related 4      \n",
       "25    Xkr4   X-linked Kx blood group related 4      \n",
       "26    Rp1    retinitis pigmentosa 1 (human)         \n",
       "27    Rp1    retinitis pigmentosa 1 (human)         \n",
       "28    Rp1    retinitis pigmentosa 1 (human)         \n",
       "29    Rp1    retinitis pigmentosa 1 (human)         \n",
       "30    Rp1    retinitis pigmentosa 1 (human)         \n",
       "⋮     ⋮      ⋮                                      \n",
       "47661 Erdr1x erythroid differentiation regulator 1 x\n",
       "47662 Erdr1x erythroid differentiation regulator 1 x\n",
       "47663 Erdr1x erythroid differentiation regulator 1 x\n",
       "47664 Erdr1x erythroid differentiation regulator 1 x\n",
       "47665 Erdr1x erythroid differentiation regulator 1 x\n",
       "47666 Erdr1x erythroid differentiation regulator 1 x\n",
       "47667 Erdr1x erythroid differentiation regulator 1 x\n",
       "47668 Erdr1x erythroid differentiation regulator 1 x\n",
       "47669 Erdr1x erythroid differentiation regulator 1 x\n",
       "47670 Erdr1x erythroid differentiation regulator 1 x\n",
       "47671 Erdr1x erythroid differentiation regulator 1 x\n",
       "47672 Erdr1x erythroid differentiation regulator 1 x\n",
       "47673 Erdr1x erythroid differentiation regulator 1 x\n",
       "47674 Erdr1x erythroid differentiation regulator 1 x\n",
       "47675 Erdr1x erythroid differentiation regulator 1 x\n",
       "47676 Erdr1x erythroid differentiation regulator 1 x\n",
       "47677 Erdr1x erythroid differentiation regulator 1 x\n",
       "47678 Erdr1x erythroid differentiation regulator 1 x\n",
       "47679 Erdr1x erythroid differentiation regulator 1 x\n",
       "47680 Erdr1x erythroid differentiation regulator 1 x\n",
       "47681 Erdr1x erythroid differentiation regulator 1 x\n",
       "47682 Erdr1x erythroid differentiation regulator 1 x\n",
       "47683 Erdr1x erythroid differentiation regulator 1 x\n",
       "47684 Erdr1x erythroid differentiation regulator 1 x\n",
       "47685 Erdr1x erythroid differentiation regulator 1 x\n",
       "47686 Erdr1x erythroid differentiation regulator 1 x\n",
       "47687 Erdr1x erythroid differentiation regulator 1 x\n",
       "47688 Erdr1x erythroid differentiation regulator 1 x\n",
       "47689 Erdr1x erythroid differentiation regulator 1 x\n",
       "47690 Erdr1x erythroid differentiation regulator 1 x"
      ]
     },
     "metadata": {},
     "output_type": "display_data"
    }
   ],
   "source": [
    "as.data.frame(peakAnno)"
   ]
  },
  {
   "cell_type": "code",
   "execution_count": 8,
   "id": "29eab530-e001-432d-b6d5-94d9189e717d",
   "metadata": {},
   "outputs": [],
   "source": [
    "peakAnno_df <- as.data.frame(peakAnno)"
   ]
  },
  {
   "cell_type": "code",
   "execution_count": 9,
   "id": "948ceed8-9122-42d3-bfbd-49b32ea2f1ea",
   "metadata": {},
   "outputs": [],
   "source": [
    "promoter_genes <- peakAnno_df[grepl(\"Promoter\", peakAnno_df$annotation), ]"
   ]
  },
  {
   "cell_type": "code",
   "execution_count": 10,
   "id": "debc81c7-476e-4b8e-b912-8f6d01a76e9f",
   "metadata": {},
   "outputs": [
    {
     "data": {
      "text/html": [
       "8092"
      ],
      "text/latex": [
       "8092"
      ],
      "text/markdown": [
       "8092"
      ],
      "text/plain": [
       "[1] 8092"
      ]
     },
     "metadata": {},
     "output_type": "display_data"
    }
   ],
   "source": [
    "length(unique(promoter_genes$ENSEMBL))"
   ]
  },
  {
   "cell_type": "code",
   "execution_count": 22,
   "id": "64c42c40-d6f9-4eb8-a496-587b02dc74ad",
   "metadata": {},
   "outputs": [],
   "source": [
    "#From RNA-seq, DEGs\n",
    "significant <- read.csv('significant_genes_DESeq_result.csv', sep=',')"
   ]
  },
  {
   "cell_type": "code",
   "execution_count": 23,
   "id": "63758286-bbb7-4d99-852d-9367e96c5fcc",
   "metadata": {},
   "outputs": [],
   "source": [
    "#From enrichr\n",
    "enrichr <- read.csv('enrichr_ENCODE_and_ChEA_Consensus_TFs_from_ChIP-X_table_for_human_sign_genes.csv', sep='\\t')\n",
    "enrichr <- enrichr[order(enrichr$P.value), ]\n",
    "enrichr <- enrichr[enrichr$P.value < 0.05, ]\n",
    "enrichr <- enrichr[enrichr$Adjusted.P.value < 0.05, ]\n",
    "\n",
    "enrichr <- enrichr %>% separate(Term, into = c(\"gene_symbol\", \"db\"), sep = \" \")\n",
    "#cat(paste(enrichr$gene_symbol, collapse = \", \"))"
   ]
  },
  {
   "cell_type": "code",
   "execution_count": 23,
   "id": "f092a0ad-03da-4de0-82b5-fdf2313b8e31",
   "metadata": {},
   "outputs": [
    {
     "data": {
      "text/html": [
       "93"
      ],
      "text/latex": [
       "93"
      ],
      "text/markdown": [
       "93"
      ],
      "text/plain": [
       "[1] 93"
      ]
     },
     "metadata": {},
     "output_type": "display_data"
    },
    {
     "data": {
      "text/html": [
       "'Suz12, Rad21, Ctcf, Cbx8, 5-mC, Rnf2, Bmi1, Neurod1, Neurog2, Epitope tags, Smc1a, Foxp1, Olig2, Smarca4, Emx2, Zbtb17, Mef2a, Ascl1, Ezh2, Nfia, Eed, Tcf3, Stag2, Gfi1, Kdm1a, Sox2, Ash2l, Tbx19, Sp1'"
      ],
      "text/latex": [
       "'Suz12, Rad21, Ctcf, Cbx8, 5-mC, Rnf2, Bmi1, Neurod1, Neurog2, Epitope tags, Smc1a, Foxp1, Olig2, Smarca4, Emx2, Zbtb17, Mef2a, Ascl1, Ezh2, Nfia, Eed, Tcf3, Stag2, Gfi1, Kdm1a, Sox2, Ash2l, Tbx19, Sp1'"
      ],
      "text/markdown": [
       "'Suz12, Rad21, Ctcf, Cbx8, 5-mC, Rnf2, Bmi1, Neurod1, Neurog2, Epitope tags, Smc1a, Foxp1, Olig2, Smarca4, Emx2, Zbtb17, Mef2a, Ascl1, Ezh2, Nfia, Eed, Tcf3, Stag2, Gfi1, Kdm1a, Sox2, Ash2l, Tbx19, Sp1'"
      ],
      "text/plain": [
       "[1] \"Suz12, Rad21, Ctcf, Cbx8, 5-mC, Rnf2, Bmi1, Neurod1, Neurog2, Epitope tags, Smc1a, Foxp1, Olig2, Smarca4, Emx2, Zbtb17, Mef2a, Ascl1, Ezh2, Nfia, Eed, Tcf3, Stag2, Gfi1, Kdm1a, Sox2, Ash2l, Tbx19, Sp1\""
      ]
     },
     "metadata": {},
     "output_type": "display_data"
    },
    {
     "data": {
      "text/html": [
       "29"
      ],
      "text/latex": [
       "29"
      ],
      "text/markdown": [
       "29"
      ],
      "text/plain": [
       "[1] 29"
      ]
     },
     "metadata": {},
     "output_type": "display_data"
    }
   ],
   "source": [
    "#From chip atlas\n",
    "atlas <- read.csv('mouse_chip_seq_by_entrez.txt', sep='\\t', header=FALSE)\n",
    "\n",
    "colnames(atlas) <- c('ID', 'Antigen_class', 'Antigen', 'Cell_class', 'Cell', \n",
    "                     'Number_of_peaks', 'Overlaps_datasetA', 'Overlaps_control',\n",
    "                     'Log_Pval', 'Log_Qval', 'Fold_enrichment')\n",
    "atlas <- atlas[order(atlas$Log_Qval), ]\n",
    "\n",
    "# atlas <- atlas %>%\n",
    "  # filter(!Antigen %in% c('SUZ12', 'CTCF', 'EZH2'))\n",
    "#remove common factors \n",
    "\n",
    "atlas <- atlas[atlas$Log_Pval < -1.30103, ]\n",
    "#remove TFs with Pval > 0.05\n",
    "\n",
    "atlas <- atlas[atlas$Log_Qval < -1.30103, ]\n",
    "#remove TFs with Qval > 0.05\n",
    "\n",
    "length(unique(atlas$Antigen))\n",
    "atlas$FE_more_than_1 <- atlas$Fold_enrichment > 1\n",
    "atlas_FE_more_than_1 <- atlas[atlas$FE_more_than_1 == TRUE, ]\n",
    "paste0(unique(atlas_FE_more_than_1$Antigen), collapse=', ')\n",
    "length(unique(atlas_FE_more_than_1$Antigen))"
   ]
  },
  {
   "cell_type": "code",
   "execution_count": 33,
   "id": "10a9de71-9e99-4bd3-9348-fcbcc477b4c5",
   "metadata": {},
   "outputs": [],
   "source": [
    "#intersection of OUR enirchR results with chip-seq results\n",
    "enrichr_chip <- intersect(tolower(enrichr$gene_symbol), tolower(promoter_genes$SYMBOL))\n",
    "\n",
    "#intersection of OUR chip-atlas results with chip-seq results\n",
    "atlas_chip <- intersect(tolower(atlas_FE_more_than_1$Antigen), tolower(promoter_genes$SYMBOL))\n",
    "\n",
    "#intersection of OUR RNA-seq DEGs with chip-seq results\n",
    "deg_chip <- intersect(significant$gene, promoter_genes$ENSEMBL)\n",
    "deg_chip <- unique(promoter_genes[promoter_genes$ENSEMBL %in% deg_chip, ]$SYMBOL)"
   ]
  },
  {
   "cell_type": "code",
   "execution_count": 24,
   "id": "0a63b94a-bc0a-4ebe-a2de-4c29a6a8ab16",
   "metadata": {},
   "outputs": [
    {
     "data": {
      "text/html": [
       "29"
      ],
      "text/latex": [
       "29"
      ],
      "text/markdown": [
       "29"
      ],
      "text/plain": [
       "[1] 29"
      ]
     },
     "metadata": {},
     "output_type": "display_data"
    }
   ],
   "source": [
    "length(unique(atlas_FE_more_than_1$Antigen))"
   ]
  },
  {
   "cell_type": "code",
   "execution_count": 36,
   "id": "6784bf11-1a68-4171-9148-7907a53f49b1",
   "metadata": {},
   "outputs": [
    {
     "data": {
      "text/html": [
       "13"
      ],
      "text/latex": [
       "13"
      ],
      "text/markdown": [
       "13"
      ],
      "text/plain": [
       "[1] 13"
      ]
     },
     "metadata": {},
     "output_type": "display_data"
    }
   ],
   "source": [
    "length(enrichr_chip)"
   ]
  },
  {
   "cell_type": "code",
   "execution_count": 37,
   "id": "061e0cca-8fe8-44fd-9773-bed892fd5fef",
   "metadata": {},
   "outputs": [
    {
     "data": {
      "text/html": [
       "21"
      ],
      "text/latex": [
       "21"
      ],
      "text/markdown": [
       "21"
      ],
      "text/plain": [
       "[1] 21"
      ]
     },
     "metadata": {},
     "output_type": "display_data"
    }
   ],
   "source": [
    "length(atlas_chip)"
   ]
  },
  {
   "cell_type": "code",
   "execution_count": 54,
   "id": "1c67835e-c495-45a6-b9bf-601e697839be",
   "metadata": {},
   "outputs": [
    {
     "data": {
      "text/html": [
       "98"
      ],
      "text/latex": [
       "98"
      ],
      "text/markdown": [
       "98"
      ],
      "text/plain": [
       "[1] 98"
      ]
     },
     "metadata": {},
     "output_type": "display_data"
    }
   ],
   "source": [
    "length(deg_chip)"
   ]
  },
  {
   "cell_type": "code",
   "execution_count": 55,
   "id": "f207c36f-8c8d-4c0b-8406-417a4746a32c",
   "metadata": {},
   "outputs": [
    {
     "data": {
      "text/html": [
       "<style>\n",
       ".list-inline {list-style: none; margin:0; padding: 0}\n",
       ".list-inline>li {display: inline-block}\n",
       ".list-inline>li:not(:last-child)::after {content: \"\\00b7\"; padding: 0 .5ex}\n",
       "</style>\n",
       "<ol class=list-inline><li>'Btg2'</li><li>'Utrn'</li><li>'Plagl1'</li><li>'Ccn2'</li><li>'Ptprk'</li><li>'Rhbdf1'</li><li>'Ebf1'</li><li>'Hlf'</li><li>'Nxph3'</li><li>'Ngfr'</li><li>'C1ql1'</li><li>'Ace'</li><li>'H3f3b'</li><li>'Trim47'</li><li>'Id2'</li><li>'Sstr1'</li><li>'Sptb'</li><li>'Inf2'</li><li>'H1f2'</li><li>'Pxdc1'</li><li>'Gas1'</li><li>'Enc1'</li><li>'Dhrs1'</li><li>'Pnoc'</li><li>'Rgcc'</li><li>'Lmo7'</li><li>'Ednrb'</li><li>'Zhx2'</li><li>'Myc'</li><li>'Ndrg1'</li><li>'H1f0'</li><li>'Celsr1'</li><li>'Pde1b'</li><li>'Nectin3'</li><li>'Pla2g7'</li><li>'Efna5'</li><li>'Zfp36l2'</li><li>'Svil'</li><li>'Mkx'</li><li>'Egr1'</li><li>'Pmaip1'</li><li>'Rasgrp2'</li><li>'Klf9'</li><li>'Tjp2'</li><li>'Kank1'</li><li>'Ppp1r3c'</li><li>'Col5a1'</li><li>'Ass1'</li><li>'Nr4a2'</li><li>'Frzb'</li><li>'Fjx1'</li><li>'Sema6d'</li><li>'Pdyn'</li><li>'Cst3'</li><li>'Nnat'</li><li>'Slc12a5'</li><li>'Frem2'</li><li>'Pdgfc'</li><li>'Ankrd35'</li><li>'Notch2'</li><li>'Gstm1'</li><li>'Arhgap29'</li><li>'Npnt'</li><li>'Bmpr1b'</li><li>'Ccn1'</li><li>'Adgrl2'</li><li>'Slc44a1'</li><li>'Hpca'</li><li>'Id3'</li><li>'Sema3e'</li><li>'Sema3c'</li><li>'Arap2'</li><li>'Ksr2'</li><li>'Tmem132b'</li><li>'Mmp17'</li><li>'Lfng'</li><li>'Gsx1'</li><li>'Peg10'</li><li>'Pdk4'</li><li>'Pde3a'</li><li>'Dll3'</li><li>'Mfge8'</li><li>'Mir9-3hg'</li><li>'Rhcg'</li><li>'Rassf10'</li><li>'Tgfb1i1'</li><li>'Fgfr2'</li><li>'Kndc1'</li><li>'Fat1'</li><li>'Npy1r'</li><li>'Cdh8'</li><li>'Nqo1'</li><li>'Calb2'</li><li>'Necab2'</li><li>'Robo3'</li><li>'Tent5a'</li><li>'Rasgrf1'</li><li>'Slc7a3'</li></ol>\n"
      ],
      "text/latex": [
       "\\begin{enumerate*}\n",
       "\\item 'Btg2'\n",
       "\\item 'Utrn'\n",
       "\\item 'Plagl1'\n",
       "\\item 'Ccn2'\n",
       "\\item 'Ptprk'\n",
       "\\item 'Rhbdf1'\n",
       "\\item 'Ebf1'\n",
       "\\item 'Hlf'\n",
       "\\item 'Nxph3'\n",
       "\\item 'Ngfr'\n",
       "\\item 'C1ql1'\n",
       "\\item 'Ace'\n",
       "\\item 'H3f3b'\n",
       "\\item 'Trim47'\n",
       "\\item 'Id2'\n",
       "\\item 'Sstr1'\n",
       "\\item 'Sptb'\n",
       "\\item 'Inf2'\n",
       "\\item 'H1f2'\n",
       "\\item 'Pxdc1'\n",
       "\\item 'Gas1'\n",
       "\\item 'Enc1'\n",
       "\\item 'Dhrs1'\n",
       "\\item 'Pnoc'\n",
       "\\item 'Rgcc'\n",
       "\\item 'Lmo7'\n",
       "\\item 'Ednrb'\n",
       "\\item 'Zhx2'\n",
       "\\item 'Myc'\n",
       "\\item 'Ndrg1'\n",
       "\\item 'H1f0'\n",
       "\\item 'Celsr1'\n",
       "\\item 'Pde1b'\n",
       "\\item 'Nectin3'\n",
       "\\item 'Pla2g7'\n",
       "\\item 'Efna5'\n",
       "\\item 'Zfp36l2'\n",
       "\\item 'Svil'\n",
       "\\item 'Mkx'\n",
       "\\item 'Egr1'\n",
       "\\item 'Pmaip1'\n",
       "\\item 'Rasgrp2'\n",
       "\\item 'Klf9'\n",
       "\\item 'Tjp2'\n",
       "\\item 'Kank1'\n",
       "\\item 'Ppp1r3c'\n",
       "\\item 'Col5a1'\n",
       "\\item 'Ass1'\n",
       "\\item 'Nr4a2'\n",
       "\\item 'Frzb'\n",
       "\\item 'Fjx1'\n",
       "\\item 'Sema6d'\n",
       "\\item 'Pdyn'\n",
       "\\item 'Cst3'\n",
       "\\item 'Nnat'\n",
       "\\item 'Slc12a5'\n",
       "\\item 'Frem2'\n",
       "\\item 'Pdgfc'\n",
       "\\item 'Ankrd35'\n",
       "\\item 'Notch2'\n",
       "\\item 'Gstm1'\n",
       "\\item 'Arhgap29'\n",
       "\\item 'Npnt'\n",
       "\\item 'Bmpr1b'\n",
       "\\item 'Ccn1'\n",
       "\\item 'Adgrl2'\n",
       "\\item 'Slc44a1'\n",
       "\\item 'Hpca'\n",
       "\\item 'Id3'\n",
       "\\item 'Sema3e'\n",
       "\\item 'Sema3c'\n",
       "\\item 'Arap2'\n",
       "\\item 'Ksr2'\n",
       "\\item 'Tmem132b'\n",
       "\\item 'Mmp17'\n",
       "\\item 'Lfng'\n",
       "\\item 'Gsx1'\n",
       "\\item 'Peg10'\n",
       "\\item 'Pdk4'\n",
       "\\item 'Pde3a'\n",
       "\\item 'Dll3'\n",
       "\\item 'Mfge8'\n",
       "\\item 'Mir9-3hg'\n",
       "\\item 'Rhcg'\n",
       "\\item 'Rassf10'\n",
       "\\item 'Tgfb1i1'\n",
       "\\item 'Fgfr2'\n",
       "\\item 'Kndc1'\n",
       "\\item 'Fat1'\n",
       "\\item 'Npy1r'\n",
       "\\item 'Cdh8'\n",
       "\\item 'Nqo1'\n",
       "\\item 'Calb2'\n",
       "\\item 'Necab2'\n",
       "\\item 'Robo3'\n",
       "\\item 'Tent5a'\n",
       "\\item 'Rasgrf1'\n",
       "\\item 'Slc7a3'\n",
       "\\end{enumerate*}\n"
      ],
      "text/markdown": [
       "1. 'Btg2'\n",
       "2. 'Utrn'\n",
       "3. 'Plagl1'\n",
       "4. 'Ccn2'\n",
       "5. 'Ptprk'\n",
       "6. 'Rhbdf1'\n",
       "7. 'Ebf1'\n",
       "8. 'Hlf'\n",
       "9. 'Nxph3'\n",
       "10. 'Ngfr'\n",
       "11. 'C1ql1'\n",
       "12. 'Ace'\n",
       "13. 'H3f3b'\n",
       "14. 'Trim47'\n",
       "15. 'Id2'\n",
       "16. 'Sstr1'\n",
       "17. 'Sptb'\n",
       "18. 'Inf2'\n",
       "19. 'H1f2'\n",
       "20. 'Pxdc1'\n",
       "21. 'Gas1'\n",
       "22. 'Enc1'\n",
       "23. 'Dhrs1'\n",
       "24. 'Pnoc'\n",
       "25. 'Rgcc'\n",
       "26. 'Lmo7'\n",
       "27. 'Ednrb'\n",
       "28. 'Zhx2'\n",
       "29. 'Myc'\n",
       "30. 'Ndrg1'\n",
       "31. 'H1f0'\n",
       "32. 'Celsr1'\n",
       "33. 'Pde1b'\n",
       "34. 'Nectin3'\n",
       "35. 'Pla2g7'\n",
       "36. 'Efna5'\n",
       "37. 'Zfp36l2'\n",
       "38. 'Svil'\n",
       "39. 'Mkx'\n",
       "40. 'Egr1'\n",
       "41. 'Pmaip1'\n",
       "42. 'Rasgrp2'\n",
       "43. 'Klf9'\n",
       "44. 'Tjp2'\n",
       "45. 'Kank1'\n",
       "46. 'Ppp1r3c'\n",
       "47. 'Col5a1'\n",
       "48. 'Ass1'\n",
       "49. 'Nr4a2'\n",
       "50. 'Frzb'\n",
       "51. 'Fjx1'\n",
       "52. 'Sema6d'\n",
       "53. 'Pdyn'\n",
       "54. 'Cst3'\n",
       "55. 'Nnat'\n",
       "56. 'Slc12a5'\n",
       "57. 'Frem2'\n",
       "58. 'Pdgfc'\n",
       "59. 'Ankrd35'\n",
       "60. 'Notch2'\n",
       "61. 'Gstm1'\n",
       "62. 'Arhgap29'\n",
       "63. 'Npnt'\n",
       "64. 'Bmpr1b'\n",
       "65. 'Ccn1'\n",
       "66. 'Adgrl2'\n",
       "67. 'Slc44a1'\n",
       "68. 'Hpca'\n",
       "69. 'Id3'\n",
       "70. 'Sema3e'\n",
       "71. 'Sema3c'\n",
       "72. 'Arap2'\n",
       "73. 'Ksr2'\n",
       "74. 'Tmem132b'\n",
       "75. 'Mmp17'\n",
       "76. 'Lfng'\n",
       "77. 'Gsx1'\n",
       "78. 'Peg10'\n",
       "79. 'Pdk4'\n",
       "80. 'Pde3a'\n",
       "81. 'Dll3'\n",
       "82. 'Mfge8'\n",
       "83. 'Mir9-3hg'\n",
       "84. 'Rhcg'\n",
       "85. 'Rassf10'\n",
       "86. 'Tgfb1i1'\n",
       "87. 'Fgfr2'\n",
       "88. 'Kndc1'\n",
       "89. 'Fat1'\n",
       "90. 'Npy1r'\n",
       "91. 'Cdh8'\n",
       "92. 'Nqo1'\n",
       "93. 'Calb2'\n",
       "94. 'Necab2'\n",
       "95. 'Robo3'\n",
       "96. 'Tent5a'\n",
       "97. 'Rasgrf1'\n",
       "98. 'Slc7a3'\n",
       "\n",
       "\n"
      ],
      "text/plain": [
       " [1] \"Btg2\"     \"Utrn\"     \"Plagl1\"   \"Ccn2\"     \"Ptprk\"    \"Rhbdf1\"  \n",
       " [7] \"Ebf1\"     \"Hlf\"      \"Nxph3\"    \"Ngfr\"     \"C1ql1\"    \"Ace\"     \n",
       "[13] \"H3f3b\"    \"Trim47\"   \"Id2\"      \"Sstr1\"    \"Sptb\"     \"Inf2\"    \n",
       "[19] \"H1f2\"     \"Pxdc1\"    \"Gas1\"     \"Enc1\"     \"Dhrs1\"    \"Pnoc\"    \n",
       "[25] \"Rgcc\"     \"Lmo7\"     \"Ednrb\"    \"Zhx2\"     \"Myc\"      \"Ndrg1\"   \n",
       "[31] \"H1f0\"     \"Celsr1\"   \"Pde1b\"    \"Nectin3\"  \"Pla2g7\"   \"Efna5\"   \n",
       "[37] \"Zfp36l2\"  \"Svil\"     \"Mkx\"      \"Egr1\"     \"Pmaip1\"   \"Rasgrp2\" \n",
       "[43] \"Klf9\"     \"Tjp2\"     \"Kank1\"    \"Ppp1r3c\"  \"Col5a1\"   \"Ass1\"    \n",
       "[49] \"Nr4a2\"    \"Frzb\"     \"Fjx1\"     \"Sema6d\"   \"Pdyn\"     \"Cst3\"    \n",
       "[55] \"Nnat\"     \"Slc12a5\"  \"Frem2\"    \"Pdgfc\"    \"Ankrd35\"  \"Notch2\"  \n",
       "[61] \"Gstm1\"    \"Arhgap29\" \"Npnt\"     \"Bmpr1b\"   \"Ccn1\"     \"Adgrl2\"  \n",
       "[67] \"Slc44a1\"  \"Hpca\"     \"Id3\"      \"Sema3e\"   \"Sema3c\"   \"Arap2\"   \n",
       "[73] \"Ksr2\"     \"Tmem132b\" \"Mmp17\"    \"Lfng\"     \"Gsx1\"     \"Peg10\"   \n",
       "[79] \"Pdk4\"     \"Pde3a\"    \"Dll3\"     \"Mfge8\"    \"Mir9-3hg\" \"Rhcg\"    \n",
       "[85] \"Rassf10\"  \"Tgfb1i1\"  \"Fgfr2\"    \"Kndc1\"    \"Fat1\"     \"Npy1r\"   \n",
       "[91] \"Cdh8\"     \"Nqo1\"     \"Calb2\"    \"Necab2\"   \"Robo3\"    \"Tent5a\"  \n",
       "[97] \"Rasgrf1\"  \"Slc7a3\"  "
      ]
     },
     "metadata": {},
     "output_type": "display_data"
    }
   ],
   "source": [
    "deg_chip"
   ]
  },
  {
   "cell_type": "code",
   "execution_count": 7,
   "id": "f8901d5a-c90a-420f-8f98-9800a16a1bd2",
   "metadata": {},
   "outputs": [],
   "source": [
    "target <- read.csv('Cdk8_target_genes_chip_atlas.tsv', sep='\\t')"
   ]
  },
  {
   "cell_type": "code",
   "execution_count": 13,
   "id": "cfaae546-65ba-472e-88ac-1588f66353ae",
   "metadata": {},
   "outputs": [],
   "source": [
    "deg_target <- intersect(significant$SYMBOL, target$Target_genes)"
   ]
  },
  {
   "cell_type": "code",
   "execution_count": 34,
   "id": "9bfa5cbf-7bc9-4cae-8954-1a3df7fee54f",
   "metadata": {},
   "outputs": [
    {
     "data": {
      "text/html": [
       "<style>\n",
       ".list-inline {list-style: none; margin:0; padding: 0}\n",
       ".list-inline>li {display: inline-block}\n",
       ".list-inline>li:not(:last-child)::after {content: \"\\00b7\"; padding: 0 .5ex}\n",
       "</style>\n",
       "<ol class=list-inline><li>'Btg2'</li><li>'Plagl1'</li><li>'Ccn2'</li><li>'Ptprk'</li><li>'Rhbdf1'</li><li>'Ebf1'</li><li>'Hlf'</li><li>'Nxph3'</li><li>'C1ql1'</li><li>'Ace'</li><li>'H3f3b'</li><li>'Sptb'</li><li>'Inf2'</li><li>'H1f2'</li><li>'Pxdc1'</li><li>'Gas1'</li><li>'Enc1'</li><li>'Dhrs1'</li><li>'Rgcc'</li><li>'Lmo7'</li><li>'Ednrb'</li><li>'Zhx2'</li><li>'Myc'</li><li>'Ndrg1'</li><li>'H1f0'</li><li>'Celsr1'</li><li>'Pde1b'</li><li>'Zfp36l2'</li><li>'Mkx'</li><li>'Egr1'</li><li>'Rasgrp2'</li><li>'Klf9'</li><li>'Tjp2'</li><li>'Kank1'</li><li>'Ppp1r3c'</li><li>'Col5a1'</li><li>'Ass1'</li><li>'Frzb'</li><li>'Fjx1'</li><li>'Cst3'</li><li>'Nnat'</li><li>'Slc12a5'</li><li>'Pdgfc'</li><li>'Notch2'</li><li>'Gstm1'</li><li>'Npnt'</li><li>'Bmpr1b'</li><li>'Slc44a1'</li><li>'Hpca'</li><li>'Sema3e'</li><li>'Sema3c'</li><li>'Arap2'</li><li>'Ksr2'</li><li>'Tmem132b'</li><li>'Mmp17'</li><li>'Gsx1'</li><li>'Peg10'</li><li>'Pdk4'</li><li>'Pde3a'</li><li>'Dll3'</li><li>'Rassf10'</li><li>'Tgfb1i1'</li><li>'Npy1r'</li><li>'Nqo1'</li><li>'Calb2'</li><li>'Necab2'</li><li>'Tent5a'</li><li>'Rasgrf1'</li><li>'Slc7a3'</li></ol>\n"
      ],
      "text/latex": [
       "\\begin{enumerate*}\n",
       "\\item 'Btg2'\n",
       "\\item 'Plagl1'\n",
       "\\item 'Ccn2'\n",
       "\\item 'Ptprk'\n",
       "\\item 'Rhbdf1'\n",
       "\\item 'Ebf1'\n",
       "\\item 'Hlf'\n",
       "\\item 'Nxph3'\n",
       "\\item 'C1ql1'\n",
       "\\item 'Ace'\n",
       "\\item 'H3f3b'\n",
       "\\item 'Sptb'\n",
       "\\item 'Inf2'\n",
       "\\item 'H1f2'\n",
       "\\item 'Pxdc1'\n",
       "\\item 'Gas1'\n",
       "\\item 'Enc1'\n",
       "\\item 'Dhrs1'\n",
       "\\item 'Rgcc'\n",
       "\\item 'Lmo7'\n",
       "\\item 'Ednrb'\n",
       "\\item 'Zhx2'\n",
       "\\item 'Myc'\n",
       "\\item 'Ndrg1'\n",
       "\\item 'H1f0'\n",
       "\\item 'Celsr1'\n",
       "\\item 'Pde1b'\n",
       "\\item 'Zfp36l2'\n",
       "\\item 'Mkx'\n",
       "\\item 'Egr1'\n",
       "\\item 'Rasgrp2'\n",
       "\\item 'Klf9'\n",
       "\\item 'Tjp2'\n",
       "\\item 'Kank1'\n",
       "\\item 'Ppp1r3c'\n",
       "\\item 'Col5a1'\n",
       "\\item 'Ass1'\n",
       "\\item 'Frzb'\n",
       "\\item 'Fjx1'\n",
       "\\item 'Cst3'\n",
       "\\item 'Nnat'\n",
       "\\item 'Slc12a5'\n",
       "\\item 'Pdgfc'\n",
       "\\item 'Notch2'\n",
       "\\item 'Gstm1'\n",
       "\\item 'Npnt'\n",
       "\\item 'Bmpr1b'\n",
       "\\item 'Slc44a1'\n",
       "\\item 'Hpca'\n",
       "\\item 'Sema3e'\n",
       "\\item 'Sema3c'\n",
       "\\item 'Arap2'\n",
       "\\item 'Ksr2'\n",
       "\\item 'Tmem132b'\n",
       "\\item 'Mmp17'\n",
       "\\item 'Gsx1'\n",
       "\\item 'Peg10'\n",
       "\\item 'Pdk4'\n",
       "\\item 'Pde3a'\n",
       "\\item 'Dll3'\n",
       "\\item 'Rassf10'\n",
       "\\item 'Tgfb1i1'\n",
       "\\item 'Npy1r'\n",
       "\\item 'Nqo1'\n",
       "\\item 'Calb2'\n",
       "\\item 'Necab2'\n",
       "\\item 'Tent5a'\n",
       "\\item 'Rasgrf1'\n",
       "\\item 'Slc7a3'\n",
       "\\end{enumerate*}\n"
      ],
      "text/markdown": [
       "1. 'Btg2'\n",
       "2. 'Plagl1'\n",
       "3. 'Ccn2'\n",
       "4. 'Ptprk'\n",
       "5. 'Rhbdf1'\n",
       "6. 'Ebf1'\n",
       "7. 'Hlf'\n",
       "8. 'Nxph3'\n",
       "9. 'C1ql1'\n",
       "10. 'Ace'\n",
       "11. 'H3f3b'\n",
       "12. 'Sptb'\n",
       "13. 'Inf2'\n",
       "14. 'H1f2'\n",
       "15. 'Pxdc1'\n",
       "16. 'Gas1'\n",
       "17. 'Enc1'\n",
       "18. 'Dhrs1'\n",
       "19. 'Rgcc'\n",
       "20. 'Lmo7'\n",
       "21. 'Ednrb'\n",
       "22. 'Zhx2'\n",
       "23. 'Myc'\n",
       "24. 'Ndrg1'\n",
       "25. 'H1f0'\n",
       "26. 'Celsr1'\n",
       "27. 'Pde1b'\n",
       "28. 'Zfp36l2'\n",
       "29. 'Mkx'\n",
       "30. 'Egr1'\n",
       "31. 'Rasgrp2'\n",
       "32. 'Klf9'\n",
       "33. 'Tjp2'\n",
       "34. 'Kank1'\n",
       "35. 'Ppp1r3c'\n",
       "36. 'Col5a1'\n",
       "37. 'Ass1'\n",
       "38. 'Frzb'\n",
       "39. 'Fjx1'\n",
       "40. 'Cst3'\n",
       "41. 'Nnat'\n",
       "42. 'Slc12a5'\n",
       "43. 'Pdgfc'\n",
       "44. 'Notch2'\n",
       "45. 'Gstm1'\n",
       "46. 'Npnt'\n",
       "47. 'Bmpr1b'\n",
       "48. 'Slc44a1'\n",
       "49. 'Hpca'\n",
       "50. 'Sema3e'\n",
       "51. 'Sema3c'\n",
       "52. 'Arap2'\n",
       "53. 'Ksr2'\n",
       "54. 'Tmem132b'\n",
       "55. 'Mmp17'\n",
       "56. 'Gsx1'\n",
       "57. 'Peg10'\n",
       "58. 'Pdk4'\n",
       "59. 'Pde3a'\n",
       "60. 'Dll3'\n",
       "61. 'Rassf10'\n",
       "62. 'Tgfb1i1'\n",
       "63. 'Npy1r'\n",
       "64. 'Nqo1'\n",
       "65. 'Calb2'\n",
       "66. 'Necab2'\n",
       "67. 'Tent5a'\n",
       "68. 'Rasgrf1'\n",
       "69. 'Slc7a3'\n",
       "\n",
       "\n"
      ],
      "text/plain": [
       " [1] \"Btg2\"     \"Plagl1\"   \"Ccn2\"     \"Ptprk\"    \"Rhbdf1\"   \"Ebf1\"    \n",
       " [7] \"Hlf\"      \"Nxph3\"    \"C1ql1\"    \"Ace\"      \"H3f3b\"    \"Sptb\"    \n",
       "[13] \"Inf2\"     \"H1f2\"     \"Pxdc1\"    \"Gas1\"     \"Enc1\"     \"Dhrs1\"   \n",
       "[19] \"Rgcc\"     \"Lmo7\"     \"Ednrb\"    \"Zhx2\"     \"Myc\"      \"Ndrg1\"   \n",
       "[25] \"H1f0\"     \"Celsr1\"   \"Pde1b\"    \"Zfp36l2\"  \"Mkx\"      \"Egr1\"    \n",
       "[31] \"Rasgrp2\"  \"Klf9\"     \"Tjp2\"     \"Kank1\"    \"Ppp1r3c\"  \"Col5a1\"  \n",
       "[37] \"Ass1\"     \"Frzb\"     \"Fjx1\"     \"Cst3\"     \"Nnat\"     \"Slc12a5\" \n",
       "[43] \"Pdgfc\"    \"Notch2\"   \"Gstm1\"    \"Npnt\"     \"Bmpr1b\"   \"Slc44a1\" \n",
       "[49] \"Hpca\"     \"Sema3e\"   \"Sema3c\"   \"Arap2\"    \"Ksr2\"     \"Tmem132b\"\n",
       "[55] \"Mmp17\"    \"Gsx1\"     \"Peg10\"    \"Pdk4\"     \"Pde3a\"    \"Dll3\"    \n",
       "[61] \"Rassf10\"  \"Tgfb1i1\"  \"Npy1r\"    \"Nqo1\"     \"Calb2\"    \"Necab2\"  \n",
       "[67] \"Tent5a\"   \"Rasgrf1\"  \"Slc7a3\"  "
      ]
     },
     "metadata": {},
     "output_type": "display_data"
    }
   ],
   "source": [
    "intersect(deg_chip, deg_target)"
   ]
  },
  {
   "cell_type": "code",
   "execution_count": 36,
   "id": "85a2fcf5-0801-45ac-b22e-c08ccf8f7a38",
   "metadata": {},
   "outputs": [
    {
     "data": {
      "text/html": [
       "98"
      ],
      "text/latex": [
       "98"
      ],
      "text/markdown": [
       "98"
      ],
      "text/plain": [
       "[1] 98"
      ]
     },
     "metadata": {},
     "output_type": "display_data"
    },
    {
     "data": {
      "text/html": [
       "71"
      ],
      "text/latex": [
       "71"
      ],
      "text/markdown": [
       "71"
      ],
      "text/plain": [
       "[1] 71"
      ]
     },
     "metadata": {},
     "output_type": "display_data"
    },
    {
     "data": {
      "text/html": [
       "69"
      ],
      "text/latex": [
       "69"
      ],
      "text/markdown": [
       "69"
      ],
      "text/plain": [
       "[1] 69"
      ]
     },
     "metadata": {},
     "output_type": "display_data"
    }
   ],
   "source": [
    "length(deg_chip)\n",
    "length(deg_target)\n",
    "length(intersect(deg_chip, deg_target))"
   ]
  },
  {
   "cell_type": "code",
   "execution_count": 11,
   "id": "87d93092-e19e-42a2-bce2-5bc1a859a847",
   "metadata": {},
   "outputs": [],
   "source": [
    "write.csv(promoter_genes, \"cdk8_controlled_genes_chip-atlas-target.csv\")"
   ]
  },
  {
   "cell_type": "markdown",
   "id": "d035c3c4-ac45-44c7-ba9e-df76ebd5000c",
   "metadata": {},
   "source": [
    "## Intersection of chip-atlas/seq results with celloracle results"
   ]
  },
  {
   "cell_type": "code",
   "execution_count": 2,
   "id": "f9356572-b473-46f8-bfcf-ada7ac49863d",
   "metadata": {},
   "outputs": [],
   "source": [
    "#celloracle = c('Ahr', 'Atf3', 'Creb3l2', 'Csdc2', 'Dbp', 'Fli1', 'Fos', 'Fosl2', 'Hes1', 'Hmg20b', 'A430033K04Rik', 'Atf3', 'E2f3', 'Egr4', 'Elk1', 'Foxo6', 'Hoxc4', 'Jun', 'Max', 'Mycn', 'A430033K04Rik', 'Ahr', 'Creb3l1', 'Dmrta1', 'Gata6', 'Heyl', 'Hivep2', 'Hoxc6', 'Ikzf1', 'Ikzf3', 'Creb3l2', 'Fos', 'Gli1', 'Hoxc8', 'Id1', 'Irf9', 'Npas2', 'Nr0b2', 'Nr1h5', 'Nr5a1', 'Aff2', 'Ahr', 'Arx', 'Atf3', 'Atf5', 'Bnc2', 'Cebpa', 'Cebpb', 'Creb3l1', 'Creb5', '2610008E11Rik', '2700081O15Rik', '4930522L14Rik', '5430403G16Rik', 'AW146154', 'Aff1', 'Aff2', 'Ar', 'Arid1b', 'Arid4a', '5430403G16Rik', 'A430033K04Rik', 'Aff1', 'Ar', 'Arid1b', 'Arid4a', 'Arid5b', 'Arnt2', 'Bach1', 'Bnc2', 'Ahr', 'Atf3', 'Fosl2', 'Gli1', 'Heyl', 'Hopx', 'Hoxc4', 'Hoxc6', 'Irf9', 'Mlxipl')\n",
    "#wrong important TFs according to celloracle\n",
    "\n",
    "celloracle = c('Rhox13', 'Hoxc4', 'Zfp459', 'Scrt1', 'Zfp579', 'Usf1', 'Ahr', 'Nfe2l2', 'Klf6', 'Fos', 'Nr1h5', 'Scrt1', 'Rhox13', 'Nr1d2', 'A430033K04Rik', 'Max', 'Egr4', 'Elk1', 'Mycn', 'Hoxc4', 'Hoxc6', 'Ikzf1', 'Gata6', 'Zfp146', 'Creb3l1', 'Ikzf3', 'Heyl', 'Dmrta1', 'Rorc', 'Vdr', 'Hoxc8', 'Fos', 'Nr1h5', 'Zfp9', 'Zfp738', 'Npas2', 'Zfp959', 'Zfp300', 'Nr0b2', 'Gli1', 'Nr1h5', 'Osr2', 'Zbtb8b', 'Gli1', 'Arx', 'Lhx9', 'Tfam', 'Rnf138', 'Zfp459', 'Osr1', 'Dmrt1', 'Prox1', 'Mafk', 'Zfp583', 'Bcl11b', 'Hoxc8', 'Pax2', 'Tcf7l2', 'Hoxb3', 'Zfp37', 'Hoxc9', 'Cebpa', 'A430033K04Rik', 'Foxo3', 'Hivep3', 'Thap3', 'Plagl1', 'Zmiz1', 'Tfam', 'Tox', 'Gli1', 'Rhox13', 'Mlxipl', 'Zfp9', 'Zfp952', 'Nr5a1', 'Heyl', 'Atf3', 'Peg3', 'Nr2f6')\n",
    "\n",
    "#this list is found in celloracle.ipynb\n",
    "#logic: these TFs have the maximal difference with mean"
   ]
  },
  {
   "cell_type": "code",
   "execution_count": 8,
   "id": "99ea78e3-6b26-48aa-be2e-8e2101d466b9",
   "metadata": {},
   "outputs": [],
   "source": [
    "promoter_genes = read.csv(\"cdk8_controlled_genes_chip-atlas-target.csv\")\n",
    "#controlled by cdk8 promoter genes ~ TFs according to chip-atlas target function "
   ]
  },
  {
   "cell_type": "code",
   "execution_count": 13,
   "id": "07425d44-5718-4769-9d7f-cb00388829fa",
   "metadata": {
    "scrolled": true
   },
   "outputs": [
    {
     "name": "stdout",
     "output_type": "stream",
     "text": [
      "Hoxc4\n",
      "Scrt1\n",
      "Usf1\n",
      "Nfe2l2\n",
      "Klf6\n",
      "Fos\n",
      "Nr1d2\n",
      "Max\n",
      "Mycn\n",
      "Ikzf1\n",
      "Zfp146\n",
      "Zfp738\n",
      "Zfp959\n",
      "Osr2\n",
      "Lhx9\n",
      "Tfam\n",
      "Rnf138\n",
      "Mafk\n",
      "Zfp583\n",
      "Pax2\n",
      "Tcf7l2\n",
      "Hoxb3\n",
      "Zfp37\n",
      "Hoxc9\n",
      "Hivep3\n",
      "Plagl1\n",
      "Zmiz1\n",
      "Peg3\n",
      "Nr2f6"
     ]
    }
   ],
   "source": [
    "cat(paste0(intersect(celloracle, promoter_genes$SYMBOL), collapse = '\\n'))\n",
    "\n",
    "#изменять регистр необязательно: я проверила"
   ]
  },
  {
   "cell_type": "code",
   "execution_count": 7,
   "id": "72bc06ed-acff-48e7-8b5c-5d1cf95384a1",
   "metadata": {},
   "outputs": [
    {
     "data": {
      "text/html": [],
      "text/latex": [],
      "text/markdown": [],
      "text/plain": [
       "character(0)"
      ]
     },
     "metadata": {},
     "output_type": "display_data"
    }
   ],
   "source": [
    "intersect(tolower(atlas_FE_more_than_1$Antigen), tolower(celloracle))\n",
    "#empty:\n",
    "#meaning potential TFs from chip-atlas are not from crucial TF list where we took only heads of lists\n",
    "#let's try use more"
   ]
  },
  {
   "cell_type": "code",
   "execution_count": 3,
   "id": "f0f37c57-147d-444f-8d56-ea7c7dfeff75",
   "metadata": {},
   "outputs": [],
   "source": [
    "celloracle_all <- c('Ahr', 'Atf3', 'Creb3l2', 'Csdc2', 'Dbp', 'Fli1', 'Fos', 'Fosl2', 'Hes1', 'Hmg20b', 'Hoxc4', 'Ikzf3', 'Jun', 'Klf6', 'Litaf', 'Nfe2l2', 'Nfkb1', 'Rhox13', 'Rnf138', 'Sall2', 'Scrt1', 'Scx', 'Sox12', 'Sox4', 'Sox8', 'Stat2', 'Tshz3', 'Usf1', 'Zfp112', 'Zfp2', 'Zfp459', 'Zfp579', 'Zfp606', 'Zfp760', 'Zfp827', 'Zfp959', 'A430033K04Rik', 'Atf3', 'E2f3', 'Egr4', 'Elk1', 'Foxo6', 'Hoxc4', 'Jun', 'Max', 'Mycn', 'Nr1d2', 'Nr1h5', 'Rhox13', 'Scrt1', 'Srebf1', 'Stat2', 'Zfp182', 'Zfp37', 'Zfp408', 'Zfp521', 'Zfp605', 'Zfp820', 'A430033K04Rik', 'Ahr', 'Creb3l1', 'Dmrta1', 'Gata6', 'Heyl', 'Hivep2', 'Hoxc6', 'Ikzf1', 'Ikzf3', 'Irf9', 'Junb', 'Lyl1', 'Mlxipl', 'Nr3c1', 'Nr5a1', 'Pou2f2', 'Rorc', 'Spi1', 'Stat2', 'Twist2', 'Vdr', 'Zfp112', 'Zfp146', 'Zfp160', 'Zfp605', 'Zfp711', 'Zfp763', 'Zfp9', 'Zfp931', 'Zfp959', 'Creb3l2', 'Fos', 'Gli1', 'Hoxc8', 'Id1', 'Irf9', 'Npas2', 'Nr0b2', 'Nr1h5', 'Nr5a1', 'Runx1', 'Stat2', 'Tbx18', 'Zfp300', 'Zfp521', 'Zfp738', 'Zfp9', 'Zfp959', 'Aff2', 'Ahr', 'Arx', 'Atf3', 'Atf5', 'Bnc2', 'Cebpa', 'Cebpb', 'Creb3l1', 'Creb5', 'Dlx5', 'Ebf1', 'Egr4', 'Elk1', 'Ets1', 'Gata1', 'Gli1', 'Gm15446', 'Heyl', 'Hlf', 'Hmgb4', 'Hoxb3', 'Hoxc6', 'Hoxc8', 'Hoxc9', 'Hoxd4', 'Id3', 'Irf1', 'Irf8', 'Irf9', 'Jund', 'Klf6', 'Lhx1', 'Lhx9', 'Lyl1', 'Maf', 'Mafb', 'Meis2', 'Nfatc2', 'Npas2', 'Nr1h5', 'Nr2c2', 'Nr2f2', 'Osr1', 'Osr2', 'Pax2', 'Pbx1', 'Pgr', 'Pou2f2', 'Prdm5', 'Prrx1', 'Rnf138', 'Rora', 'Sall2', 'Sox5', 'Sp100', 'Tbx2', 'Tbx3', 'Tcf21', 'Tead1', 'Tead2', 'Tfam', 'Thrb', 'Trerf1', 'Trps1', 'Tshz3', 'Twist1', 'Zbtb8b', 'Zfp111', 'Zfp459', 'Zfp521', 'Zfp579', 'Zfp712', 'Zfp760', 'Zfp763', 'Zfp946', 'Zfp947', '2610008E11Rik', '2700081O15Rik', '4930522L14Rik', '5430403G16Rik', 'AW146154', 'Aff1', 'Aff2', 'Ar', 'Arid1b', 'Arid4a', 'Arid5a', 'Arid5b', 'Arnt2', 'Atf5', 'Bcl11b', 'Bhlhe40', 'Bnc2', 'Cebpa', 'Cebpb', 'Clock', 'Creb1', 'Creb3', 'Creb5', 'Csdc2', 'Cux2', 'Dbp', 'Dlx5', 'Dmrt1', 'Dmrta1', 'E2f3', 'E430018J23Rik', 'E4f1', 'Ebf1', 'Egr1', 'Egr4', 'Elf1', 'Elk4', 'Ets1', 'Ets2', 'Etv1', 'Etv5', 'Fli1', 'Fosb', 'Foxj2', 'Foxj3', 'Foxn2', 'Foxn3', 'Foxo3', 'Foxo6', 'Foxp4', 'Foxq1', 'Foxs1', 'Gata1', 'Gata4', 'Gata6', 'Gm15446', 'Helt', 'Hes1', 'Hes6', 'Hivep2', 'Hivep3', 'Hlf', 'Hmbox1', 'Hmg20a', 'Hmg20b', 'Hmgb2', 'Hmgb3', 'Hmgb4', 'Hmgxb4', 'Hopx', 'Hoxb3', 'Hoxb9', 'Hoxc8', 'Hoxc9', 'Hoxd4', 'Hoxd9', 'Id1', 'Id2', 'Id3', 'Ikzf1', 'Ikzf3', 'Irf1', 'Irf2', 'Irf5', 'Irf7', 'Irf8', 'Jun', 'Junb', 'Jund', 'Kdm5c', 'Klf13', 'Klf16', 'Klf2', 'Klf3', 'Klf4', 'Klf6', 'Klf7', 'L3mbtl4', 'Lhx1', 'Lhx9', 'Litaf', 'Lyl1', 'Maf', 'Mafb', 'Mafg', 'Mafk', 'Max', 'Mecp2', 'Mef2a', 'Mef2c', 'Meis1', 'Meis2', 'Mga', 'Mitf', 'Mlxip', 'Mycn', 'Nfat5', 'Nfatc2', 'Nfatc3', 'Nfe2l2', 'Nfia', 'Nfib', 'Nfic', 'Nfix', 'Nfkb1', 'Nfkb2', 'Nfx1', 'Nfyb', 'Npas2', 'Nr0b2', 'Nr1d1', 'Nr1d2', 'Nr1h2', 'Nr1h5', 'Nr2c2', 'Nr2f2', 'Nr2f6', 'Nr3c1', 'Nr3c2', 'Nr4a1', 'Nr5a1', 'Osr2', 'Pax1', 'Pax2', 'Pbx1', 'Pbx3', 'Peg3', 'Pgr', 'Pias3', 'Plag1', 'Plagl1', 'Pou5f1', 'Prdm5', 'Prdm9', 'Prox1', 'Prrx1', 'Prrx2', 'Rara', 'Rel', 'Rela', 'Relb', 'Rest', 'Rlf', 'Rnf138', 'Rora', 'Rorc', 'Rreb1', 'Runx1', 'Satb1', 'Scrt1', 'Scx', 'Smad3', 'Smad5', 'Smad7', 'Sox12', 'Sox4', 'Sox5', 'Sox8', 'Sox9', 'Sp100', 'Sp4', 'Spi1', 'Srebf1', 'Stat1', 'Stat3', 'Stat5b', 'Stat6', 'Tbx18', 'Tcf12', 'Tcf21', 'Tcf4', 'Tcf7l2', 'Tead1', 'Tead2', 'Tef', 'Tfam', 'Tfdp2', 'Tgif2', 'Thap3', 'Thra', 'Thrb', 'Tox', 'Tox2', 'Trerf1', 'Trp53', 'Trps1', 'Tshz1', 'Tshz2', 'Tulp3', 'Ubtf', 'Usf1', 'Vdr', 'Vezf1', 'Wt1', 'Xbp1', 'Zbtb20', 'Zbtb37', 'Zbtb38', 'Zbtb43', 'Zbtb7a', 'Zbtb7b', 'Zeb2', 'Zfhx2', 'Zfhx4', 'Zfp101', 'Zfp119b', 'Zfp120', 'Zfp141', 'Zfp146', 'Zfp160', 'Zfp2', 'Zfp219', 'Zfp229', 'Zfp251', 'Zfp266', 'Zfp275', 'Zfp292', 'Zfp300', 'Zfp322a', 'Zfp37', 'Zfp398', 'Zfp408', 'Zfp444', 'Zfp449', 'Zfp459', 'Zfp46', 'Zfp52', 'Zfp532', 'Zfp536', 'Zfp553', 'Zfp583', 'Zfp605', 'Zfp606', 'Zfp618', 'Zfp623', 'Zfp64', 'Zfp655', 'Zfp697', 'Zfp710', 'Zfp711', 'Zfp712', 'Zfp738', 'Zfp74', 'Zfp740', 'Zfp760', 'Zfp763', 'Zfp790', 'Zfp820', 'Zfp827', 'Zfp84', 'Zfp846', 'Zfp871', 'Zfp874b', 'Zfp90', 'Zfp931', 'Zfp932', 'Zfp945', 'Zfp946', 'Zfp947', 'Zfp948', 'Zfp952', 'Zfpm1', 'Zfx', 'Zhx2', 'Zic3', 'Zic5', 'Zkscan3', 'Zmiz1', '5430403G16Rik', 'A430033K04Rik', 'Aff1', 'Ar', 'Arid1b', 'Arid4a', 'Arid5b', 'Arnt2', 'Bach1', 'Bnc2', 'Cebpa', 'Creb1', 'Creb3l2', 'Creb5', 'Dbp', 'Dlx5', 'E430018J23Rik', 'Elf1', 'Elk1', 'Ets1', 'Fos', 'Fosb', 'Fosl2', 'Foxj3', 'Foxn3', 'Foxo3', 'Foxs1', 'Gata1', 'Gata6', 'Gm15446', 'Hes1', 'Hivep3', 'Hmbox1', 'Hmgb4', 'Hopx', 'Hoxb3', 'Hoxc4', 'Hoxc9', 'Hoxd9', 'Id1', 'Id2', 'Id3', 'Ikzf3', 'Irf2', 'Jund', 'Kdm5c', 'Klf2', 'Klf3', 'L3mbtl4', 'Lhx1', 'Lhx9', 'Litaf', 'Mafb', 'Mecp2', 'Mef2c', 'Meis2', 'Mitf', 'Mlxipl', 'Nfat5', 'Nfatc3', 'Nfix', 'Nfkb2', 'Nfyb', 'Npas2', 'Nr1d1', 'Nr1h2', 'Nr2f6', 'Nr3c2', 'Pax2', 'Pbx1', 'Pbx3', 'Pgr', 'Plagl1', 'Pou2f2', 'Prdm9', 'Prrx2', 'Rel', 'Rela', 'Rlf', 'Rora', 'Rreb1', 'Runx1', 'Satb1', 'Smad5', 'Sox4', 'Sox5', 'Spi1', 'Stat1', 'Stat5b', 'Tbx18', 'Tbx3', 'Tcf21', 'Tcf7l2', 'Tead1', 'Tead2', 'Tef', 'Tfam', 'Tgif2', 'Thap3', 'Tox', 'Tox2', 'Trerf1', 'Trps1', 'Tshz2', 'Twist2', 'Vdr', 'Wt1', 'Zbtb20', 'Zbtb37', 'Zbtb38', 'Zbtb8b', 'Zfhx2', 'Zfhx4', 'Zfp111', 'Zfp112', 'Zfp141', 'Zfp146', 'Zfp182', 'Zfp219', 'Zfp229', 'Zfp266', 'Zfp37', 'Zfp459', 'Zfp52', 'Zfp532', 'Zfp536', 'Zfp553', 'Zfp605', 'Zfp618', 'Zfp64', 'Zfp655', 'Zfp697', 'Zfp711', 'Zfp712', 'Zfp738', 'Zfp790', 'Zfp846', 'Zfp871', 'Zfp874b', 'Zfp931', 'Zfp932', 'Zfp945', 'Zfp947', 'Zic3', 'Zic5', 'Zkscan3', 'Zmiz1', 'Ahr', 'Atf3', 'Fosl2', 'Gli1', 'Heyl', 'Hopx', 'Hoxc4', 'Hoxc6', 'Irf9', 'Mlxipl', 'Nfia', 'Nr0b2', 'Nr2f6', 'Nr5a1', 'Peg3', 'Pou2f2', 'Prdm5', 'Rhox13', 'Scrt1', 'Tfdp2', 'Twist2', 'Zfp112', 'Zfp579', 'Zfp697', 'Zfp9', 'Zfp948', 'Zfp952', 'Zhx2')"
   ]
  },
  {
   "cell_type": "code",
   "execution_count": 33,
   "id": "2450ed71-6480-4813-8045-7aea7e249f4a",
   "metadata": {},
   "outputs": [
    {
     "data": {
      "text/html": [
       "<style>\n",
       ".list-inline {list-style: none; margin:0; padding: 0}\n",
       ".list-inline>li {display: inline-block}\n",
       ".list-inline>li:not(:last-child)::after {content: \"\\00b7\"; padding: 0 .5ex}\n",
       "</style>\n",
       "<ol class=list-inline><li>'Mef2a'</li><li>'Nfia'</li></ol>\n"
      ],
      "text/latex": [
       "\\begin{enumerate*}\n",
       "\\item 'Mef2a'\n",
       "\\item 'Nfia'\n",
       "\\end{enumerate*}\n"
      ],
      "text/markdown": [
       "1. 'Mef2a'\n",
       "2. 'Nfia'\n",
       "\n",
       "\n"
      ],
      "text/plain": [
       "[1] \"Mef2a\" \"Nfia\" "
      ]
     },
     "metadata": {},
     "output_type": "display_data"
    }
   ],
   "source": [
    "intersect(atlas_FE_more_than_1$Antigen, celloracle_all)"
   ]
  },
  {
   "cell_type": "code",
   "execution_count": 6,
   "id": "7d33c10e-1dd2-4ae9-ae70-08958846d7cc",
   "metadata": {},
   "outputs": [
    {
     "data": {
      "text/html": [
       "'Arid5a, Stat1, Klf7, Creb1, Hes6, Elk4, Lhx9, Usf1, Plagl1, Hivep2, Arid5b, Tfam, Klf16, Zbtb7a, Nfyb, Stat6, Stat2, Xbp1, Ikzf1, Rel, Ebf1, Zfp2, Irf1, Srebf1, Trp53, Hlf, Hoxb9, Hoxb3, Thra, Nr1d1, Rara, Stat5b, Stat3, Ubtf, Mafg, Mycn, Id2, Etv1, Max, Fos, Foxn3, Sp4, Klf6, Zkscan3, E2f3, Foxq1, Smad5, Zfp874b, Zfp738, Nr1d2, Zmiz1, Zfp219, Zfhx2, Irf9, Gata4, Hmbox1, Elf1, Zic5, Osr2, Trps1, Zhx2, Zfp623, Scrt1, Tef, Nr4a1, Zfp740, Hoxc9, Hoxc4, Litaf, Etv5, Hes1, Bach1, Ets2, Zfp160, Zfp948, Zfp760, Zfp946, Zfp871, Pou5f1, Trerf1, Foxp4, Satb1, Zfp959, Zfp119b, Foxn2, Zfp521, Rnf138, Egr1, Zfp532, Tcf4, Smad7, Tshz1, Rela, Pax2, Tcf7l2, Zbtb43, Nfe2l2, Meis2, Mga, Sox12, Tgif2, Zfp64, Tshz2, Zbtb7b, Pias3, Zfp292, Nfx1, Klf4, Zfp37, Bnc2, Nfia, Foxj3, Hivep3, Foxo6, Rlf, Id3, Fosl2, Klf3, Clock, Rest, Aff1, Tbx3, Cux2, Mlxip, Mafk, Zfp655, Zfp398, Nr2c2, Mitf, Zfp583, Peg3, Fosb, Zfp111, Pou2f2, Zfp84, Zfp74, Zfp146, AW146154, Tead2, Mef2a, Zfp710, Arnt2, Tead1, Zfp553, Hmgb2, Jund, Nr2f6, Klf2, Hmgxb4, Zfp827, Nfix, Junb, Nfatc3, Zfp90, Nfat5, Maf, Irf8, Zfpm1, Zfp846, Ets1, Rora, Tcf12, Tbx18, Tfdp2, Zbtb38, Mecp2'"
      ],
      "text/latex": [
       "'Arid5a, Stat1, Klf7, Creb1, Hes6, Elk4, Lhx9, Usf1, Plagl1, Hivep2, Arid5b, Tfam, Klf16, Zbtb7a, Nfyb, Stat6, Stat2, Xbp1, Ikzf1, Rel, Ebf1, Zfp2, Irf1, Srebf1, Trp53, Hlf, Hoxb9, Hoxb3, Thra, Nr1d1, Rara, Stat5b, Stat3, Ubtf, Mafg, Mycn, Id2, Etv1, Max, Fos, Foxn3, Sp4, Klf6, Zkscan3, E2f3, Foxq1, Smad5, Zfp874b, Zfp738, Nr1d2, Zmiz1, Zfp219, Zfhx2, Irf9, Gata4, Hmbox1, Elf1, Zic5, Osr2, Trps1, Zhx2, Zfp623, Scrt1, Tef, Nr4a1, Zfp740, Hoxc9, Hoxc4, Litaf, Etv5, Hes1, Bach1, Ets2, Zfp160, Zfp948, Zfp760, Zfp946, Zfp871, Pou5f1, Trerf1, Foxp4, Satb1, Zfp959, Zfp119b, Foxn2, Zfp521, Rnf138, Egr1, Zfp532, Tcf4, Smad7, Tshz1, Rela, Pax2, Tcf7l2, Zbtb43, Nfe2l2, Meis2, Mga, Sox12, Tgif2, Zfp64, Tshz2, Zbtb7b, Pias3, Zfp292, Nfx1, Klf4, Zfp37, Bnc2, Nfia, Foxj3, Hivep3, Foxo6, Rlf, Id3, Fosl2, Klf3, Clock, Rest, Aff1, Tbx3, Cux2, Mlxip, Mafk, Zfp655, Zfp398, Nr2c2, Mitf, Zfp583, Peg3, Fosb, Zfp111, Pou2f2, Zfp84, Zfp74, Zfp146, AW146154, Tead2, Mef2a, Zfp710, Arnt2, Tead1, Zfp553, Hmgb2, Jund, Nr2f6, Klf2, Hmgxb4, Zfp827, Nfix, Junb, Nfatc3, Zfp90, Nfat5, Maf, Irf8, Zfpm1, Zfp846, Ets1, Rora, Tcf12, Tbx18, Tfdp2, Zbtb38, Mecp2'"
      ],
      "text/markdown": [
       "'Arid5a, Stat1, Klf7, Creb1, Hes6, Elk4, Lhx9, Usf1, Plagl1, Hivep2, Arid5b, Tfam, Klf16, Zbtb7a, Nfyb, Stat6, Stat2, Xbp1, Ikzf1, Rel, Ebf1, Zfp2, Irf1, Srebf1, Trp53, Hlf, Hoxb9, Hoxb3, Thra, Nr1d1, Rara, Stat5b, Stat3, Ubtf, Mafg, Mycn, Id2, Etv1, Max, Fos, Foxn3, Sp4, Klf6, Zkscan3, E2f3, Foxq1, Smad5, Zfp874b, Zfp738, Nr1d2, Zmiz1, Zfp219, Zfhx2, Irf9, Gata4, Hmbox1, Elf1, Zic5, Osr2, Trps1, Zhx2, Zfp623, Scrt1, Tef, Nr4a1, Zfp740, Hoxc9, Hoxc4, Litaf, Etv5, Hes1, Bach1, Ets2, Zfp160, Zfp948, Zfp760, Zfp946, Zfp871, Pou5f1, Trerf1, Foxp4, Satb1, Zfp959, Zfp119b, Foxn2, Zfp521, Rnf138, Egr1, Zfp532, Tcf4, Smad7, Tshz1, Rela, Pax2, Tcf7l2, Zbtb43, Nfe2l2, Meis2, Mga, Sox12, Tgif2, Zfp64, Tshz2, Zbtb7b, Pias3, Zfp292, Nfx1, Klf4, Zfp37, Bnc2, Nfia, Foxj3, Hivep3, Foxo6, Rlf, Id3, Fosl2, Klf3, Clock, Rest, Aff1, Tbx3, Cux2, Mlxip, Mafk, Zfp655, Zfp398, Nr2c2, Mitf, Zfp583, Peg3, Fosb, Zfp111, Pou2f2, Zfp84, Zfp74, Zfp146, AW146154, Tead2, Mef2a, Zfp710, Arnt2, Tead1, Zfp553, Hmgb2, Jund, Nr2f6, Klf2, Hmgxb4, Zfp827, Nfix, Junb, Nfatc3, Zfp90, Nfat5, Maf, Irf8, Zfpm1, Zfp846, Ets1, Rora, Tcf12, Tbx18, Tfdp2, Zbtb38, Mecp2'"
      ],
      "text/plain": [
       "[1] \"Arid5a, Stat1, Klf7, Creb1, Hes6, Elk4, Lhx9, Usf1, Plagl1, Hivep2, Arid5b, Tfam, Klf16, Zbtb7a, Nfyb, Stat6, Stat2, Xbp1, Ikzf1, Rel, Ebf1, Zfp2, Irf1, Srebf1, Trp53, Hlf, Hoxb9, Hoxb3, Thra, Nr1d1, Rara, Stat5b, Stat3, Ubtf, Mafg, Mycn, Id2, Etv1, Max, Fos, Foxn3, Sp4, Klf6, Zkscan3, E2f3, Foxq1, Smad5, Zfp874b, Zfp738, Nr1d2, Zmiz1, Zfp219, Zfhx2, Irf9, Gata4, Hmbox1, Elf1, Zic5, Osr2, Trps1, Zhx2, Zfp623, Scrt1, Tef, Nr4a1, Zfp740, Hoxc9, Hoxc4, Litaf, Etv5, Hes1, Bach1, Ets2, Zfp160, Zfp948, Zfp760, Zfp946, Zfp871, Pou5f1, Trerf1, Foxp4, Satb1, Zfp959, Zfp119b, Foxn2, Zfp521, Rnf138, Egr1, Zfp532, Tcf4, Smad7, Tshz1, Rela, Pax2, Tcf7l2, Zbtb43, Nfe2l2, Meis2, Mga, Sox12, Tgif2, Zfp64, Tshz2, Zbtb7b, Pias3, Zfp292, Nfx1, Klf4, Zfp37, Bnc2, Nfia, Foxj3, Hivep3, Foxo6, Rlf, Id3, Fosl2, Klf3, Clock, Rest, Aff1, Tbx3, Cux2, Mlxip, Mafk, Zfp655, Zfp398, Nr2c2, Mitf, Zfp583, Peg3, Fosb, Zfp111, Pou2f2, Zfp84, Zfp74, Zfp146, AW146154, Tead2, Mef2a, Zfp710, Arnt2, Tead1, Zfp553, Hmgb2, Jund, Nr2f6, Klf2, Hmgxb4, Zfp827, Nfix, Junb, Nfatc3, Zfp90, Nfat5, Maf, Irf8, Zfpm1, Zfp846, Ets1, Rora, Tcf12, Tbx18, Tfdp2, Zbtb38, Mecp2\""
      ]
     },
     "metadata": {},
     "output_type": "display_data"
    }
   ],
   "source": [
    "paste0(intersect(promoter_genes$SYMBOL, celloracle_all), collapse=', ')"
   ]
  },
  {
   "cell_type": "code",
   "execution_count": null,
   "id": "b101bf12-cda8-47c7-8e65-f5c3d53d7aab",
   "metadata": {},
   "outputs": [],
   "source": []
  }
 ],
 "metadata": {
  "kernelspec": {
   "display_name": "chip-seq-kernel-R",
   "language": "R",
   "name": "chip-seq-kernel-r"
  },
  "language_info": {
   "codemirror_mode": "r",
   "file_extension": ".r",
   "mimetype": "text/x-r-source",
   "name": "R",
   "pygments_lexer": "r",
   "version": "4.4.2"
  }
 },
 "nbformat": 4,
 "nbformat_minor": 5
}
