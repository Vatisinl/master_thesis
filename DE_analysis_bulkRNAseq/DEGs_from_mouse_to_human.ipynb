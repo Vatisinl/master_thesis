{
 "cells": [
  {
   "cell_type": "code",
   "execution_count": 1,
   "id": "78befa5c-7f92-4f71-86cd-9a5b2480f127",
   "metadata": {},
   "outputs": [
    {
     "name": "stderr",
     "output_type": "stream",
     "text": [
      "\n",
      "Attaching package: ‘dplyr’\n",
      "\n",
      "\n",
      "The following objects are masked from ‘package:stats’:\n",
      "\n",
      "    filter, lag\n",
      "\n",
      "\n",
      "The following objects are masked from ‘package:base’:\n",
      "\n",
      "    intersect, setdiff, setequal, union\n",
      "\n",
      "\n"
     ]
    }
   ],
   "source": [
    "library(babelgene)\n",
    "library(dplyr)"
   ]
  },
  {
   "cell_type": "code",
   "execution_count": 2,
   "id": "b9d853ed-e54e-421d-8190-33698ac71d05",
   "metadata": {},
   "outputs": [],
   "source": [
    "sign_genes <- read.csv('significant_genes.csv')"
   ]
  },
  {
   "cell_type": "code",
   "execution_count": 14,
   "id": "a28e52ee-abf6-4024-aed7-406c286f1a14",
   "metadata": {},
   "outputs": [],
   "source": [
    "write.csv(sign_genes$SYMBOL, 'mouse_sign_genes_entrez_gene_names.csv', row.names=FALSE, quote =FALSE)"
   ]
  },
  {
   "cell_type": "code",
   "execution_count": 5,
   "id": "961c2e47-1f45-4c9b-a1d6-27c2d2340bd6",
   "metadata": {},
   "outputs": [],
   "source": [
    "human_sign_genes <- orthologs(sign_genes$gene, 'Mus musculus', human = FALSE, min_support = 3, top = TRUE)"
   ]
  },
  {
   "cell_type": "code",
   "execution_count": 14,
   "id": "eb6c662d-bdbb-429d-bd3a-d12b8afe5e96",
   "metadata": {},
   "outputs": [],
   "source": [
    "write.csv(noquote(human_sign_genes[,1]), 'significant_genes_but_human.csv', row.names=FALSE, quote = FALSE)"
   ]
  }
 ],
 "metadata": {
  "kernelspec": {
   "display_name": "Python 3 (ipykernel)",
   "language": "python",
   "name": "python3"
  },
  "language_info": {
   "codemirror_mode": {
    "name": "ipython",
    "version": 3
   },
   "file_extension": ".py",
   "mimetype": "text/x-python",
   "name": "python",
   "nbconvert_exporter": "python",
   "pygments_lexer": "ipython3",
   "version": "3.12.5"
  }
 },
 "nbformat": 4,
 "nbformat_minor": 5
}
